{
 "cells": [
  {
   "cell_type": "markdown",
   "metadata": {},
   "source": [
    "# Simple tests for the planar diagnostics\n",
    "\n",
    "Note - sometimes if you're visually comparing the output files with numbers calculated in numpy beware that apparent small differences can just be due to  the precision in the writeout. If you like change the line `const int outfilePrecision = 10;` in `MaestroDiag.cpp` to have more precision."
   ]
  },
  {
   "cell_type": "code",
   "execution_count": 1,
   "metadata": {},
   "outputs": [],
   "source": [
    "%matplotlib inline\n",
    "import numpy as np\n",
    "import matplotlib.pyplot as plt\n",
    "plt.rcParams['figure.figsize'] = [10, 5]\n",
    "import yt\n",
    "##yt.mylog.setLevel()\n",
    "yt.utilities.logger.disable_stream_logging()"
   ]
  },
  {
   "cell_type": "code",
   "execution_count": 2,
   "metadata": {},
   "outputs": [],
   "source": [
    "dataDir = 'single_level/'\n",
    "baseName = 'plt'"
   ]
  },
  {
   "cell_type": "code",
   "execution_count": 3,
   "metadata": {},
   "outputs": [],
   "source": [
    "ds = yt.load(dataDir + baseName + '0000001') # LOAD AT PLT 1 - intended that that corresponds to step==1"
   ]
  },
  {
   "cell_type": "code",
   "execution_count": 4,
   "metadata": {},
   "outputs": [],
   "source": [
    "#ds.field_list"
   ]
  },
  {
   "cell_type": "code",
   "execution_count": 5,
   "metadata": {},
   "outputs": [],
   "source": [
    "dx, dy, dz = ds.domain_width / ds.domain_dimensions # think this is ok for single level / UG"
   ]
  },
  {
   "cell_type": "markdown",
   "metadata": {},
   "source": [
    "## diag_vel.out"
   ]
  },
  {
   "cell_type": "markdown",
   "metadata": {},
   "source": [
    "Look at the file (assuming its only a few rows)"
   ]
  },
  {
   "cell_type": "code",
   "execution_count": 6,
   "metadata": {},
   "outputs": [
    {
     "name": "stdout",
     "output_type": "stream",
     "text": [
      "time                max{U}              max{Mach}           tot kin energy      tot grav energy     tot int energy      dt                  \n",
      "0.0000000000e+00    0.0000000000e+00    0.0000000000e+00    0.0000000000e+00    2.6425129002e+21    9.4816020347e+30    1.9887378221e-01    \n",
      "1.9887378221e-01    5.5741349954e-24    7.8830693304e-31    2.0558712522e-30    2.6425129002e+21    9.4816020347e+30    1.9887378221e-01    \n",
      "4.1763494264e-01    6.1172091860e-24    8.6510972844e-31    2.4786167803e-30    2.6425129002e+21    9.4816020347e+30    2.1876116043e-01    \n",
      "6.5827221911e-01    6.7287893357e-24    9.5160079343e-31    2.9970504039e-30    2.6425129002e+21    9.4816020347e+30    2.4063727647e-01    \n",
      "9.2297322323e-01    7.4061684739e-24    1.0473973020e-30    3.6311173749e-30    2.6425129002e+21    9.4816020347e+30    2.6470100412e-01    \n",
      "1.2141443278e+00    8.1461824805e-24    1.1520517771e-30    4.3956320691e-30    2.6425129002e+21    9.4816020347e+30    2.9117110453e-01    \n",
      "1.5344325427e+00    8.9657346165e-24    1.2679547165e-30    5.3243322850e-30    2.6425129002e+21    9.4816020347e+30    3.2028821498e-01    \n",
      "1.8867495792e+00    9.8633042577e-24    1.3948910702e-30    6.4401090630e-30    2.6425129002e+21    9.4816020347e+30    3.5231703648e-01    \n",
      "2.2742983194e+00    1.0845669560e-23    1.5338194204e-30    7.7882261373e-30    2.6425129002e+21    9.4816020347e+30    3.8754874013e-01    \n",
      "2.7006019335e+00    1.1932252158e-23    1.6874864190e-30    9.4322378051e-30    2.6425129002e+21    9.4816020347e+30    4.2630361414e-01    \n",
      "3.1695359091e+00    1.3135960985e-23    1.8577176773e-30    1.1436602645e-29    2.6425129002e+21    9.4816020347e+30    4.6893397556e-01    \n"
     ]
    }
   ],
   "source": [
    "cat diag_vel.out"
   ]
  },
  {
   "cell_type": "markdown",
   "metadata": {},
   "source": [
    "Load up data needed for velocities and kinetic energy calculation"
   ]
  },
  {
   "cell_type": "code",
   "execution_count": 7,
   "metadata": {},
   "outputs": [],
   "source": [
    "all_data_level_0 = ds.covering_grid(level=0, left_edge=[0,0.0,0.0], dims=[64, 64, 1])\n",
    "vx = all_data_level_0['velx']\n",
    "vx = vx[:,:,0].transpose()\n",
    "vy = all_data_level_0['vely']\n",
    "vy = vy[:,:,0].transpose()\n",
    "rho = all_data_level_0['rho']\n",
    "rho = rho[:,:,0].transpose()\n",
    "w0y = all_data_level_0['w0y']\n",
    "w0y = w0y[:,:,0].transpose()\n",
    "vel = np.sqrt(vx**2 + (vy+w0y)**2)"
   ]
  },
  {
   "cell_type": "markdown",
   "metadata": {},
   "source": [
    "Whats the maximum velocity according to the plotfile data? (Compare this to the max{U} col at the correspoding time)"
   ]
  },
  {
   "cell_type": "code",
   "execution_count": 8,
   "metadata": {},
   "outputs": [
    {
     "data": {
      "text/plain": [
       "5.574134995444917e-24 dimensionless"
      ]
     },
     "execution_count": 8,
     "metadata": {},
     "output_type": "execute_result"
    }
   ],
   "source": [
    "np.max(vel) "
   ]
  },
  {
   "cell_type": "markdown",
   "metadata": {},
   "source": [
    "Whats the total kinetic energy according to the data in the plotfile? (The recorded value by the code currently ignores the factor 0.5, and will Normalise for dA or dV)\n",
    "Compare this to the \"tot kin energy\" column at the appropriate time)"
   ]
  },
  {
   "cell_type": "code",
   "execution_count": 9,
   "metadata": {},
   "outputs": [
    {
     "data": {
      "text/plain": [
       "2.0558712521914724e-30 code_length**2"
      ]
     },
     "execution_count": 9,
     "metadata": {},
     "output_type": "execute_result"
    }
   ],
   "source": [
    "ke = 0.5 * rho * vel**2\n",
    "np.sum(2. * ke *dx * dy)"
   ]
  },
  {
   "cell_type": "markdown",
   "metadata": {},
   "source": [
    "Whats the total internal energy according to the data in the plotfile? I had to look inside the EOS code to see how this is calculated"
   ]
  },
  {
   "cell_type": "code",
   "execution_count": 10,
   "metadata": {},
   "outputs": [],
   "source": [
    "T = all_data_level_0['tfromp']\n",
    "T = T[:,:,0].transpose()"
   ]
  },
  {
   "cell_type": "code",
   "execution_count": 11,
   "metadata": {},
   "outputs": [],
   "source": [
    "k_B = 1.3806488e-16   # erg/K\n",
    "n_A = 6.02214129e23  # mol^-1\n",
    "R = k_B * n_A\n",
    "\n",
    "mu = 1\n",
    "\n",
    "gamma = 5./3.\n",
    "cv = R /mu / (gamma-1)\n",
    "eint = cv * T "
   ]
  },
  {
   "cell_type": "code",
   "execution_count": 12,
   "metadata": {},
   "outputs": [],
   "source": [
    "test = np.sum(eint*rho * dx**2)"
   ]
  },
  {
   "cell_type": "code",
   "execution_count": 13,
   "metadata": {},
   "outputs": [
    {
     "data": {
      "text/plain": [
       "9.481602034658219e+30"
      ]
     },
     "execution_count": 13,
     "metadata": {},
     "output_type": "execute_result"
    }
   ],
   "source": [
    "np.float(test)\n"
   ]
  },
  {
   "cell_type": "markdown",
   "metadata": {},
   "source": [
    "Whats the maximum mach number?"
   ]
  },
  {
   "cell_type": "code",
   "execution_count": 14,
   "metadata": {},
   "outputs": [
    {
     "name": "stdout",
     "output_type": "stream",
     "text": [
      "7.8830693304476635e-31 dimensionless\n"
     ]
    }
   ],
   "source": [
    "rho = all_data_level_0['rho']\n",
    "rho = rho[:,:,0].transpose()\n",
    "p = all_data_level_0['p0']\n",
    "p = p[:,:,0].transpose()\n",
    "cs = np.sqrt(gamma * p / rho)\n",
    "mach = vel / cs\n",
    "\n",
    "print( np.max(mach))"
   ]
  },
  {
   "cell_type": "markdown",
   "metadata": {},
   "source": [
    "### Whats the gravitational potential energy?"
   ]
  },
  {
   "cell_type": "markdown",
   "metadata": {},
   "source": [
    "#### Definition\n",
    "\n",
    "Note $g=-\\frac{d \\Phi(r)}{dr}$ with boundary condition $\\Phi(r)=0$ (wlog) and constant gravity gives $\\Phi=-gr$.\n",
    "\n",
    "Note that $\\Phi$ has units of length squared / time squared (in cgs cm^2/s^2) which can be thought of as energy per unit mass\n",
    "\n",
    "So an energy density can be defined \n",
    "\n",
    "$\\rho \\Phi = - \\rho g r$ \n",
    "\n",
    "This then can be evaluated with an appropriate volume integral (or area integral for a \"2D energy\")"
   ]
  },
  {
   "cell_type": "markdown",
   "metadata": {},
   "source": [
    "#### Anayltical expectation for the lgw base state\n",
    "\n",
    "The integral along the base state line is\n",
    "\n",
    "$GE = -g \\int_0^H \\rho_0 r dr = -g \\rho_{base} \\int_0^H r e^{-r/H} dr $\n",
    "\n",
    "$= -g \\rho_{base} \\left[-He^{-r/H}(H+R)\\right]_0^{H}$\n",
    "\n",
    "$= -g \\rho_{base} H^2 [1-2e^{-1}] = -g \\rho_{base} H^2 \\times 0.26424111765$\n",
    "\n",
    "This should then probabally be multiplied by the length in x to account for the rest of the integral over our 2d plane\n",
    "\n"
   ]
  },
  {
   "cell_type": "markdown",
   "metadata": {},
   "source": [
    "For our implementation in maestro it seems pretty close, and I expect the difference is more to due with the numeric representation of our nominal base state rather than the way in which we calculate grav energy:"
   ]
  },
  {
   "cell_type": "code",
   "execution_count": 15,
   "metadata": {},
   "outputs": [
    {
     "name": "stdout",
     "output_type": "stream",
     "text": [
      "2.6424111765711534e+21 2.642411176571153e+30\n"
     ]
    }
   ],
   "source": [
    "g=-3e4 # if the input file is changed these need to be\n",
    "H=1e9\n",
    "r=1/3\n",
    "\n",
    "U = -g * r * H**2 * (1-2*np.exp(-1))\n",
    "print(U, U*1e9)"
   ]
  },
  {
   "cell_type": "code",
   "execution_count": 16,
   "metadata": {},
   "outputs": [
    {
     "name": "stdout",
     "output_type": "stream",
     "text": [
      "1.000038496517782\n",
      "3.84965177820839e-05\n",
      "1.0172362884644864e+26\n"
     ]
    }
   ],
   "source": [
    "Uout = 2.6425129002e21 #version manually entered copy and pasted from diag file\n",
    "print(Uout / U)\n",
    "print((Uout-U)/U)\n",
    "print((Uout-U)*1e9)"
   ]
  },
  {
   "cell_type": "markdown",
   "metadata": {},
   "source": [
    "## diag_temp.out"
   ]
  },
  {
   "cell_type": "code",
   "execution_count": 17,
   "metadata": {},
   "outputs": [
    {
     "name": "stdout",
     "output_type": "stream",
     "text": [
      "time                max{T}              x(max{T})           y(max{T})           z(max{T})           vx(max{T})          vy(max{T})          vz(max{T})          \n",
      "0.0000000000e+00    3.6081708564e+05    7.8125000000e+06    7.8125000000e+06    0.0000000000e+00    0.0000000000e+00    0.0000000000e+00    0.0000000000e+00    \n",
      "1.9887378221e-01    3.6081708564e+05    7.8125000000e+06    7.8125000000e+06    0.0000000000e+00    -5.3180202686e-25   -1.5263408823e-24   0.0000000000e+00    \n",
      "4.1763494264e-01    3.6081708564e+05    7.8125000000e+06    7.8125000000e+06    0.0000000000e+00    -6.0777374498e-25   -1.6472049793e-24   0.0000000000e+00    \n",
      "6.5827221911e-01    3.6081708564e+05    7.8125000000e+06    7.8125000000e+06    0.0000000000e+00    -6.6302590361e-25   -1.7956951556e-24   0.0000000000e+00    \n",
      "9.2297322323e-01    3.6081708564e+05    7.8125000000e+06    7.8125000000e+06    0.0000000000e+00    -7.2518458208e-25   -1.9614516315e-24   0.0000000000e+00    \n",
      "1.2141443278e+00    3.6081708564e+05    7.8125000000e+06    7.8125000000e+06    0.0000000000e+00    -8.0115630020e-25   -2.1410211471e-24   0.0000000000e+00    \n",
      "1.5344325427e+00    3.6081708564e+05    7.8125000000e+06    7.8125000000e+06    0.0000000000e+00    -8.4950193901e-25   -2.3758428213e-24   0.0000000000e+00    \n",
      "1.8867495792e+00    3.6081708564e+05    7.8125000000e+06    7.8125000000e+06    0.0000000000e+00    -9.6000625628e-25   -2.5968514558e-24   0.0000000000e+00    \n",
      "2.2742983194e+00    3.6081708564e+05    7.8125000000e+06    7.8125000000e+06    0.0000000000e+00    -1.0152584149e-24   -2.8454861697e-24   0.0000000000e+00    \n",
      "2.7006019335e+00    3.6081708564e+05    7.8125000000e+06    7.8125000000e+06    0.0000000000e+00    -1.1810148908e-24   -3.1424665223e-24   0.0000000000e+00    \n",
      "3.1695359091e+00    3.6081708564e+05    7.8125000000e+06    7.8125000000e+06    0.0000000000e+00    -1.2431735693e-24   -3.4463533948e-24   0.0000000000e+00    \n"
     ]
    }
   ],
   "source": [
    "cat diag_temp.out"
   ]
  },
  {
   "cell_type": "code",
   "execution_count": 18,
   "metadata": {},
   "outputs": [
    {
     "name": "stdout",
     "output_type": "stream",
     "text": [
      "360817.0856409371 dimensionless\n"
     ]
    }
   ],
   "source": [
    "T = all_data_level_0['tfromh']\n",
    "T = T[:,:,0].transpose()\n",
    "print(np.max(T))"
   ]
  },
  {
   "cell_type": "markdown",
   "metadata": {},
   "source": [
    "can have a look at the actual coordinates, but its tricky if there are multiple maxima - might want to setup a test where one cell is very hot?"
   ]
  },
  {
   "cell_type": "code",
   "execution_count": 19,
   "metadata": {},
   "outputs": [],
   "source": [
    "iy,ix = np.where( T == np.max(T))"
   ]
  },
  {
   "cell_type": "code",
   "execution_count": 20,
   "metadata": {},
   "outputs": [
    {
     "data": {
      "text/plain": [
       "YTArray([360817.08564094, 360817.08564094, 360817.08564094,\n",
       "         360817.08564094, 360817.08564094, 360817.08564094,\n",
       "         360817.08564094, 360817.08564094, 360817.08564094,\n",
       "         360817.08564094, 360817.08564094, 360817.08564094,\n",
       "         360817.08564094, 360817.08564094, 360817.08564094,\n",
       "         360817.08564094, 360817.08564094, 360817.08564094,\n",
       "         360817.08564094, 360817.08564094, 360817.08564094,\n",
       "         360817.08564094, 360817.08564094, 360817.08564094,\n",
       "         360817.08564094, 360817.08564094, 360817.08564094,\n",
       "         360817.08564094, 360817.08564094, 360817.08564094,\n",
       "         360817.08564094, 360817.08564094, 360817.08564094,\n",
       "         360817.08564094, 360817.08564094, 360817.08564094,\n",
       "         360817.08564094, 360817.08564094, 360817.08564094,\n",
       "         360817.08564094, 360817.08564094, 360817.08564094,\n",
       "         360817.08564094, 360817.08564094, 360817.08564094,\n",
       "         360817.08564094, 360817.08564094, 360817.08564094,\n",
       "         360817.08564094, 360817.08564094, 360817.08564094,\n",
       "         360817.08564094, 360817.08564094, 360817.08564094,\n",
       "         360817.08564094, 360817.08564094, 360817.08564094,\n",
       "         360817.08564094, 360817.08564094, 360817.08564094,\n",
       "         360817.08564094, 360817.08564094, 360817.08564094,\n",
       "         360817.08564094]) (dimensionless)"
      ]
     },
     "execution_count": 20,
     "metadata": {},
     "output_type": "execute_result"
    }
   ],
   "source": [
    "T[iy, ix]"
   ]
  },
  {
   "cell_type": "code",
   "execution_count": 21,
   "metadata": {},
   "outputs": [
    {
     "data": {
      "text/plain": [
       "YTArray([7.812500e+06, 2.343750e+07, 3.906250e+07, 5.468750e+07,\n",
       "         7.031250e+07, 8.593750e+07, 1.015625e+08, 1.171875e+08,\n",
       "         1.328125e+08, 1.484375e+08, 1.640625e+08, 1.796875e+08,\n",
       "         1.953125e+08, 2.109375e+08, 2.265625e+08, 2.421875e+08,\n",
       "         2.578125e+08, 2.734375e+08, 2.890625e+08, 3.046875e+08,\n",
       "         3.203125e+08, 3.359375e+08, 3.515625e+08, 3.671875e+08,\n",
       "         3.828125e+08, 3.984375e+08, 4.140625e+08, 4.296875e+08,\n",
       "         4.453125e+08, 4.609375e+08, 4.765625e+08, 4.921875e+08,\n",
       "         5.078125e+08, 5.234375e+08, 5.390625e+08, 5.546875e+08,\n",
       "         5.703125e+08, 5.859375e+08, 6.015625e+08, 6.171875e+08,\n",
       "         6.328125e+08, 6.484375e+08, 6.640625e+08, 6.796875e+08,\n",
       "         6.953125e+08, 7.109375e+08, 7.265625e+08, 7.421875e+08,\n",
       "         7.578125e+08, 7.734375e+08, 7.890625e+08, 8.046875e+08,\n",
       "         8.203125e+08, 8.359375e+08, 8.515625e+08, 8.671875e+08,\n",
       "         8.828125e+08, 8.984375e+08, 9.140625e+08, 9.296875e+08,\n",
       "         9.453125e+08, 9.609375e+08, 9.765625e+08, 9.921875e+08]) code_length"
      ]
     },
     "execution_count": 21,
     "metadata": {},
     "output_type": "execute_result"
    }
   ],
   "source": [
    "ix * dx + dx/2"
   ]
  },
  {
   "cell_type": "code",
   "execution_count": 22,
   "metadata": {},
   "outputs": [
    {
     "data": {
      "text/plain": [
       "YTArray([7812500., 7812500., 7812500., 7812500., 7812500., 7812500.,\n",
       "         7812500., 7812500., 7812500., 7812500., 7812500., 7812500.,\n",
       "         7812500., 7812500., 7812500., 7812500., 7812500., 7812500.,\n",
       "         7812500., 7812500., 7812500., 7812500., 7812500., 7812500.,\n",
       "         7812500., 7812500., 7812500., 7812500., 7812500., 7812500.,\n",
       "         7812500., 7812500., 7812500., 7812500., 7812500., 7812500.,\n",
       "         7812500., 7812500., 7812500., 7812500., 7812500., 7812500.,\n",
       "         7812500., 7812500., 7812500., 7812500., 7812500., 7812500.,\n",
       "         7812500., 7812500., 7812500., 7812500., 7812500., 7812500.,\n",
       "         7812500., 7812500., 7812500., 7812500., 7812500., 7812500.,\n",
       "         7812500., 7812500., 7812500., 7812500.]) code_length"
      ]
     },
     "execution_count": 22,
     "metadata": {},
     "output_type": "execute_result"
    }
   ],
   "source": [
    "iy * dy + dy/2"
   ]
  },
  {
   "cell_type": "code",
   "execution_count": 23,
   "metadata": {},
   "outputs": [
    {
     "data": {
      "text/plain": [
       "YTArray([-5.31802027e-25, -4.04031410e-25, -4.17844450e-25,\n",
       "         -4.62736829e-25, -4.48923789e-25, -4.21297710e-25,\n",
       "         -4.00578150e-25, -3.66045551e-25, -3.55685771e-25,\n",
       "         -3.28059692e-25, -3.10793392e-25, -2.72807533e-25,\n",
       "         -2.79714053e-25, -2.41728194e-25, -2.48634714e-25,\n",
       "         -2.07195595e-25, -2.03742335e-25, -1.69209736e-25,\n",
       "         -1.65756476e-25, -1.38130397e-25, -1.41583657e-25,\n",
       "         -1.17410837e-25, -1.17410837e-25, -1.07051057e-25,\n",
       "         -1.07051057e-25, -9.32380177e-26, -1.03597797e-25,\n",
       "         -8.63314979e-26, -8.28782380e-26, -6.90651983e-26,\n",
       "         -9.32380177e-26, -7.25184582e-26, -6.90651983e-26,\n",
       "         -5.17988987e-26, -5.17988987e-26, -3.79858591e-26,\n",
       "         -5.17988987e-26, -1.03597797e-26, -4.14391190e-26,\n",
       "         -1.72662996e-26, -3.45325991e-27, -3.45325991e-27,\n",
       "         -6.90651983e-27,  4.48923789e-26,  3.10793392e-26,\n",
       "          9.32380177e-26,  9.32380177e-26,  1.45036916e-25,\n",
       "          1.62303216e-25,  2.52087974e-25,  2.58994494e-25,\n",
       "          3.45325991e-25,  3.41872732e-25,  4.21297710e-25,\n",
       "          4.24750970e-25,  4.80003128e-25,  4.83456388e-25,\n",
       "          5.24895507e-25,  5.35255287e-25,  5.62881366e-25,\n",
       "          6.18133525e-25,  6.45759604e-25,  5.17988987e-25,\n",
       "          9.28926917e-25]) (dimensionless)"
      ]
     },
     "execution_count": 23,
     "metadata": {},
     "output_type": "execute_result"
    }
   ],
   "source": [
    "vx[iy,ix]"
   ]
  },
  {
   "cell_type": "code",
   "execution_count": 24,
   "metadata": {},
   "outputs": [
    {
     "data": {
      "text/plain": [
       "YTArray([-1.52634088e-24, -1.58159304e-24, -1.60921912e-24,\n",
       "         -1.59540608e-24, -1.56778000e-24, -1.55396696e-24,\n",
       "         -1.53324740e-24, -1.51943436e-24, -1.51598110e-24,\n",
       "         -1.50216806e-24, -1.49526154e-24, -1.48835502e-24,\n",
       "         -1.47799524e-24, -1.47108872e-24, -1.46763546e-24,\n",
       "         -1.47108872e-24, -1.46418220e-24, -1.46418220e-24,\n",
       "         -1.46072894e-24, -1.45382242e-24, -1.45382242e-24,\n",
       "         -1.45382242e-24, -1.44346264e-24, -1.43310286e-24,\n",
       "         -1.43655612e-24, -1.43655612e-24, -1.43310286e-24,\n",
       "         -1.43655612e-24, -1.44000938e-24, -1.44691590e-24,\n",
       "         -1.44691590e-24, -1.45036916e-24, -1.44346264e-24,\n",
       "         -1.42964960e-24, -1.43310286e-24, -1.44000938e-24,\n",
       "         -1.42964960e-24, -1.44346264e-24, -1.44000938e-24,\n",
       "         -1.44346264e-24, -1.45036916e-24, -1.45036916e-24,\n",
       "         -1.44346264e-24, -1.44691590e-24, -1.44000938e-24,\n",
       "         -1.44691590e-24, -1.45382242e-24, -1.45727568e-24,\n",
       "         -1.46418220e-24, -1.47799524e-24, -1.46763546e-24,\n",
       "         -1.47108872e-24, -1.48144850e-24, -1.48835502e-24,\n",
       "         -1.50907458e-24, -1.52288762e-24, -1.53324740e-24,\n",
       "         -1.55396696e-24, -1.59195282e-24, -1.59540608e-24,\n",
       "         -1.60231260e-24, -1.64720498e-24, -1.66792454e-24,\n",
       "         -1.57123326e-24]) (dimensionless)"
      ]
     },
     "execution_count": 24,
     "metadata": {},
     "output_type": "execute_result"
    }
   ],
   "source": [
    "vy[iy, ix] + w0y[iy,ix]"
   ]
  },
  {
   "cell_type": "markdown",
   "metadata": {},
   "source": [
    "## diag_enuc.out\n",
    "\n",
    "Dont really have a good test for this (we have no burning). The code is logically to temp, though, so the rough idea is probabally fine but I'd check yourself if you start using diag_enuc for a planar setup."
   ]
  }
 ],
 "metadata": {
  "kernelspec": {
   "display_name": "Python 3",
   "language": "python",
   "name": "python3"
  },
  "language_info": {
   "codemirror_mode": {
    "name": "ipython",
    "version": 3
   },
   "file_extension": ".py",
   "mimetype": "text/x-python",
   "name": "python",
   "nbconvert_exporter": "python",
   "pygments_lexer": "ipython3",
   "version": "3.7.1"
  }
 },
 "nbformat": 4,
 "nbformat_minor": 2
}
