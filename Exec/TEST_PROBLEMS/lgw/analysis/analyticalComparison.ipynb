{
 "cells": [
  {
   "cell_type": "markdown",
   "metadata": {},
   "source": [
    "# Vertical and horizontal cuts, and comparison to analytics"
   ]
  },
  {
   "cell_type": "code",
   "execution_count": null,
   "metadata": {},
   "outputs": [],
   "source": [
    "%matplotlib inline\n",
    "import numpy as np\n",
    "import matplotlib.pyplot as plt\n",
    "import yt\n",
    "##yt.mylog.setLevel()\n",
    "yt.utilities.logger.disable_stream_logging()"
   ]
  },
  {
   "cell_type": "markdown",
   "metadata": {},
   "source": [
    "### Some notes on lineplots from data and prescription"
   ]
  },
  {
   "cell_type": "code",
   "execution_count": null,
   "metadata": {},
   "outputs": [],
   "source": [
    "ds = yt.load(\"../single_level/plt0000000/\") #I'd love a way to make this quiet\n"
   ]
  },
  {
   "cell_type": "code",
   "execution_count": null,
   "metadata": {},
   "outputs": [],
   "source": [
    "n = 64 # this need not be the actual number of points  - just number of sample points along the line\n",
    "\n",
    "linbuf = yt.LineBuffer(ds,[0.,0.,0],[0.,1e9,0],n)\n",
    "linedata = linbuf['rhopert'].value\n",
    "y = np.linspace(0, 1e9, n)\n",
    "fig = plt.figure()\n",
    "ax = plt.axes()\n",
    "ax.plot(y, linedata, 'x')"
   ]
  },
  {
   "cell_type": "code",
   "execution_count": null,
   "metadata": {},
   "outputs": [],
   "source": [
    "H = 1e9\n",
    "# rho1  = 0.01 * linbuf['rho0'].value * np.exp(-y/(2.*H)) * np.sin(y * 2. * np.pi / H ) old\n",
    "presBase = 1e13\n",
    "g = 3e4 # abs val of g accn\n",
    "rhoBase = presBase / H / g\n",
    "rho1  = 0.01 * rhoBase * np.exp(-y/(2.*H)) * np.sin(y * 2. * np.pi / H )"
   ]
  },
  {
   "cell_type": "code",
   "execution_count": null,
   "metadata": {},
   "outputs": [],
   "source": [
    "fig = plt.figure()\n",
    "ax = plt.axes()\n",
    "\n",
    "ax.plot(y, linedata, '+', y, rho1, 'x')\n"
   ]
  },
  {
   "cell_type": "markdown",
   "metadata": {},
   "source": [
    "Whats the reason for the slight descrepancy? \n",
    "\n",
    "Perhaps just that `yt` doesn't know about the boundary conditions, so when it samples rhopert to $y=0$ (rather than $y = dy / 2 $ - the center of the frist cell), it gets it wrong."
   ]
  },
  {
   "cell_type": "code",
   "execution_count": null,
   "metadata": {},
   "outputs": [],
   "source": [
    "Ly = 1e9\n",
    "n = 64 \n",
    "dy = Ly / 64 # should be able to get this from the ds object somehow\n",
    "y0 = dy/2 \n",
    "y1 = Ly - dy/2\n",
    "linbuf = yt.LineBuffer(ds,[0.,y0,0],[0.,y1,0],n)\n",
    "linedata = linbuf['rhopert'].value\n",
    "\n",
    "\n",
    "y = np.linspace(y0, y1, n)\n",
    "H = 1e9\n",
    "presBase = 1e13\n",
    "g = 3e4 # abs val of g accn\n",
    "rhoBase = presBase / H / g\n",
    "rho1  = 0.01 * rhoBase * np.exp(-y/(2.*H)) * np.sin(y * 2. * np.pi / H )\n",
    "\n",
    "fig = plt.figure()\n",
    "ax = plt.axes()\n",
    "\n",
    "ax.plot(y, linedata, '+', y, rho1, 'x')\n",
    "rho1.max"
   ]
  },
  {
   "cell_type": "code",
   "execution_count": null,
   "metadata": {},
   "outputs": [],
   "source": [
    "print(rho1.max(), rho1.min())"
   ]
  },
  {
   "cell_type": "markdown",
   "metadata": {},
   "source": [
    "## Comparison in time"
   ]
  },
  {
   "cell_type": "markdown",
   "metadata": {},
   "source": [
    "### Gravity wave frequency according to compressible equations\n",
    "\n",
    "This only holds if $\\omega^2 < N^2$ ?"
   ]
  },
  {
   "cell_type": "code",
   "execution_count": null,
   "metadata": {},
   "outputs": [],
   "source": [
    "gamma = 5./3. \n",
    "g = 3e4\n",
    "H = 1e9\n",
    "N2 = (gamma-1.)/gamma * g / H\n",
    "\n",
    "kv = 2. * np.pi  / H\n",
    "kh = 4. * np.pi  / H\n",
    "\n",
    "k2 = kv**2 + kh**2 \n",
    "w2 = N2 * kh**2 / (k2 + (1./4./H**2) )\n",
    "\n",
    "print(N2)\n",
    "print(w2)\n",
    "print(np.sqrt(w2))\n",
    "P = 2.*np.pi/np.sqrt(w2)\n",
    "print(P)\n",
    "print(1./np.sqrt(w2))"
   ]
  },
  {
   "cell_type": "markdown",
   "metadata": {},
   "source": [
    "### Full frequency according to the compressible equations"
   ]
  },
  {
   "cell_type": "code",
   "execution_count": null,
   "metadata": {},
   "outputs": [],
   "source": [
    "gamma = 5./3. \n",
    "g = 3e4\n",
    "H = 1e9\n",
    "N2 = (gamma-1.)/gamma * g / H\n",
    "\n",
    "c2 = gamma * g * H\n",
    "\n",
    "kv = 2. * np.pi  / H\n",
    "kh = 4. * np.pi  / H\n",
    "\n",
    "k2 = kv**2 + kh**2 \n",
    "w2_gw = N2 * kh**2 / (k2 + (1./4./H**2) )\n",
    "\n",
    "w2_sw = (k2 + 1 / 4. / H**2) * c2\n",
    "\n",
    "w2 = w2_sw / 2. * (1 - np.sqrt(1. - 4 * w2_gw / w2_sw))\n",
    "\n",
    "print(w2)\n",
    "P = 2.*np.pi/np.sqrt(w2)\n",
    "print(P)"
   ]
  },
  {
   "cell_type": "markdown",
   "metadata": {},
   "source": [
    "### The analytical frequency / period according to toby's work for the maestro eqn set"
   ]
  },
  {
   "cell_type": "code",
   "execution_count": null,
   "metadata": {},
   "outputs": [],
   "source": [
    "gamma = 5./3. \n",
    "g = 3e4\n",
    "H = 1e9\n",
    "N2 = (gamma-1.)/gamma * g / H\n",
    "\n",
    "kv = 2. * np.pi  / H\n",
    "kh = 4. * np.pi  / H\n",
    "\n",
    "k2 = kv**2 + kh**2 \n",
    "w2 = N2 * kh**2 / (k2 + ((2.-gamma)/2./gamma/H)**2 )\n",
    "\n",
    "print(N2)\n",
    "print(w2)\n",
    "print(np.sqrt(w2))\n",
    "P = 2.*np.pi/np.sqrt(w2)\n",
    "print(P)\n",
    "print(1./np.sqrt(w2))\n",
    "print(np.sqrt(N2))"
   ]
  },
  {
   "cell_type": "markdown",
   "metadata": {},
   "source": [
    "### Frequency measured at a point"
   ]
  },
  {
   "cell_type": "code",
   "execution_count": null,
   "metadata": {},
   "outputs": [],
   "source": [
    "%%capture \n",
    "ts = yt.load(\"../single_level/plt00000??/\")\n",
    "\n",
    "pointdata  = []\n",
    "time = []\n",
    "for ds in ts:\n",
    "    pointdata.append(ds.point([0.,1e9/4,0.])['rhopert'].value[0])\n",
    "    time.append(float(ds.current_time))"
   ]
  },
  {
   "cell_type": "code",
   "execution_count": null,
   "metadata": {},
   "outputs": [],
   "source": [
    "fig = plt.figure()\n",
    "ax = plt.axes()\n",
    "ax.plot(time, pointdata, '+r', time, pointdata)"
   ]
  },
  {
   "cell_type": "markdown",
   "metadata": {},
   "source": [
    "#### comparison to a given period"
   ]
  },
  {
   "cell_type": "code",
   "execution_count": null,
   "metadata": {},
   "outputs": [],
   "source": [
    "guess_w = 0.003098308196896433  * np.sqrt(2) # why would it be out by a factor of root 2?\n",
    "smoothTime = np.linspace(0,7000,7000)\n",
    "fig = plt.figure()\n",
    "ax = plt.axes()\n",
    "ax.plot(time, pointdata, '+r', time, pointdata, 'r', smoothTime, pointdata[0] * np.cos(-guess_w * smoothTime), 'b')"
   ]
  },
  {
   "cell_type": "code",
   "execution_count": null,
   "metadata": {},
   "outputs": [],
   "source": []
  },
  {
   "cell_type": "markdown",
   "metadata": {},
   "source": [
    "#### FFT\n",
    "\n",
    "Could do an fft on the point data to measure $\\omega$.\n",
    "Complication will be the irregular sampling in time - will have to interpolate onto a uniform sampling rate first"
   ]
  },
  {
   "cell_type": "markdown",
   "metadata": {},
   "source": [
    "### Frequency along a vertical cut"
   ]
  },
  {
   "cell_type": "code",
   "execution_count": null,
   "metadata": {},
   "outputs": [],
   "source": [
    "ts = yt.load(\"../single_level/plt0000???/\")"
   ]
  },
  {
   "cell_type": "code",
   "execution_count": null,
   "metadata": {},
   "outputs": [],
   "source": [
    "for ds in ts:\n",
    "    Ly = 1e9\n",
    "    n = 64 \n",
    "    dy = Ly / 64 # should be able to get this from the ds object somehow\n",
    "    y0 = dy/2 \n",
    "    y1 = Ly - dy/2\n",
    "    linbuf = yt.LineBuffer(ds,[0.,y0,0],[0.,y1,0],n)\n",
    "    linedata = linbuf['rhopert'].value\n",
    "\n",
    "\n",
    "    y = np.linspace(y0, y1, n)\n",
    "    H = 1e9\n",
    "    presBase = 1e13\n",
    "    g = 3e4 # abs val of g accn\n",
    "    rhoBase = presBase / H / g\n",
    "    \n",
    "    rho1  = 0.01 * rhoBase * np.exp(-y/(2.*H)) * np.sin(y * 2. * np.pi / H) * np.cos( -np.sqrt(w2) * ds.current_time.value)\n",
    "        \n",
    "    fig = plt.figure()\n",
    "    ax = plt.axes()\n",
    "\n",
    "    ax.plot(y, linedata, '+k', y, rho1, 'xr')\n",
    "    plt.title('t ={}'.format(ds.current_time))\n",
    "    rho1.max"
   ]
  },
  {
   "cell_type": "code",
   "execution_count": null,
   "metadata": {},
   "outputs": [],
   "source": []
  }
 ],
 "metadata": {
  "kernelspec": {
   "display_name": "Python 3",
   "language": "python",
   "name": "python3"
  },
  "language_info": {
   "codemirror_mode": {
    "name": "ipython",
    "version": 3
   },
   "file_extension": ".py",
   "mimetype": "text/x-python",
   "name": "python",
   "nbconvert_exporter": "python",
   "pygments_lexer": "ipython3",
   "version": "3.7.1"
  }
 },
 "nbformat": 4,
 "nbformat_minor": 2
}
