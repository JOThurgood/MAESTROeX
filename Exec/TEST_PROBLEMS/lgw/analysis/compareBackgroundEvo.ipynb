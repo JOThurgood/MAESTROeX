{
 "cells": [
  {
   "cell_type": "markdown",
   "metadata": {},
   "source": [
    "### Preamble / imports"
   ]
  },
  {
   "cell_type": "code",
   "execution_count": 4,
   "metadata": {},
   "outputs": [],
   "source": [
    "%matplotlib inline\n",
    "import numpy as np\n",
    "import matplotlib.pyplot as plt\n",
    "plt.rcParams['figure.figsize'] = [10, 5]\n",
    "import yt\n",
    "##yt.mylog.setLevel()\n",
    "yt.utilities.logger.disable_stream_logging()"
   ]
  },
  {
   "cell_type": "markdown",
   "metadata": {},
   "source": [
    "### Data paths"
   ]
  },
  {
   "cell_type": "code",
   "execution_count": 5,
   "metadata": {},
   "outputs": [],
   "source": [
    "# put the relative or absolute directory of the problem output here\n",
    "dataDir1 = '../oldruns/thu20/newgamma/amp0.001/autoDt/'\n",
    "baseName1 = 'plt'\n",
    "dsPath1 = dataDir1 + baseName1\n",
    "tsPath1 = dsPath1 + '???????/'\n",
    "ds0Path1 = dsPath1 + '0000000/'\n",
    "\n",
    "dataDir2 = '../oldruns/thu20/newgamma/amp0.01/autoDt/'\n",
    "baseName2 = 'plt'\n",
    "dsPath2 = dataDir2 + baseName2\n",
    "tsPath2 = dsPath2 + '???????/'\n",
    "ds0Path2 = dsPath2 + '0000000/'\n"
   ]
  },
  {
   "cell_type": "markdown",
   "metadata": {},
   "source": [
    "#### A note on accessing base state data without using yt\n",
    "\n",
    "Its possible to get most base state info without having to use yt which might be useful / clearer / faster in a lot of situations\n",
    "\n",
    "+ each plotfile has files for 1d data `BaseCC_0` and `BaseFC_0` (cell centered and face centered, respectively)\n",
    "+ `BaseCC_0` contains `r_cc`  `rho0`  `rhoh0`  `p0`  `gamma1bar` \n",
    "+ `BaseFC_0` contains `r_edge` and `w0`\n",
    "+ I've not checked what it is like in multilevel, but im pretty sure this will just be the base state at the finest uniform grid\n",
    "\n",
    "The following snippet shows how to read this data with np.loadtxt"
   ]
  },
  {
   "cell_type": "code",
   "execution_count": 26,
   "metadata": {},
   "outputs": [],
   "source": [
    "BaseCC_0 = dataDir1+'plt0000000/BaseCC_0'\n",
    "BaseFC_0 = dataDir1+'plt0000000/BaseFC_0'\n",
    "r_cc, rho0, rhoh0, p0, gamma1bar = np.loadtxt(BaseCC_0, skiprows=1, unpack=True)\n",
    "r_edge, w0 = np.loadtxt(BaseFC_0, skiprows=1, unpack=True)"
   ]
  },
  {
   "cell_type": "markdown",
   "metadata": {},
   "source": [
    "And the following show some plots"
   ]
  },
  {
   "cell_type": "code",
   "execution_count": 35,
   "metadata": {},
   "outputs": [
    {
     "data": {
      "text/plain": [
       "[<matplotlib.lines.Line2D at 0x7fa9dd885278>]"
      ]
     },
     "execution_count": 35,
     "metadata": {},
     "output_type": "execute_result"
    },
    {
     "data": {
      "image/png": "[encoded data removed]",
      "text/plain": [
       "<Figure size 720x360 with 1 Axes>"
      ]
     },
     "metadata": {
      "needs_background": "light"
     },
     "output_type": "display_data"
    }
   ],
   "source": [
    "plt.plot(r_cc,rho0)"
   ]
  },
  {
   "cell_type": "code",
   "execution_count": null,
   "metadata": {},
   "outputs": [],
   "source": [
    "import re\n",
    "regex = re.compile('plt_.') #\n",
    "matches = [string for string in pltfiles if re.match(regex, string)]\n",
    "for string in matches:\n",
    "    pltfiles.remove(string)"
   ]
  },
  {
   "cell_type": "code",
   "execution_count": 39,
   "metadata": {},
   "outputs": [
    {
     "data": {
      "text/plain": [
       "['plt0000000',\n",
       " 'plt0000001',\n",
       " 'plt0000002',\n",
       " 'plt0000003',\n",
       " 'plt0000004',\n",
       " 'plt0000005',\n",
       " 'plt0000006',\n",
       " 'plt0000007',\n",
       " 'plt0000008',\n",
       " 'plt0000009',\n",
       " 'plt0000010',\n",
       " 'plt0000011',\n",
       " 'plt0000012',\n",
       " 'plt0000013',\n",
       " 'plt0000014',\n",
       " 'plt0000015',\n",
       " 'plt0000016',\n",
       " 'plt0000017',\n",
       " 'plt0000018',\n",
       " 'plt0000019',\n",
       " 'plt0000020',\n",
       " 'plt0000021',\n",
       " 'plt0000022',\n",
       " 'plt0000023',\n",
       " 'plt0000024',\n",
       " 'plt0000025',\n",
       " 'plt0000026',\n",
       " 'plt0000027',\n",
       " 'plt0000028',\n",
       " 'plt0000029',\n",
       " 'plt0000030',\n",
       " 'plt0000031',\n",
       " 'plt0000032',\n",
       " 'plt0000033',\n",
       " 'plt0000034',\n",
       " 'plt0000035',\n",
       " 'plt0000036',\n",
       " 'plt0000037',\n",
       " 'plt0000038',\n",
       " 'plt0000039',\n",
       " 'plt0000040',\n",
       " 'plt0000041',\n",
       " 'plt0000042',\n",
       " 'plt0000043',\n",
       " 'plt0000044',\n",
       " 'plt0000045',\n",
       " 'plt0000046',\n",
       " 'plt0000047',\n",
       " 'plt0000048',\n",
       " 'plt0000049',\n",
       " 'plt0000050',\n",
       " 'plt0000051',\n",
       " 'plt0000052',\n",
       " 'plt0000053',\n",
       " 'plt0000054',\n",
       " 'plt0000055',\n",
       " 'plt0000056',\n",
       " 'plt0000057',\n",
       " 'plt0000058',\n",
       " 'plt0000059',\n",
       " 'plt0000060',\n",
       " 'plt0000061',\n",
       " 'plt0000062',\n",
       " 'plt0000063',\n",
       " 'plt0000064',\n",
       " 'plt0000065',\n",
       " 'plt0000066',\n",
       " 'plt0000067',\n",
       " 'plt0000068',\n",
       " 'plt0000069',\n",
       " 'plt0000070',\n",
       " 'plt0000071',\n",
       " 'plt0000072',\n",
       " 'plt0000073',\n",
       " 'plt0000074',\n",
       " 'plt0000075',\n",
       " 'plt0000076',\n",
       " 'plt0000077',\n",
       " 'plt0000078',\n",
       " 'plt0000079',\n",
       " 'plt0000080',\n",
       " 'plt0000081',\n",
       " 'plt0000082',\n",
       " 'plt0000083',\n",
       " 'plt0000084',\n",
       " 'plt0000085',\n",
       " 'plt0000086',\n",
       " 'plt0000087',\n",
       " 'plt0000088',\n",
       " 'plt0000089',\n",
       " 'plt0000090',\n",
       " 'plt0000091',\n",
       " 'plt0000092',\n",
       " 'plt_InitData',\n",
       " 'plt_after_DivuIter',\n",
       " 'plt_after_InitProj']"
      ]
     },
     "execution_count": 39,
     "metadata": {},
     "output_type": "execute_result"
    }
   ],
   "source": [
    "# this might be useful for going through all of them\n",
    "import os\n",
    "subfolders = [f.name for f in os.scandir(dataDir1) if f.is_dir() ]     # dirname\n",
    "#subfolders = [f.path for f in os.scandir(dataDir1) if f.is_dir() ]     # full path\n",
    "sorted(subfolders)"
   ]
  },
  {
   "cell_type": "markdown",
   "metadata": {},
   "source": [
    "## Compare base state quantities (1D)"
   ]
  },
  {
   "cell_type": "markdown",
   "metadata": {},
   "source": [
    "One of the challanges will be that you might have output at different times (even if they are close, because of different DT)\n",
    "\n",
    "Need to do some sort of database corralation to decide which two slices to compare? \n",
    "\n",
    "Or, just ensure/force the simulations to have output that is close enough? "
   ]
  },
  {
   "cell_type": "code",
   "execution_count": 71,
   "metadata": {},
   "outputs": [],
   "source": [
    "# dumb function that compares two datasets at the same index - up to user to check if its a fair comparison\n",
    "# this can be pretty easily extended to multiple indexes and still having this as the default behaviour\n",
    "    \n",
    "def compareTwo(ts1,ts2, index, var, normalise = True):\n",
    "    \n",
    "    def RayData(ds,var):\n",
    "        ray = ds.ortho_ray(1,(0,0))\n",
    "        y = np.array(ray['y'])\n",
    "        rayData = np.array(ray[var])\n",
    "        return y, rayData\n",
    "    \n",
    "    y1, rayData1 = RayData(ts1[index],var)\n",
    "    y2, rayData2 = RayData(ts2[index],var)\n",
    "\n",
    "    if normalise: and index != 0:\n",
    "        y01, rayData01 = RayData(ts1[0],var)\n",
    "        y02, rayData02 = RayData(ts2[0],var)\n",
    "        \n",
    "        rayData1 = rayData1 / RayData01\n",
    "        rayData2 = rayData2 / RayData02\n",
    "\n",
    "\n",
    "    plt.plot(y1, rayData1, 'r+', y2, rayData2, 'bx')\n",
    "    plt.xlabel('path length')\n",
    "    plt.ylabel(var)\n",
    "    plt.title('index = {}, time(set1) = {}, time(set2) = {}'.format(index, float(ts1[index].current_time), float(ts2[index].current_time)))\n",
    "        "
   ]
  },
  {
   "cell_type": "code",
   "execution_count": 72,
   "metadata": {},
   "outputs": [
    {
     "data": {
      "image/png": "[encoded data removed]",
      "text/plain": [
       "<Figure size 432x288 with 1 Axes>"
      ]
     },
     "metadata": {
      "needs_background": "light"
     },
     "output_type": "display_data"
    }
   ],
   "source": [
    "ts1 = yt.load(tsPath1)\n",
    "ts2 = yt.load(tsPath2)\n",
    "\n",
    "myFun(ts1,ts2,0,\"rhopert\")"
   ]
  },
  {
   "cell_type": "code",
   "execution_count": 30,
   "metadata": {},
   "outputs": [
    {
     "name": "stdout",
     "output_type": "stream",
     "text": [
      "1\n",
      "2\n"
     ]
    }
   ],
   "source": [
    "def fun():\n",
    "    return 1, 2\n",
    "\n",
    "a, b = fun()\n",
    "print(a)\n",
    "print(b)"
   ]
  },
  {
   "cell_type": "code",
   "execution_count": 62,
   "metadata": {},
   "outputs": [
    {
     "data": {
      "text/plain": [
       "0.0"
      ]
     },
     "execution_count": 62,
     "metadata": {},
     "output_type": "execute_result"
    }
   ],
   "source": [
    "float(ts1[0].current_time)"
   ]
  },
  {
   "cell_type": "code",
   "execution_count": 27,
   "metadata": {},
   "outputs": [
    {
     "name": "stdout",
     "output_type": "stream",
     "text": [
      "true\n"
     ]
    }
   ],
   "source": [
    "normalise=True\n",
    "index = 1\n",
    "\n",
    "if normalise and index != 0:\n",
    "    print('true')"
   ]
  },
  {
   "cell_type": "markdown",
   "metadata": {},
   "source": [
    "### Energy comparison\n",
    "\n",
    "Goes here"
   ]
  }
 ],
 "metadata": {
  "kernelspec": {
   "display_name": "Python 3",
   "language": "python",
   "name": "python3"
  },
  "language_info": {
   "codemirror_mode": {
    "name": "ipython",
    "version": 3
   },
   "file_extension": ".py",
   "mimetype": "text/x-python",
   "name": "python",
   "nbconvert_exporter": "python",
   "pygments_lexer": "ipython3",
   "version": "3.7.1"
  }
 },
 "nbformat": 4,
 "nbformat_minor": 2
}
