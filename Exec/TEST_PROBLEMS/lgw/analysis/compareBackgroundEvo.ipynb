{
 "cells": [
  {
   "cell_type": "markdown",
   "metadata": {},
   "source": [
    "#### Preamble / imports"
   ]
  },
  {
   "cell_type": "code",
   "execution_count": 6,
   "metadata": {},
   "outputs": [],
   "source": [
    "%matplotlib inline\n",
    "import numpy as np\n",
    "import matplotlib.pyplot as plt\n",
    "plt.rcParams['figure.figsize'] = [10, 5]\n",
    "import yt\n",
    "##yt.mylog.setLevel()\n",
    "yt.utilities.logger.disable_stream_logging()"
   ]
  },
  {
   "cell_type": "markdown",
   "metadata": {},
   "source": [
    "### Data paths"
   ]
  },
  {
   "cell_type": "code",
   "execution_count": 51,
   "metadata": {},
   "outputs": [],
   "source": [
    "# put the relative or absolute directory of the problem output here\n",
    "dataDir1 = '../oldruns/thu20/newgamma/amp0.001/autoDt/'\n",
    "baseName1 = 'plt'\n",
    "dsPath1 = dataDir1 + baseName1\n",
    "tsPath1 = dsPath1 + '???????/'\n",
    "ds0Path1 = dsPath1 + '0000000/'\n",
    "\n",
    "dataDir2 = '../oldruns/thu20/newgamma/amp0.01/autoDt/'\n",
    "baseName2 = 'plt'\n",
    "dsPath2 = dataDir2 + baseName2\n",
    "tsPath2 = dsPath2 + '???????/'\n",
    "ds0Path2 = dsPath2 + '0000000/'\n"
   ]
  },
  {
   "cell_type": "markdown",
   "metadata": {},
   "source": [
    "## Compare base state quantities (1D)"
   ]
  },
  {
   "cell_type": "markdown",
   "metadata": {},
   "source": [
    "One of the challanges will be that you might have output at different times (even if they are close, because of different DT)\n",
    "\n",
    "Need to do some sort of database corralation to decide which two slices to compare? \n",
    "\n",
    "Or, just ensure/force the simulations to have output that is close enough? "
   ]
  },
  {
   "cell_type": "code",
   "execution_count": 71,
   "metadata": {},
   "outputs": [],
   "source": [
    "# dumb function that compares two datasets at the same index - up to user to check if its a fair comparison\n",
    "# this can be pretty easily extended to multiple indexes and still having this as the default behaviour\n",
    "    \n",
    "def compareTwo(ts1,ts2, index, var, normalise = True):\n",
    "    \n",
    "    def RayData(ds,var):\n",
    "        ray = ds.ortho_ray(1,(0,0))\n",
    "        y = np.array(ray['y'])\n",
    "        rayData = np.array(ray[var])\n",
    "        return y, rayData\n",
    "    \n",
    "    y1, rayData1 = RayData(ts1[index],var)\n",
    "    y2, rayData2 = RayData(ts2[index],var)\n",
    "\n",
    "    if normalise: and index != 0:\n",
    "        y01, rayData01 = RayData(ts1[0],var)\n",
    "        y02, rayData02 = RayData(ts2[0],var)\n",
    "        \n",
    "        rayData1 = rayData1 / RayData01\n",
    "        rayData2 = rayData2 / RayData02\n",
    "\n",
    "\n",
    "    plt.plot(y1, rayData1, 'r+', y2, rayData2, 'bx')\n",
    "    plt.xlabel('path length')\n",
    "    plt.ylabel(var)\n",
    "    plt.title('index = {}, time(set1) = {}, time(set2) = {}'.format(index, float(ts1[index].current_time), float(ts2[index].current_time)))\n",
    "        "
   ]
  },
  {
   "cell_type": "code",
   "execution_count": 72,
   "metadata": {},
   "outputs": [
    {
     "data": {
      "image/png": "[encoded data removed]",
      "text/plain": [
       "<Figure size 432x288 with 1 Axes>"
      ]
     },
     "metadata": {
      "needs_background": "light"
     },
     "output_type": "display_data"
    }
   ],
   "source": [
    "ts1 = yt.load(tsPath1)\n",
    "ts2 = yt.load(tsPath2)\n",
    "\n",
    "myFun(ts1,ts2,0,\"rhopert\")"
   ]
  },
  {
   "cell_type": "code",
   "execution_count": 30,
   "metadata": {},
   "outputs": [
    {
     "name": "stdout",
     "output_type": "stream",
     "text": [
      "1\n",
      "2\n"
     ]
    }
   ],
   "source": [
    "def fun():\n",
    "    return 1, 2\n",
    "\n",
    "a, b = fun()\n",
    "print(a)\n",
    "print(b)"
   ]
  },
  {
   "cell_type": "code",
   "execution_count": 62,
   "metadata": {},
   "outputs": [
    {
     "data": {
      "text/plain": [
       "0.0"
      ]
     },
     "execution_count": 62,
     "metadata": {},
     "output_type": "execute_result"
    }
   ],
   "source": [
    "float(ts1[0].current_time)"
   ]
  },
  {
   "cell_type": "code",
   "execution_count": 27,
   "metadata": {},
   "outputs": [
    {
     "name": "stdout",
     "output_type": "stream",
     "text": [
      "true\n"
     ]
    }
   ],
   "source": [
    "normalise=True\n",
    "index = 1\n",
    "\n",
    "if normalise and index != 0:\n",
    "    print('true')"
   ]
  },
  {
   "cell_type": "markdown",
   "metadata": {},
   "source": [
    "### Energy comparison\n",
    "\n",
    "Goes here"
   ]
  }
 ],
 "metadata": {
  "kernelspec": {
   "display_name": "Python 3",
   "language": "python",
   "name": "python3"
  },
  "language_info": {
   "codemirror_mode": {
    "name": "ipython",
    "version": 3
   },
   "file_extension": ".py",
   "mimetype": "text/x-python",
   "name": "python",
   "nbconvert_exporter": "python",
   "pygments_lexer": "ipython3",
   "version": "3.7.1"
  }
 },
 "nbformat": 4,
 "nbformat_minor": 2
}
