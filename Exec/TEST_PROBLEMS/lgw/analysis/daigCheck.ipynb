{
 "cells": [
  {
   "cell_type": "markdown",
   "metadata": {},
   "source": [
    "# Tests for Diag "
   ]
  },
  {
   "cell_type": "code",
   "execution_count": 5,
   "metadata": {},
   "outputs": [],
   "source": [
    "%matplotlib inline\n",
    "import numpy as np\n",
    "import matplotlib.pyplot as plt\n",
    "plt.rcParams['figure.figsize'] = [10, 5]\n",
    "import yt\n",
    "##yt.mylog.setLevel()\n",
    "yt.utilities.logger.disable_stream_logging()"
   ]
  },
  {
   "cell_type": "code",
   "execution_count": 6,
   "metadata": {},
   "outputs": [],
   "source": [
    "dataDir = '../single_level/'\n",
    "baseName = 'plt'"
   ]
  },
  {
   "cell_type": "code",
   "execution_count": 7,
   "metadata": {},
   "outputs": [],
   "source": [
    "ds = yt.load(dataDir + baseName + '0000001') # LOAD AT PLT 1 - intended that that corresponds to step==1"
   ]
  },
  {
   "cell_type": "code",
   "execution_count": 8,
   "metadata": {},
   "outputs": [],
   "source": [
    "#ds.field_list"
   ]
  },
  {
   "cell_type": "code",
   "execution_count": 9,
   "metadata": {},
   "outputs": [],
   "source": [
    "dx, dy, dz = ds.domain_width / ds.domain_dimensions # think this is ok for single level / UG"
   ]
  },
  {
   "cell_type": "markdown",
   "metadata": {},
   "source": [
    "## diag_vel.out"
   ]
  },
  {
   "cell_type": "markdown",
   "metadata": {},
   "source": [
    "Look at the file (assuming its only a few rows)"
   ]
  },
  {
   "cell_type": "code",
   "execution_count": 14,
   "metadata": {},
   "outputs": [
    {
     "name": "stdout",
     "output_type": "stream",
     "text": [
      "time                max{U}              max{Mach}           tot kin energy      tot grav energy     tot int energy      dt                  \n",
      "0.0000000000e+00    0.0000000000e+00    0.0000000000e+00    0.0000000000e+00    -1.9021530793e+37   9.4816020347e+30    1.9742702105e-01    \n",
      "1.9742702105e-01    6.9424261203e+01    9.7466489574e-06    2.3408516759e+20    -1.9021530790e+37   9.4816020345e+30    1.9742702105e-01    \n"
     ]
    }
   ],
   "source": [
    "cat ../diag_vel.out"
   ]
  },
  {
   "cell_type": "markdown",
   "metadata": {},
   "source": [
    "Load up data needed for velocities and kinetic energy calculation"
   ]
  },
  {
   "cell_type": "code",
   "execution_count": 15,
   "metadata": {},
   "outputs": [],
   "source": [
    "all_data_level_0 = ds.covering_grid(level=0, left_edge=[0,0.0,0.0], dims=[64, 64, 1])\n",
    "vx = all_data_level_0['velx']\n",
    "vx = vx[:,:,0].transpose()\n",
    "vy = all_data_level_0['vely']\n",
    "vy = vy[:,:,0].transpose()\n",
    "rho = all_data_level_0['rho']\n",
    "rho = rho[:,:,0].transpose()\n",
    "w0y = all_data_level_0['w0y']\n",
    "w0y = w0y[:,:,0].transpose()\n",
    "vel = np.sqrt(vx**2 + (vy+w0y)**2)"
   ]
  },
  {
   "cell_type": "markdown",
   "metadata": {},
   "source": [
    "Whats the maximum velocity according to the plotfile data?"
   ]
  },
  {
   "cell_type": "code",
   "execution_count": 16,
   "metadata": {},
   "outputs": [
    {
     "data": {
      "text/plain": [
       "69.42426120264281 dimensionless"
      ]
     },
     "execution_count": 16,
     "metadata": {},
     "output_type": "execute_result"
    }
   ],
   "source": [
    "np.max(vel) "
   ]
  },
  {
   "cell_type": "markdown",
   "metadata": {},
   "source": [
    "Whats the total kinetic energy according to the data in the plotfile? The codes diag file currently ignores the 0.5, and will \"Normalise\"?!? for dL, dA, or dV"
   ]
  },
  {
   "cell_type": "code",
   "execution_count": 17,
   "metadata": {},
   "outputs": [
    {
     "data": {
      "text/plain": [
       "2.3408516759172606e+20 code_length**2"
      ]
     },
     "execution_count": 17,
     "metadata": {},
     "output_type": "execute_result"
    }
   ],
   "source": [
    "ke = 0.5 * rho * vel**2\n",
    "np.sum(2. * ke *dx * dy)"
   ]
  },
  {
   "cell_type": "markdown",
   "metadata": {},
   "source": [
    "Whats the total internal energy according to the data in the plotfile? I had to look inside the EOS code to see how this is calculated"
   ]
  },
  {
   "cell_type": "code",
   "execution_count": 42,
   "metadata": {},
   "outputs": [],
   "source": [
    "T = all_data_level_0['tfromp']\n",
    "T = T[:,:,0].transpose()"
   ]
  },
  {
   "cell_type": "code",
   "execution_count": 43,
   "metadata": {},
   "outputs": [],
   "source": [
    "k_B = 1.3806488e-16   # erg/K\n",
    "n_A = 6.02214129e23  # mol^-1\n",
    "R = k_B * n_A\n",
    "\n",
    "mu = 1\n",
    "\n",
    "gamma = 5./3.\n",
    "cv = R /mu / (gamma-1)\n",
    "eint = cv * T "
   ]
  },
  {
   "cell_type": "code",
   "execution_count": 44,
   "metadata": {},
   "outputs": [],
   "source": [
    "test = np.sum(eint*rho * dx**2)/9.4816020345e30"
   ]
  },
  {
   "cell_type": "code",
   "execution_count": 45,
   "metadata": {},
   "outputs": [
    {
     "data": {
      "text/plain": [
       "-4.597322522670311e-12"
      ]
     },
     "execution_count": 45,
     "metadata": {},
     "output_type": "execute_result"
    }
   ],
   "source": [
    "np.float(test) -1 \n"
   ]
  },
  {
   "cell_type": "markdown",
   "metadata": {},
   "source": [
    "Whats the maximum mach number?"
   ]
  },
  {
   "cell_type": "code",
   "execution_count": 232,
   "metadata": {},
   "outputs": [
    {
     "name": "stdout",
     "output_type": "stream",
     "text": [
      "9.136712405363016e-05 dimensionless\n"
     ]
    }
   ],
   "source": [
    "rho = all_data_level_0['rho']\n",
    "rho = rho[:,:,0].transpose()\n",
    "p = all_data_level_0['p0']\n",
    "p = p[:,:,0].transpose()\n",
    "cs = np.sqrt(gamma * p / rho)\n",
    "mach = vel / cs\n",
    "\n",
    "print( np.max(mach))"
   ]
  },
  {
   "cell_type": "markdown",
   "metadata": {},
   "source": [
    "Whats the gravitational potential energy? **DEFINITELY DONT HAVE THIS RIGHT FOR PLANAR! **"
   ]
  },
  {
   "cell_type": "code",
   "execution_count": null,
   "metadata": {},
   "outputs": [],
   "source": []
  },
  {
   "cell_type": "markdown",
   "metadata": {},
   "source": [
    "## diag_temp.out"
   ]
  },
  {
   "cell_type": "code",
   "execution_count": 234,
   "metadata": {},
   "outputs": [
    {
     "name": "stdout",
     "output_type": "stream",
     "text": [
      "time                max{T}              x(max{T})           y(max{T})           z(max{T})           vx(max{T})          vy(max{T})          vz(max{T})          \n",
      "0.0000000000e+00    4.2209256938e+05    7.8125000000e+06    7.5781250000e+08    0.0000000000e+00    0.0000000000e+00    0.0000000000e+00    0.0000000000e+00    \n",
      "1.8387268888e-01    4.2209255760e+05    5.0781250000e+08    7.5781250000e+08    0.0000000000e+00    2.1473842671e+00    6.9876831867e+02    0.0000000000e+00    \n"
     ]
    }
   ],
   "source": [
    "cat ../diag_temp.out"
   ]
  },
  {
   "cell_type": "code",
   "execution_count": 237,
   "metadata": {},
   "outputs": [
    {
     "name": "stdout",
     "output_type": "stream",
     "text": [
      "422092.5576018601 dimensionless\n"
     ]
    }
   ],
   "source": [
    "T = all_data_level_0['tfromh']\n",
    "T = T[:,:,0].transpose()\n",
    "print(np.max(T))"
   ]
  },
  {
   "cell_type": "markdown",
   "metadata": {},
   "source": [
    "can have a look at the actual coordinates, but its tricky if there are multiple maxima - might want to setup a test where one cell is very hot?"
   ]
  },
  {
   "cell_type": "code",
   "execution_count": 287,
   "metadata": {},
   "outputs": [],
   "source": [
    "iy,ix = np.where( T == np.max(T))"
   ]
  },
  {
   "cell_type": "code",
   "execution_count": 288,
   "metadata": {},
   "outputs": [
    {
     "data": {
      "text/plain": [
       "YTArray([422092.55760186]) (dimensionless)"
      ]
     },
     "execution_count": 288,
     "metadata": {},
     "output_type": "execute_result"
    }
   ],
   "source": [
    "T[iy, ix]"
   ]
  },
  {
   "cell_type": "code",
   "execution_count": 289,
   "metadata": {},
   "outputs": [
    {
     "data": {
      "text/plain": [
       "[5.078125e+08] code_length"
      ]
     },
     "execution_count": 289,
     "metadata": {},
     "output_type": "execute_result"
    }
   ],
   "source": [
    "ix * dx + dx/2"
   ]
  },
  {
   "cell_type": "code",
   "execution_count": 290,
   "metadata": {},
   "outputs": [
    {
     "data": {
      "text/plain": [
       "[7.578125e+08] code_length"
      ]
     },
     "execution_count": 290,
     "metadata": {},
     "output_type": "execute_result"
    }
   ],
   "source": [
    "iy * dy + dy/2"
   ]
  },
  {
   "cell_type": "code",
   "execution_count": 293,
   "metadata": {},
   "outputs": [
    {
     "data": {
      "text/plain": [
       "YTArray([2.14738427]) (dimensionless)"
      ]
     },
     "execution_count": 293,
     "metadata": {},
     "output_type": "execute_result"
    }
   ],
   "source": [
    "vx[iy,ix]"
   ]
  },
  {
   "cell_type": "code",
   "execution_count": 296,
   "metadata": {},
   "outputs": [
    {
     "data": {
      "text/plain": [
       "[698.76831867] dimensionless"
      ]
     },
     "execution_count": 296,
     "metadata": {},
     "output_type": "execute_result"
    }
   ],
   "source": [
    "vy[iy, ix] + w0y[iy,ix]"
   ]
  },
  {
   "cell_type": "markdown",
   "metadata": {},
   "source": [
    "## diag_enuc.out\n",
    "\n",
    "Dont really have a good test for this. But since its so similar logically to temp, i think im willing to take it as OK for now (even to the point of making a PR). If there is a bug - it will get noticed later"
   ]
  },
  {
   "cell_type": "code",
   "execution_count": null,
   "metadata": {},
   "outputs": [],
   "source": []
  }
 ],
 "metadata": {
  "kernelspec": {
   "display_name": "Python 3",
   "language": "python",
   "name": "python3"
  },
  "language_info": {
   "codemirror_mode": {
    "name": "ipython",
    "version": 3
   },
   "file_extension": ".py",
   "mimetype": "text/x-python",
   "name": "python",
   "nbconvert_exporter": "python",
   "pygments_lexer": "ipython3",
   "version": "3.7.1"
  }
 },
 "nbformat": 4,
 "nbformat_minor": 2
}
