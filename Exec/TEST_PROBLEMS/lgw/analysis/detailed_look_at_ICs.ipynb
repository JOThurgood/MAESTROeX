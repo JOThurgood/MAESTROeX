{
 "cells": [
  {
   "cell_type": "markdown",
   "metadata": {},
   "source": [
    "This is a redo of the close look at the IC after refactoring the corrected (but very, very messy) `base_state.f90` to check no errors were introduced.\n",
    "\n",
    "Comparing to the other sheet (a html print out should be in the meeting dir somewhere) it seems like nothings changed\n",
    "\n",
    "Will also run and check the simulation evolution."
   ]
  },
  {
   "cell_type": "markdown",
   "metadata": {},
   "source": [
    "# A closer look at the initial condition"
   ]
  },
  {
   "cell_type": "code",
   "execution_count": 1,
   "metadata": {},
   "outputs": [],
   "source": [
    "%matplotlib inline\n",
    "import numpy as np\n",
    "import matplotlib.pyplot as plt\n",
    "plt.rcParams['figure.figsize'] = [10, 5]\n",
    "import yt\n",
    "##yt.mylog.setLevel()\n",
    "yt.utilities.logger.disable_stream_logging()"
   ]
  },
  {
   "cell_type": "code",
   "execution_count": 2,
   "metadata": {},
   "outputs": [],
   "source": [
    "# put the relative or absolute directory of the problem output here\n",
    "#dataDir = '../oldruns/wed26/baseBefore/'\n",
    "dataDir = '../single_level/'\n",
    "\n",
    "baseName = 'plt'\n",
    "dsPath = dataDir + baseName\n",
    "tsPath = dsPath + '???????/'\n",
    "ds0Path = dsPath + '0000000/'"
   ]
  },
  {
   "cell_type": "code",
   "execution_count": 3,
   "metadata": {},
   "outputs": [],
   "source": [
    "string = ds0Path + 'job_info'"
   ]
  },
  {
   "cell_type": "code",
   "execution_count": 4,
   "metadata": {},
   "outputs": [],
   "source": [
    "%%bash -s \"$string\"\n",
    "#cat $1"
   ]
  },
  {
   "cell_type": "markdown",
   "metadata": {},
   "source": [
    "#### Load data at t=0"
   ]
  },
  {
   "cell_type": "code",
   "execution_count": 5,
   "metadata": {},
   "outputs": [],
   "source": [
    "ds0 = yt.load(ds0Path)\n",
    "#ds0.field_list"
   ]
  },
  {
   "cell_type": "markdown",
   "metadata": {},
   "source": [
    "#### Define a simple function to extract raw line data in an array and demo its usage"
   ]
  },
  {
   "cell_type": "code",
   "execution_count": 6,
   "metadata": {},
   "outputs": [],
   "source": [
    "def getRawLineData(ds,var):\n",
    "    ray = ds.ortho_ray(1, (0,0))\n",
    "    y = np.array(ray['y'])\n",
    "    linedata = np.array(ray[var])\n",
    "    return y, linedata"
   ]
  },
  {
   "cell_type": "code",
   "execution_count": 7,
   "metadata": {},
   "outputs": [
    {
     "data": {
      "text/plain": [
       "[<matplotlib.lines.Line2D at 0x7f8480e99a58>]"
      ]
     },
     "execution_count": 7,
     "metadata": {},
     "output_type": "execute_result"
    },
    {
     "data": {
      "image/png": "[encoded data removed]",
      "text/plain": [
       "<Figure size 432x288 with 1 Axes>"
      ]
     },
     "metadata": {
      "needs_background": "light"
     },
     "output_type": "display_data"
    }
   ],
   "source": [
    "y, linedata = getRawLineData(ds0,'rho')\n",
    "plt.plot(y,linedata)"
   ]
  },
  {
   "cell_type": "markdown",
   "metadata": {},
   "source": [
    "#### Subtract off the analytically expected value from different variables"
   ]
  },
  {
   "cell_type": "markdown",
   "metadata": {},
   "source": [
    "#### rho0 vs expected"
   ]
  },
  {
   "cell_type": "code",
   "execution_count": 8,
   "metadata": {},
   "outputs": [
    {
     "data": {
      "text/plain": [
       "[<matplotlib.lines.Line2D at 0x7f8480ad13c8>]"
      ]
     },
     "execution_count": 8,
     "metadata": {},
     "output_type": "execute_result"
    },
    {
     "data": {
      "image/png": "[encoded data removed]",
      "text/plain": [
       "<Figure size 432x288 with 1 Axes>"
      ]
     },
     "metadata": {
      "needs_background": "light"
     },
     "output_type": "display_data"
    }
   ],
   "source": [
    "y, rho = getRawLineData(ds0,'rho0')\n",
    "rhoExpected = np.zeros(len(y))\n",
    "\n",
    "# in the code, have used \"use_p_H_g\", which means pres_base, scale height H and g are set, and then rho etc is calc from them\n",
    "pBase = 1e13\n",
    "H = 1e9\n",
    "g = 3e4 # just want magnitude / positive\n",
    "\n",
    "rhoBase = pBase / g / H\n",
    "\n",
    "for i, yc in enumerate(y):\n",
    "    rhoExpected[i] = rhoBase * np.exp(-yc/H);\n",
    "    #print(i,y, rho[i], rhoExpected[i], rhoExpected[i] - rho[i])\n",
    "    \n",
    "plt.plot(y, (rho-rhoExpected), 'x')"
   ]
  },
  {
   "cell_type": "markdown",
   "metadata": {},
   "source": [
    "~~This does make it look as though there is some issue with the value of rho in the first cell! Origionally, i thought the slightly off lineplots were because yt wanted to try and guess the value at y==0  (i.e. on the face) and extrapolated from the cell. This raw data seems to be exactly the value in the cell.~~ -**Looks a lot better now!!!**"
   ]
  },
  {
   "cell_type": "markdown",
   "metadata": {},
   "source": [
    "Can check this like so..."
   ]
  },
  {
   "cell_type": "code",
   "execution_count": 9,
   "metadata": {},
   "outputs": [
    {
     "name": "stdout",
     "output_type": "stream",
     "text": [
      "the method returned rho=0.33073931275341445 in the first index\n"
     ]
    }
   ],
   "source": [
    "y, rho = getRawLineData(ds0,'rho0')\n",
    "print('the method returned rho={} in the first index'.format(rho[0]))"
   ]
  },
  {
   "cell_type": "code",
   "execution_count": 10,
   "metadata": {},
   "outputs": [],
   "source": [
    "string = ds0Path + 'BaseCC_0'"
   ]
  },
  {
   "cell_type": "code",
   "execution_count": 11,
   "metadata": {},
   "outputs": [
    {
     "name": "stdout",
     "output_type": "stream",
     "text": [
      "r_cc  rho0  rhoh0  p0  gamma1bar \n",
      "7812500 0.33073931275341445 24805448456506.07 9922179382602.4355 1.6666666666666681\n"
     ]
    }
   ],
   "source": [
    "%%bash -s \"$string\"\n",
    "head -2 $1"
   ]
  },
  {
   "cell_type": "markdown",
   "metadata": {},
   "source": [
    "you can see that it is exactly that"
   ]
  },
  {
   "cell_type": "markdown",
   "metadata": {},
   "source": [
    "#### p0 expected vs recorded"
   ]
  },
  {
   "cell_type": "code",
   "execution_count": 12,
   "metadata": {},
   "outputs": [
    {
     "data": {
      "text/plain": [
       "[<matplotlib.lines.Line2D at 0x7f8480a3c4e0>]"
      ]
     },
     "execution_count": 12,
     "metadata": {},
     "output_type": "execute_result"
    },
    {
     "data": {
      "image/png": "[encoded data removed]",
      "text/plain": [
       "<Figure size 432x288 with 1 Axes>"
      ]
     },
     "metadata": {
      "needs_background": "light"
     },
     "output_type": "display_data"
    }
   ],
   "source": [
    "y, p0 = getRawLineData(ds0,'p0')\n",
    "pExpected = np.zeros(len(y))\n",
    "\n",
    "# in the code, have used \"use_p_H_g\", which means pres_base, scale height H and g are set, and then rho etc is calc from them\n",
    "pBase = 1e13\n",
    "H = 1e9\n",
    "g = 3e4 # just want magnitude / positive\n",
    "\n",
    "\n",
    "for i, yc in enumerate(y):\n",
    "    pExpected[i] = pBase * np.exp(-yc/H);\n",
    "    \n",
    "plt.plot(y, (pExpected-p0)/p0, 'x')"
   ]
  },
  {
   "cell_type": "markdown",
   "metadata": {},
   "source": [
    "~~So there seems to be a similar issue~~"
   ]
  },
  {
   "cell_type": "code",
   "execution_count": 13,
   "metadata": {},
   "outputs": [
    {
     "name": "stdout",
     "output_type": "stream",
     "text": [
      "9922179382602.436 9922179382602.436\n"
     ]
    }
   ],
   "source": [
    "print(p0[0], pExpected[0])"
   ]
  },
  {
   "cell_type": "markdown",
   "metadata": {},
   "source": [
    "The above is a bit more of a clue - the pressure at the first cell seems to be the value it should be on the edge!!!"
   ]
  }
 ],
 "metadata": {
  "kernelspec": {
   "display_name": "Python 3",
   "language": "python",
   "name": "python3"
  },
  "language_info": {
   "codemirror_mode": {
    "name": "ipython",
    "version": 3
   },
   "file_extension": ".py",
   "mimetype": "text/x-python",
   "name": "python",
   "nbconvert_exporter": "python",
   "pygments_lexer": "ipython3",
   "version": "3.7.1"
  }
 },
 "nbformat": 4,
 "nbformat_minor": 2
}
