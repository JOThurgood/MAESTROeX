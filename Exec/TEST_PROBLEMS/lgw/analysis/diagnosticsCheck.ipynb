{
 "cells": [
  {
   "cell_type": "markdown",
   "metadata": {},
   "source": [
    "# Tests for Diag "
   ]
  },
  {
   "cell_type": "code",
   "execution_count": 1,
   "metadata": {},
   "outputs": [],
   "source": [
    "%matplotlib inline\n",
    "import numpy as np\n",
    "import matplotlib.pyplot as plt\n",
    "plt.rcParams['figure.figsize'] = [10, 5]\n",
    "import yt\n",
    "##yt.mylog.setLevel()\n",
    "yt.utilities.logger.disable_stream_logging()"
   ]
  },
  {
   "cell_type": "code",
   "execution_count": 2,
   "metadata": {},
   "outputs": [],
   "source": [
    "dataDir = '../single_level/'\n",
    "baseName = 'plt'"
   ]
  },
  {
   "cell_type": "code",
   "execution_count": 3,
   "metadata": {},
   "outputs": [],
   "source": [
    "ds = yt.load(dataDir + baseName + '0000001') # LOAD AT PLT 1 - intended that that corresponds to step==1"
   ]
  },
  {
   "cell_type": "code",
   "execution_count": 4,
   "metadata": {},
   "outputs": [],
   "source": [
    "#ds.field_list"
   ]
  },
  {
   "cell_type": "code",
   "execution_count": 5,
   "metadata": {},
   "outputs": [],
   "source": [
    "dx, dy, dz = ds.domain_width / ds.domain_dimensions # think this is ok for single level / UG"
   ]
  },
  {
   "cell_type": "markdown",
   "metadata": {},
   "source": [
    "## diag_vel.out"
   ]
  },
  {
   "cell_type": "markdown",
   "metadata": {},
   "source": [
    "Look at the file (assuming its only a few rows)"
   ]
  },
  {
   "cell_type": "code",
   "execution_count": 6,
   "metadata": {},
   "outputs": [
    {
     "name": "stdout",
     "output_type": "stream",
     "text": [
      "time                     max{U}                   max{Mach}                tot kin energy           tot grav energy          tot int energy           dt                       \n",
      "0.000000000000000e+00    0.000000000000000e+00    0.000000000000000e+00    0.000000000000000e+00    2.642512900191456e+21    9.481602034658032e+30    1.974270210459415e-01    \n",
      "1.974270210459415e-01    6.942426120264281e+01    9.746648957406819e-06    2.340851675917258e+20    2.642512900056286e+21    9.481602034521549e+30    1.974270210459415e-01    \n"
     ]
    }
   ],
   "source": [
    "cat ../diag_vel.out"
   ]
  },
  {
   "cell_type": "markdown",
   "metadata": {},
   "source": [
    "Load up data needed for velocities and kinetic energy calculation"
   ]
  },
  {
   "cell_type": "code",
   "execution_count": 7,
   "metadata": {},
   "outputs": [],
   "source": [
    "all_data_level_0 = ds.covering_grid(level=0, left_edge=[0,0.0,0.0], dims=[64, 64, 1])\n",
    "vx = all_data_level_0['velx']\n",
    "vx = vx[:,:,0].transpose()\n",
    "vy = all_data_level_0['vely']\n",
    "vy = vy[:,:,0].transpose()\n",
    "rho = all_data_level_0['rho']\n",
    "rho = rho[:,:,0].transpose()\n",
    "w0y = all_data_level_0['w0y']\n",
    "w0y = w0y[:,:,0].transpose()\n",
    "vel = np.sqrt(vx**2 + (vy+w0y)**2)"
   ]
  },
  {
   "cell_type": "markdown",
   "metadata": {},
   "source": [
    "Whats the maximum velocity according to the plotfile data?"
   ]
  },
  {
   "cell_type": "code",
   "execution_count": 8,
   "metadata": {},
   "outputs": [
    {
     "data": {
      "text/plain": [
       "69.42426120264281 dimensionless"
      ]
     },
     "execution_count": 8,
     "metadata": {},
     "output_type": "execute_result"
    }
   ],
   "source": [
    "np.max(vel) "
   ]
  },
  {
   "cell_type": "markdown",
   "metadata": {},
   "source": [
    "Whats the total kinetic energy according to the data in the plotfile? The codes diag file currently ignores the 0.5, and will \"Normalise\"?!? for dL, dA, or dV"
   ]
  },
  {
   "cell_type": "code",
   "execution_count": 9,
   "metadata": {},
   "outputs": [
    {
     "data": {
      "text/plain": [
       "2.3408516759172606e+20 code_length**2"
      ]
     },
     "execution_count": 9,
     "metadata": {},
     "output_type": "execute_result"
    }
   ],
   "source": [
    "ke = 0.5 * rho * vel**2\n",
    "np.sum(2. * ke *dx * dy)"
   ]
  },
  {
   "cell_type": "markdown",
   "metadata": {},
   "source": [
    "Whats the total internal energy according to the data in the plotfile? I had to look inside the EOS code to see how this is calculated"
   ]
  },
  {
   "cell_type": "code",
   "execution_count": 10,
   "metadata": {},
   "outputs": [],
   "source": [
    "T = all_data_level_0['tfromp']\n",
    "T = T[:,:,0].transpose()"
   ]
  },
  {
   "cell_type": "code",
   "execution_count": 11,
   "metadata": {},
   "outputs": [],
   "source": [
    "k_B = 1.3806488e-16   # erg/K\n",
    "n_A = 6.02214129e23  # mol^-1\n",
    "R = k_B * n_A\n",
    "\n",
    "mu = 1\n",
    "\n",
    "gamma = 5./3.\n",
    "cv = R /mu / (gamma-1)\n",
    "eint = cv * T "
   ]
  },
  {
   "cell_type": "code",
   "execution_count": 12,
   "metadata": {},
   "outputs": [],
   "source": [
    "test = np.sum(eint*rho * dx**2)/9.481602034658032e30"
   ]
  },
  {
   "cell_type": "code",
   "execution_count": 13,
   "metadata": {},
   "outputs": [
    {
     "data": {
      "text/plain": [
       "-2.1264656702157936e-11"
      ]
     },
     "execution_count": 13,
     "metadata": {},
     "output_type": "execute_result"
    }
   ],
   "source": [
    "np.float(test) -1 \n"
   ]
  },
  {
   "cell_type": "markdown",
   "metadata": {},
   "source": [
    "Whats the maximum mach number?"
   ]
  },
  {
   "cell_type": "code",
   "execution_count": 14,
   "metadata": {},
   "outputs": [
    {
     "name": "stdout",
     "output_type": "stream",
     "text": [
      "9.746648957452972e-06 dimensionless\n"
     ]
    }
   ],
   "source": [
    "rho = all_data_level_0['rho']\n",
    "rho = rho[:,:,0].transpose()\n",
    "p = all_data_level_0['p0']\n",
    "p = p[:,:,0].transpose()\n",
    "cs = np.sqrt(gamma * p / rho)\n",
    "mach = vel / cs\n",
    "\n",
    "print( np.max(mach))"
   ]
  },
  {
   "cell_type": "markdown",
   "metadata": {},
   "source": [
    "### Whats the gravitational potential energy?"
   ]
  },
  {
   "cell_type": "markdown",
   "metadata": {},
   "source": [
    "#### Definition\n",
    "\n",
    "Note $g=-\\frac{d \\Phi(r)}{dr}$ with boundary condition $\\Phi(r)=0$ (wlog) and constant gravity gives $\\Phi=-gr$.\n",
    "\n",
    "Note that $\\Phi$ has units of length squared / time squared (in cgs cm^2/s^2) which can be thought of as energy per unit mass\n",
    "\n",
    "So an energy density can be defined \n",
    "\n",
    "$\\rho \\Phi = - \\rho g r$ \n",
    "\n",
    "This then can be evaluated with an appropriate volume integral (or area integral for a \"2D energy\")"
   ]
  },
  {
   "cell_type": "markdown",
   "metadata": {},
   "source": [
    "#### Anayltical expectation for the lgw base state\n",
    "\n",
    "The integral along the base state line is\n",
    "\n",
    "$GE = -g \\int_0^H \\rho_0 r dr = -g \\rho_{base} \\int_0^H r e^{-r/H} dr $\n",
    "\n",
    "$= -g \\rho_{base} \\left[-He^{-r/H}(H+R)\\right]_0^{H}$\n",
    "\n",
    "$= -g \\rho_{base} H^2 [1-2e^{-1}] = -g \\rho_{base} H^2 \\times 0.26424111765$\n",
    "\n",
    "This should then probabally be multiplied by the length in x to account for the rest of the integral over our 2d plane\n",
    "\n"
   ]
  },
  {
   "cell_type": "markdown",
   "metadata": {},
   "source": [
    "For our implementation in maestro it seems pretty close, and I expect the difference is more to due with the numeric representation of our nominal base state rather than the way in which we calculate grav energy:"
   ]
  },
  {
   "cell_type": "code",
   "execution_count": 15,
   "metadata": {},
   "outputs": [
    {
     "name": "stdout",
     "output_type": "stream",
     "text": [
      "2.6424111765711534e+21 2.642411176571153e+30\n"
     ]
    }
   ],
   "source": [
    "g=-3e4\n",
    "H=1e9\n",
    "r=1/3\n",
    "\n",
    "U = -g * r * H**2 * (1-2*np.exp(-1))\n",
    "print(U, U*1e9)"
   ]
  },
  {
   "cell_type": "code",
   "execution_count": 16,
   "metadata": {},
   "outputs": [
    {
     "name": "stdout",
     "output_type": "stream",
     "text": [
      "1.0000384965145488\n",
      "3.8496514548750144e-05\n",
      "1.017236203026514e+26\n"
     ]
    }
   ],
   "source": [
    "Uout =2.642512900191456e21 #version manually entered copy and pasted from diag file\n",
    "print(Uout / U)\n",
    "print((Uout-U)/U)\n",
    "print((Uout-U)*1e9)"
   ]
  },
  {
   "cell_type": "markdown",
   "metadata": {},
   "source": [
    "## diag_temp.out"
   ]
  },
  {
   "cell_type": "code",
   "execution_count": 17,
   "metadata": {},
   "outputs": [
    {
     "name": "stdout",
     "output_type": "stream",
     "text": [
      "time                     max{T}                   x(max{T})                y(max{T})                z(max{T})                vx(max{T})               vy(max{T})               vz(max{T})               \n",
      "0.000000000000000e+00    3.661246553124602e+05    7.812500000000000e+06    7.578125000000000e+08    0.000000000000000e+00    0.000000000000000e+00    0.000000000000000e+00    0.000000000000000e+00    \n",
      "1.974270210459415e-01    3.661246543080655e+05    5.078125000000000e+08    7.578125000000000e+08    0.000000000000000e+00    2.208963925956074e-01    6.942390977405776e+01    0.000000000000000e+00    \n"
     ]
    }
   ],
   "source": [
    "cat ../diag_temp.out"
   ]
  },
  {
   "cell_type": "code",
   "execution_count": 18,
   "metadata": {},
   "outputs": [
    {
     "name": "stdout",
     "output_type": "stream",
     "text": [
      "366124.65430806554 dimensionless\n"
     ]
    }
   ],
   "source": [
    "T = all_data_level_0['tfromh']\n",
    "T = T[:,:,0].transpose()\n",
    "print(np.max(T))"
   ]
  },
  {
   "cell_type": "markdown",
   "metadata": {},
   "source": [
    "can have a look at the actual coordinates, but its tricky if there are multiple maxima - might want to setup a test where one cell is very hot?"
   ]
  },
  {
   "cell_type": "code",
   "execution_count": 19,
   "metadata": {},
   "outputs": [],
   "source": [
    "iy,ix = np.where( T == np.max(T))"
   ]
  },
  {
   "cell_type": "code",
   "execution_count": 20,
   "metadata": {},
   "outputs": [
    {
     "data": {
      "text/plain": [
       "YTArray([366124.65430807]) (dimensionless)"
      ]
     },
     "execution_count": 20,
     "metadata": {},
     "output_type": "execute_result"
    }
   ],
   "source": [
    "T[iy, ix]"
   ]
  },
  {
   "cell_type": "code",
   "execution_count": 21,
   "metadata": {},
   "outputs": [
    {
     "data": {
      "text/plain": [
       "[5.078125e+08] code_length"
      ]
     },
     "execution_count": 21,
     "metadata": {},
     "output_type": "execute_result"
    }
   ],
   "source": [
    "ix * dx + dx/2"
   ]
  },
  {
   "cell_type": "code",
   "execution_count": 22,
   "metadata": {},
   "outputs": [
    {
     "data": {
      "text/plain": [
       "[7.578125e+08] code_length"
      ]
     },
     "execution_count": 22,
     "metadata": {},
     "output_type": "execute_result"
    }
   ],
   "source": [
    "iy * dy + dy/2"
   ]
  },
  {
   "cell_type": "code",
   "execution_count": 23,
   "metadata": {},
   "outputs": [
    {
     "data": {
      "text/plain": [
       "YTArray([0.22089639]) (dimensionless)"
      ]
     },
     "execution_count": 23,
     "metadata": {},
     "output_type": "execute_result"
    }
   ],
   "source": [
    "vx[iy,ix]"
   ]
  },
  {
   "cell_type": "code",
   "execution_count": 24,
   "metadata": {},
   "outputs": [
    {
     "data": {
      "text/plain": [
       "[69.42390977] dimensionless"
      ]
     },
     "execution_count": 24,
     "metadata": {},
     "output_type": "execute_result"
    }
   ],
   "source": [
    "vy[iy, ix] + w0y[iy,ix]"
   ]
  },
  {
   "cell_type": "markdown",
   "metadata": {},
   "source": [
    "## diag_enuc.out\n",
    "\n",
    "Dont really have a good test for this. But since its so similar logically to temp, i think im willing to take it as OK for now (even to the point of making a PR). If there is a bug - it will get noticed later"
   ]
  }
 ],
 "metadata": {
  "kernelspec": {
   "display_name": "Python 3",
   "language": "python",
   "name": "python3"
  },
  "language_info": {
   "codemirror_mode": {
    "name": "ipython",
    "version": 3
   },
   "file_extension": ".py",
   "mimetype": "text/x-python",
   "name": "python",
   "nbconvert_exporter": "python",
   "pygments_lexer": "ipython3",
   "version": "3.7.1"
  }
 },
 "nbformat": 4,
 "nbformat_minor": 2
}
