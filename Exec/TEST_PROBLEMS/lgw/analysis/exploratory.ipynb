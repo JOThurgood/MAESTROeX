{
 "cells": [
  {
   "cell_type": "markdown",
   "metadata": {},
   "source": [
    "# To Do\n",
    "\n",
    "* At t=0 \n",
    "    * subtract off analytical $\\rho^\\prime$ from codes rhopert - is there some error at the bottom cell? \n",
    "    * similarly, subtract off analytical $\\rho_0$ from codes $\\rho$ (full). Are you left with the exact perturbation you expect?\n",
    "    * have a closer look at the apparent issue with h at the bottom, and with the little rho spikes\n",
    "* Compare a no base state evo run with a base state evo run\n",
    "    * time series signals for both of the different vars at points\n",
    "    * animations of the 2D evo for both\n",
    "    * in the evolving simulation, see $\\rho-\\rho_0(t=0)$ looks like $\\rho^\\prime$ in the non-evolving bkgd simulation\n",
    "* do the 1d diag code stuff"
   ]
  },
  {
   "cell_type": "code",
   "execution_count": null,
   "metadata": {},
   "outputs": [],
   "source": []
  }
 ],
 "metadata": {
  "kernelspec": {
   "display_name": "Python 3",
   "language": "python",
   "name": "python3"
  },
  "language_info": {
   "codemirror_mode": {
    "name": "ipython",
    "version": 3
   },
   "file_extension": ".py",
   "mimetype": "text/x-python",
   "name": "python",
   "nbconvert_exporter": "python",
   "pygments_lexer": "ipython3",
   "version": "3.7.1"
  }
 },
 "nbformat": 4,
 "nbformat_minor": 2
}
