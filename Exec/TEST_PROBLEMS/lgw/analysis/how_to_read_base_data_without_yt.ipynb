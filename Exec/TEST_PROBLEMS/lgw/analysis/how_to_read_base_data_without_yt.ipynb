{
 "cells": [
  {
   "cell_type": "markdown",
   "metadata": {},
   "source": [
    "### Preamble / imports"
   ]
  },
  {
   "cell_type": "code",
   "execution_count": 1,
   "metadata": {},
   "outputs": [],
   "source": [
    "%matplotlib inline\n",
    "import numpy as np\n",
    "import matplotlib.pyplot as plt\n",
    "plt.rcParams['figure.figsize'] = [10, 5]\n",
    "# import yt\n",
    "# ##yt.mylog.setLevel()\n",
    "# yt.utilities.logger.disable_stream_logging()"
   ]
  },
  {
   "cell_type": "markdown",
   "metadata": {},
   "source": [
    "# A note on accessing base state data without using yt\n",
    "\n",
    "Its possible to get most base state info without having to use yt which might be useful / clearer / faster in a lot of situations\n",
    "\n",
    "+ each plotfile has files for 1d data `BaseCC_0` and `BaseFC_0` (cell centered and face centered, respectively)\n",
    "+ `BaseCC_0` contains `r_cc`  `rho0`  `rhoh0`  `p0`  `gamma1bar` \n",
    "+ `BaseFC_0` contains `r_edge` and `w0`\n",
    "+ I've not checked what it is like in multilevel, but im pretty sure this will just be the base state at the finest uniform grid\n",
    "\n",
    "The following snippet shows how to read this data with np.loadtxt"
   ]
  },
  {
   "cell_type": "code",
   "execution_count": 2,
   "metadata": {},
   "outputs": [],
   "source": [
    "# put the relative or absolute directory of the problem output here\n",
    "dataDir1 = '../run1/'\n",
    "dataDir2 = '../run2/'\n",
    "\n",
    "BaseCC_0 = dataDir1+'plt0000000/BaseCC_0'\n",
    "BaseFC_0 = dataDir1+'plt0000000/BaseFC_0'\n",
    "r_cc, rho0, rhoh0, p0, gamma1bar = np.loadtxt(BaseCC_0, skiprows=1, unpack=True)\n",
    "r_edge, w0 = np.loadtxt(BaseFC_0, skiprows=1, unpack=True)"
   ]
  },
  {
   "cell_type": "code",
   "execution_count": 3,
   "metadata": {},
   "outputs": [
    {
     "data": {
      "text/plain": [
       "[<matplotlib.lines.Line2D at 0x7efcf6a56320>]"
      ]
     },
     "execution_count": 3,
     "metadata": {},
     "output_type": "execute_result"
    },
    {
     "data": {
      "image/png": "[encoded data removed]",
      "text/plain": [
       "<Figure size 432x288 with 1 Axes>"
      ]
     },
     "metadata": {
      "needs_background": "light"
     },
     "output_type": "display_data"
    }
   ],
   "source": [
    "plt.plot(r_cc,rho0)"
   ]
  }
 ],
 "metadata": {
  "kernelspec": {
   "display_name": "Python 3",
   "language": "python",
   "name": "python3"
  },
  "language_info": {
   "codemirror_mode": {
    "name": "ipython",
    "version": 3
   },
   "file_extension": ".py",
   "mimetype": "text/x-python",
   "name": "python",
   "nbconvert_exporter": "python",
   "pygments_lexer": "ipython3",
   "version": "3.7.1"
  }
 },
 "nbformat": 4,
 "nbformat_minor": 2
}
