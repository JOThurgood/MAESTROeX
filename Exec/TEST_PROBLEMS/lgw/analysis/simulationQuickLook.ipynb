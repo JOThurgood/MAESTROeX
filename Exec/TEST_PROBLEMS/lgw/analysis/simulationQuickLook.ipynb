{
 "cells": [
  {
   "cell_type": "markdown",
   "metadata": {},
   "source": [
    "# This notebook produces quick diagnostics for a single simulation"
   ]
  },
  {
   "cell_type": "markdown",
   "metadata": {},
   "source": [
    "#### Preamble / imports"
   ]
  },
  {
   "cell_type": "code",
   "execution_count": 1,
   "metadata": {},
   "outputs": [],
   "source": [
    "%matplotlib inline\n",
    "import numpy as np\n",
    "import matplotlib.pyplot as plt\n",
    "plt.rcParams['figure.figsize'] = [10, 5]\n",
    "import yt\n",
    "##yt.mylog.setLevel()\n",
    "yt.utilities.logger.disable_stream_logging()"
   ]
  },
  {
   "cell_type": "markdown",
   "metadata": {},
   "source": [
    "### Data path"
   ]
  },
  {
   "cell_type": "code",
   "execution_count": 2,
   "metadata": {},
   "outputs": [],
   "source": [
    "# put the relative or absolute directory of the problem output here\n",
    "dataDir = '../single_level/'\n",
    "baseName = 'plt'\n",
    "dsPath = dataDir + baseName\n",
    "tsPath = dsPath + '???????/'\n",
    "ds0Path = dsPath + '0000000/'"
   ]
  },
  {
   "cell_type": "markdown",
   "metadata": {},
   "source": [
    "### Output Path"
   ]
  },
  {
   "cell_type": "markdown",
   "metadata": {},
   "source": [
    "A sensible default might be dataDir/post"
   ]
  },
  {
   "cell_type": "code",
   "execution_count": 3,
   "metadata": {},
   "outputs": [],
   "source": [
    "outDir = dataDir+\"post/\""
   ]
  },
  {
   "cell_type": "markdown",
   "metadata": {},
   "source": [
    "Create the output directory if it doesn't exist"
   ]
  },
  {
   "cell_type": "code",
   "execution_count": 4,
   "metadata": {},
   "outputs": [],
   "source": [
    "%%bash -s \"$outDir\" \n",
    "mkdir -p $1"
   ]
  },
  {
   "cell_type": "markdown",
   "metadata": {},
   "source": [
    "## Job Information at t=0"
   ]
  },
  {
   "cell_type": "code",
   "execution_count": 5,
   "metadata": {},
   "outputs": [],
   "source": [
    "string = ds0Path + 'job_info'"
   ]
  },
  {
   "cell_type": "code",
   "execution_count": 6,
   "metadata": {},
   "outputs": [
    {
     "name": "stdout",
     "output_type": "stream",
     "text": [
      "==============================================================================\n",
      " MAESTROeX Job Information\n",
      "==============================================================================\n",
      "job name: \n",
      "\n",
      "inputs file: inputs_2d_C\n",
      "\n",
      "number of MPI processes: 1\n",
      "number of threads:       24\n",
      "tile size: 1024000 1024000 \n",
      "\n",
      "CPU time used since start of simulation (CPU-hours): 0.00109663\n",
      "\n",
      "==============================================================================\n",
      " Plotfile Information\n",
      "==============================================================================\n",
      "output data / time: Mon Jul  8 15:36:37 2019\n",
      "output dir:         /data/njt132/MAESTROeX/Exec/TEST_PROBLEMS/lgw\n",
      "\n",
      "\n",
      "==============================================================================\n",
      " Build Information\n",
      "==============================================================================\n",
      "build date:    2019-07-08 15:32:38.755486\n",
      "build machine: Linux salem 4.15.0-1038-oem #43-Ubuntu SMP Wed May 8 10:43:52 UTC 2019 x86_64 x86_64 x86_64 GNU/Linux\n",
      "build dir:     /data/njt132/MAESTROeX/Exec/TEST_PROBLEMS/lgw\n",
      "AMReX dir:     /data/njt132/amrex/\n",
      "\n",
      "COMP:          gnu\n",
      "COMP version:  7.4.0\n",
      "\n",
      "C++ compiler:  g++\n",
      "C++ flags:      -Werror=return-type -g -O3  -fopenmp -DNDEBUG -DBL_USE_OMP -DAMREX_USE_OMP -DAMREX_GIT_VERSION=\"19.06-535-gf3b66bc0f125\" -DBL_GCC_VERSION=7.4.0 -DBL_GCC_MAJOR_VERSION=7 -DBL_GCC_MINOR_VERSION=4 -DAMREX_LAUNCH= -DAMREX_DEVICE= -DAMREX_CUDA_FORT_GLOBAL= -DAMREX_CUDA_FORT_DEVICE= -DAMREX_CUDA_FORT_HOST= -DBL_SPACEDIM=2 -DAMREX_SPACEDIM=2 -DBL_FORT_USE_UNDERSCORE -DAMREX_FORT_USE_UNDERSCORE -DBL_Linux -DAMREX_Linux -DCRSEGRNDOMP -DEXTRA_THERMO -DINTEGRATOR=0 -I. -I. -I../../../Source -I../../../Source/Src_nd -I../../../Source/param_includes -I../../../constants -I../../../Util/model_parser -I../../../Util/simple_log -I../../../Microphysics/EOS -I/data/njt132/Microphysics//EOS/gamma_law_general -I../../../Microphysics/networks -I../../../Microphysics/networks/general_null -I/data/njt132/Microphysics//EOS -I/data/njt132/Microphysics//networks -I../../../Microphysics/conductivity -I../../../Microphysics/conductivity -I../../../Microphysics/conductivity/constant -I/data/njt132/amrex//Src/Base -I/data/njt132/amrex//Src/Boundary -I/data/njt132/amrex//Src/AmrCore -I/data/njt132/amrex//Src/LinearSolvers/C_CellMG -I/data/njt132/amrex//Src/LinearSolvers/MLMG -I/data/njt132/Microphysics//util -I/data/njt132/Microphysics//util/LINPACK -I/data/njt132/Microphysics//util/BLAS -I/data/njt132/Microphysics//integration/VODE -I/data/njt132/Microphysics//integration/VODE/vode_source/ -I/data/njt132/Microphysics//integration/BS -I/data/njt132/Microphysics//integration -I. -I../../../Source -I../../../Source/Src_nd -I../../../Source/param_includes -I../../../constants -I../../../Util/model_parser -I../../../Util/simple_log -I../../../Microphysics/EOS -I/data/njt132/Microphysics//EOS/gamma_law_general -I../../../Microphysics/networks -I../../../Microphysics/networks/general_null -I/data/njt132/Microphysics//EOS -I/data/njt132/Microphysics//networks -I../../../Microphysics/conductivity -I../../../Microphysics/conductivity -I../../../Microphysics/conductivity/constant -I/data/njt132/amrex//Tools/C_scripts\n",
      "\n",
      "Fortran comp:  gfortran\n",
      "Fortran flags:  -g -O3 -ffree-line-length-none -fno-range-check -fno-second-underscore -fimplicit-none  -fopenmp\n",
      "\n",
      "Link flags:    -L. -L/usr/lib/gcc/x86_64-linux-gnu/7/\n",
      "Libraries:      -lgfortran -lquadmath\n",
      "\n",
      "EOS: /data/njt132/Microphysics//EOS/gamma_law_general\n",
      "NETWORK: ../../../Microphysics/networks/general_null\n",
      "CONDUCTIVITY: ../../../Microphysics/conductivity/constant\n",
      "MAESTROeX git describe: 19.04.1-202-gd9e8db0-dirty\n",
      "AMReX git describe: 19.06-535-gf3b66bc0f\n",
      "Microphysics git describe: flame_wave-76-g4295c850\n",
      "\n",
      "\n",
      "==============================================================================\n",
      " Grid Information\n",
      "==============================================================================\n",
      " level: 0\n",
      "   number of boxes = 1\n",
      "   maximum zones   = 64 64 \n",
      "\n",
      " Boundary conditions\n",
      "   -x: interior\n",
      "   +x: interior\n",
      "   -y: slipwall\n",
      "   +y: slipwall\n",
      "\n",
      "\n",
      "==============================================================================\n",
      " Species Information\n",
      "==============================================================================\n",
      " index        \n",
      "                 name        \n",
      "      A        \n",
      "      Z\n",
      "------------------------------------------------------------------------------\n",
      "     0        \n",
      "                    A        \n",
      "      1        \n",
      "      1\n",
      "\n",
      "\n",
      "==============================================================================\n",
      " Inputs File Parameters\n",
      "==============================================================================\n",
      "maestro.perturb_model = false\n",
      "maestro.ppm_type = 0\n",
      "maestro.max_step = 1000\n",
      "maestro.stop_time = 15e3\n",
      "maestro.max_dt = 100.0\n",
      "geometry.prob_lo = 0.0 0.0 0.0\n",
      "geometry.prob_hi = 1.0e9 1.0e9 1.0e9\n",
      "maestro.lo_bc = 0 4 4\n",
      "maestro.hi_bc = 0 4 4\n",
      "geometry.is_periodic = 1 0 0\n",
      "maestro.v(nvals = 1)  :: [0]\n",
      "amrex.fpe_trap_invalid = 1\n",
      "amr.n_cell = 64 64 64\n",
      "amr.max_level = 0\n",
      "amr.ref_ratio(nvals = 4)  :: [2, 2, 2, 2]\n",
      "amr.blocking_factor = 8\n",
      "amr.max_grid_size = 128\n",
      "maestro.regrid_int = 2\n",
      "amr.refine_grid_layout = 0\n",
      "maestro.regrid_int = 2\n",
      "maestro.cfl = 0.9\n",
      "maestro.init_shrink = 0.1e0\n",
      "maestro.plot_base_name = single_level/plt\n",
      "maestro.plot_int = 1000\n",
      "maestro.plot_deltat = 100e0\n",
      "maestro.small_plot_base_name = tmpsingle_level/sml\n",
      "maestro.check_base_name = single_level/chk\n",
      "maestro.chk_int = -1\n",
      "maestro.evolve_base_state = true\n",
      "maestro.do_initial_projection = true\n",
      "maestro.init_divu_iter = 1\n",
      "maestro.init_iter = 1\n",
      "maestro.do_reflux(nvals = 1)  :: [0]\n",
      "maestro.do_sponge = 0\n",
      "maestro.sponge_center_density = 3.e6\n",
      "maestro.sponge_start_factor = 10.e0\n",
      "maestro.sponge_kappa = 10.e0\n",
      "maestro.use_thermal_diffusion = false\n",
      "maestro.eps_init_proj_cart = 1.e-12\n",
      "maestro.eps_init_proj_sph = 1.e-10\n",
      "maestro.eps_divu_cart = 1.e-8\n",
      "maestro.eps_divu_sph = 1.e-10\n",
      "maestro.divu_iter_factor = 100.\n",
      "maestro.divu_level_factor = 10.\n",
      "maestro.eps_hg = 1.e-12\n",
      "maestro.eps_hg_max = 1.e-10\n",
      "maestro.hg_level_factor = 10.\n",
      "maestro.eps_hg_bottom = 1.e-4\n",
      "maestro.anelastic_cutoff_density = 1.e-10\n",
      "maestro.base_cutoff_density = 1.e-10\n",
      "maestro.grav_const = -3.0e4\n",
      "maestro.small_temp = 1.e-10\n",
      "maestro.small_dens = 1.e-10\n",
      "maestro.do_burning = false\n",
      "system.regtest_reduction(nvals = 1)  :: [1]\n",
      "                             pres_base =     0.1000000000E+14\n",
      " [*]                         dens_base =     0.3333333333    \n",
      "                          scale_height =      1000000000.    \n",
      " [*]                          pert_amp =     0.1000000000E-01\n",
      "                                 k_hoz =      4.000000000    \n",
      "                                k_vert =      2.000000000    \n",
      "                         do_isentropic = F\n",
      "                            do_uniform = F\n",
      "                          use_p_dens_g = F\n",
      "                             use_p_H_g = T\n",
      "                             eos_gamma =      1.666666667    \n",
      "                    eos_assume_neutral = T\n",
      "                               small_x =     0.1000000000E-29\n",
      "                            use_tables = F\n",
      "                    use_c12ag_deboer17 = F\n",
      " [*]                const_conductivity =      0.000000000    \n",
      "                        scaling_method =          2\n",
      "                use_timestep_estimator = F\n",
      "                       ode_scale_floor =     0.1000000000E-05\n",
      "                            ode_method =          1\n",
      "                         safety_factor =      1000000000.    \n",
      "               do_constant_volume_burn = F\n",
      "                       call_eos_in_rhs = F\n",
      "                               dT_crit =     0.1000000000E+21\n",
      "                          burning_mode =          1\n",
      "                   burning_mode_factor =     0.1000000000    \n",
      "                 integrate_temperature = T\n",
      "                      integrate_energy = T\n",
      "                              jacobian =          1\n",
      "                     centered_diff_jac = F\n",
      "                        burner_verbose = F\n",
      "                             rtol_spec =     0.1000000000E-11\n",
      "                             rtol_temp =     0.1000000000E-05\n",
      "                             rtol_enuc =     0.1000000000E-05\n",
      "                             atol_spec =     0.1000000000E-11\n",
      "                             atol_temp =     0.1000000000E-05\n",
      "                             atol_enuc =     0.1000000000E-05\n",
      "                            retry_burn = F\n",
      "                     retry_burn_factor =      1.250000000    \n",
      "                 retry_burn_max_change =      100.0000000    \n",
      "                      abort_on_failure = T\n",
      "                renormalize_abundances = F\n",
      "                          SMALL_X_SAFE =     0.1000000000E-29\n",
      "                              MAX_TEMP =     0.1000000000E+12\n",
      "                           react_boost =     -1.000000000    \n",
      "               reactions_density_scale =      1.000000000    \n",
      "           reactions_temperature_scale =      1.000000000    \n",
      "                reactions_energy_scale =      1.000000000    \n",
      "                         ode_max_steps =     150000\n",
      "                  use_jacobian_caching = T\n"
     ]
    }
   ],
   "source": [
    "%%bash -s \"$string\"\n",
    "cat $1"
   ]
  },
  {
   "cell_type": "markdown",
   "metadata": {},
   "source": [
    "## Available variables"
   ]
  },
  {
   "cell_type": "code",
   "execution_count": 7,
   "metadata": {},
   "outputs": [
    {
     "data": {
      "text/plain": [
       "[('boxlib', 'Hnuc'),\n",
       " ('boxlib', 'MachNumber'),\n",
       " ('boxlib', 'Pi'),\n",
       " ('boxlib', 'S'),\n",
       " ('boxlib', 'X(A)'),\n",
       " ('boxlib', 'abar'),\n",
       " ('boxlib', 'conductivity'),\n",
       " ('boxlib', 'deltaT'),\n",
       " ('boxlib', 'deltagamma'),\n",
       " ('boxlib', 'deltap'),\n",
       " ('boxlib', 'divw0'),\n",
       " ('boxlib', 'entropy'),\n",
       " ('boxlib', 'entropypert'),\n",
       " ('boxlib', 'gpix'),\n",
       " ('boxlib', 'gpiy'),\n",
       " ('boxlib', 'h'),\n",
       " ('boxlib', 'h0'),\n",
       " ('boxlib', 'magvel'),\n",
       " ('boxlib', 'momentum'),\n",
       " ('boxlib', 'omegadot(A)'),\n",
       " ('boxlib', 'p0'),\n",
       " ('boxlib', 'p0pluspi'),\n",
       " ('boxlib', 'pioverp0'),\n",
       " ('boxlib', 'rho'),\n",
       " ('boxlib', 'rho0'),\n",
       " ('boxlib', 'rhoX(A)'),\n",
       " ('boxlib', 'rhoh'),\n",
       " ('boxlib', 'rhoh0'),\n",
       " ('boxlib', 'rhohpert'),\n",
       " ('boxlib', 'rhopert'),\n",
       " ('boxlib', 'tfromh'),\n",
       " ('boxlib', 'tfromp'),\n",
       " ('boxlib', 'thermal'),\n",
       " ('boxlib', 'tpert'),\n",
       " ('boxlib', 'velx'),\n",
       " ('boxlib', 'vely'),\n",
       " ('boxlib', 'vort'),\n",
       " ('boxlib', 'w0x'),\n",
       " ('boxlib', 'w0y')]"
      ]
     },
     "execution_count": 7,
     "metadata": {},
     "output_type": "execute_result"
    }
   ],
   "source": [
    "ds0 = yt.load(ds0Path)\n",
    "ds0.field_list"
   ]
  },
  {
   "cell_type": "markdown",
   "metadata": {},
   "source": [
    "## Plots of initial conditions"
   ]
  },
  {
   "cell_type": "markdown",
   "metadata": {},
   "source": [
    "### Base state (1D) initial conditions"
   ]
  },
  {
   "cell_type": "code",
   "execution_count": 8,
   "metadata": {},
   "outputs": [],
   "source": [
    "def linePlotT0(var,ds0Path):\n",
    "    ds0 = yt.load(ds0Path)\n",
    "    plot = yt.LinePlot(ds0,var,[0.,0.,0],[0.,1e9,0],64)\n",
    "    plot.set_log(var, False)\n",
    "    plot.annotate_title(title=\"t=0\", field=var)\n",
    "    plot.show()"
   ]
  },
  {
   "cell_type": "code",
   "execution_count": 9,
   "metadata": {},
   "outputs": [
    {
     "data": {
      "text/html": [
       "<img style=\"max-width:100%%;max-height:100%%;\" src=\"data:image/png;base64,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\"><br>"
      ],
      "text/plain": [
       "<yt.visualization.line_plot.LinePlot at 0x7fa826329860>"
      ]
     },
     "metadata": {},
     "output_type": "display_data"
    }
   ],
   "source": [
    "linePlotT0(\"rho0\",ds0Path)"
   ]
  },
  {
   "cell_type": "code",
   "execution_count": 10,
   "metadata": {},
   "outputs": [
    {
     "name": "stdout",
     "output_type": "stream",
     "text": [
      "rho0(z=bottom cell center)=0.33073931275341445\n",
      "rho0(z=top cell center)=0.12358825179626794\n",
      "ratio=2.6761387748944756\n"
     ]
    }
   ],
   "source": [
    "dy = 1e9 / 64\n",
    "rho0_base = ds0.point([0.,dy/2,0.])['rho0'].value[0]\n",
    "rho0_top = ds0.point([0.,1e9-dy/2,0.])['rho0'].value[0]\n",
    "\n",
    "print('rho0(z=bottom cell center)={}'.format(rho0_base)) # / rho0_top / np.exp(1)\n",
    "print('rho0(z=top cell center)={}'.format(rho0_top))  # / rho0_top / np.exp(1)\n",
    "print('ratio={}'.format(rho0_base/rho0_top)) \n"
   ]
  },
  {
   "cell_type": "code",
   "execution_count": 11,
   "metadata": {},
   "outputs": [
    {
     "data": {
      "text/html": [
       "<img style=\"max-width:100%%;max-height:100%%;\" src=\"data:image/png;base64,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\"><br>"
      ],
      "text/plain": [
       "<yt.visualization.line_plot.LinePlot at 0x7fa82609c668>"
      ]
     },
     "metadata": {},
     "output_type": "display_data"
    }
   ],
   "source": [
    "linePlotT0(\"p0\",ds0Path)"
   ]
  },
  {
   "cell_type": "code",
   "execution_count": 12,
   "metadata": {},
   "outputs": [],
   "source": [
    "# dy = 1e9 / 64\n",
    "# p0_base = ds0.point([0.,dy/2,0.])['p0'].value[0]\n",
    "# p0_top = ds0.point([0.,1e9-dy/2,0.])['p0'].value[0]\n",
    "\n",
    "# print('p0(z=bottom cell center)={}'.format(p0_base)) # / rho0_top / np.exp(1)\n",
    "# print('p0(z=top cell center)={}'.format(p0_top))  # / rho0_top / np.exp(1)\n",
    "# print('ratio={}'.format(p0_base/p0_top)) \n"
   ]
  },
  {
   "cell_type": "code",
   "execution_count": 13,
   "metadata": {},
   "outputs": [],
   "source": [
    "#linePlotT0(\"rhoh0\",ds0Path)"
   ]
  },
  {
   "cell_type": "code",
   "execution_count": 14,
   "metadata": {},
   "outputs": [],
   "source": [
    "#linePlotT0(\"h0\",ds0Path)"
   ]
  },
  {
   "cell_type": "code",
   "execution_count": 15,
   "metadata": {},
   "outputs": [],
   "source": [
    "#linePlotT0(\"w0y\",ds0Path)"
   ]
  },
  {
   "cell_type": "code",
   "execution_count": 16,
   "metadata": {},
   "outputs": [],
   "source": [
    "#linePlotT0(\"w0x\",ds0Path)"
   ]
  },
  {
   "cell_type": "markdown",
   "metadata": {},
   "source": [
    "### full / perturbational state (2D) initial conditions"
   ]
  },
  {
   "cell_type": "code",
   "execution_count": 17,
   "metadata": {},
   "outputs": [],
   "source": [
    "# here!"
   ]
  },
  {
   "cell_type": "markdown",
   "metadata": {},
   "source": [
    "## Base state evolution"
   ]
  },
  {
   "cell_type": "markdown",
   "metadata": {},
   "source": [
    "I spent way too long trying to embedd these in the notebook as a persistent html5/javascript animation but it doesn't seem fesiable.\n",
    "\n",
    "This would be desirable because, for our meetings, I could just export each notebook as a html file, then have a good record of each simulation with all the figures etc encapsulated.\n",
    "\n",
    "The alternative is to just plot hundreds of figures, and embedd them, but its a bit hard to digest"
   ]
  },
  {
   "cell_type": "markdown",
   "metadata": {},
   "source": [
    "#### Base state evolution - plot all as individual frames\n",
    "uncomment relevant calls to see"
   ]
  },
  {
   "cell_type": "code",
   "execution_count": 18,
   "metadata": {},
   "outputs": [],
   "source": [
    "def linePlotFrames(tsPath,var,y0,y1,n):\n",
    "    ts = yt.load(tsPath)\n",
    "\n",
    "    for ds in ts:\n",
    "        plot = yt.LinePlot(ds,var,[0.,y0,0],[0.,y1,0],n)\n",
    "        plot.set_log(var, False)\n",
    "        plot.annotate_title(title = \"t = {}\".format(ds.current_time), field=var )\n",
    "        plot.show()"
   ]
  },
  {
   "cell_type": "code",
   "execution_count": 19,
   "metadata": {},
   "outputs": [],
   "source": [
    "y0 = 0.\n",
    "y1 = 1e9\n",
    "n = 64\n",
    "var = \"p0\"\n",
    "# linePlotFrames(tsPath,var,y0,y1,n)"
   ]
  },
  {
   "cell_type": "code",
   "execution_count": 20,
   "metadata": {},
   "outputs": [],
   "source": [
    "y0 = 0.\n",
    "y1 = 1e9\n",
    "n = 64\n",
    "var = \"rho0\"\n",
    "#linePlotFrames(tsPath,var,y0,y1,n)"
   ]
  },
  {
   "cell_type": "markdown",
   "metadata": {},
   "source": [
    "#### Base state evolution - plot all as individual frames with subtraction of t=0 value\n",
    "(normalisation based on var(z, t=0) possible)"
   ]
  },
  {
   "cell_type": "code",
   "execution_count": 21,
   "metadata": {},
   "outputs": [],
   "source": [
    "def basesubLinePlotFrames(tsPath,var, normalise=True):\n",
    "    ts = yt.load(tsPath)\n",
    "\n",
    "    ds0 = ts[0]\n",
    "    ray = ds0.ortho_ray(1, (0,0))\n",
    "    y = np.array(ray['y'])\n",
    "    linedata0 = np.array(ray[var])\n",
    "\n",
    "    for ds in ts:\n",
    "        ray = ds.ortho_ray(1, (0,0))\n",
    "        linedata = np.array(ray[var])\n",
    "        linedata = linedata - linedata0\n",
    "        if normalise:\n",
    "            linedata = linedata / linedata0\n",
    "        plt.plot(y, linedata, 'x')\n",
    "        plt.title(\"var = {}, t = {}\".format(var,ds.current_time))\n",
    "        plt.show()"
   ]
  },
  {
   "cell_type": "code",
   "execution_count": 22,
   "metadata": {},
   "outputs": [],
   "source": [
    "var = \"p0\"\n",
    "#basesubLinePlotFrames(tsPath,var, normalise=False)"
   ]
  },
  {
   "cell_type": "code",
   "execution_count": 23,
   "metadata": {},
   "outputs": [],
   "source": [
    "var = \"rho0\"\n",
    "#basesubLinePlotFrames(tsPath,var, normalise=True)"
   ]
  },
  {
   "cell_type": "code",
   "execution_count": 24,
   "metadata": {},
   "outputs": [],
   "source": [
    "var = \"w0y\"\n",
    "#basesubLinePlotFrames(tsPath,var, normalise=False)"
   ]
  },
  {
   "cell_type": "markdown",
   "metadata": {},
   "source": [
    "#### Base state evolution - construct time-distance diagrams"
   ]
  },
  {
   "cell_type": "code",
   "execution_count": 25,
   "metadata": {},
   "outputs": [],
   "source": [
    "def basesubTimeDistance(tsPath, var, normalise = True):\n",
    "    ts = yt.load(tsPath)\n",
    "\n",
    "    ds0= ts[0]\n",
    "    ray = ds0.ortho_ray(1, (0,0))\n",
    "    y = np.array(ray['y'])\n",
    "    linedata0 = np.array(ray[var])\n",
    "\n",
    "    dataArr = np.zeros([y.size,len(ts)], dtype='double' )\n",
    "    time = []\n",
    "    for i, ds in enumerate(ts):\n",
    "        ray = ds.ortho_ray(1, (0,0))\n",
    "        linedata = np.array(ray[var])\n",
    "        linedata = linedata - linedata0\n",
    "        if normalise:\n",
    "            linedata = linedata / linedata0\n",
    "        dataArr[:,i] = linedata\n",
    "        time.append(float(ds.current_time))\n",
    "\n",
    "\n",
    "    plt.contourf(time, y, dataArr, cmap=plt.cm.RdBu_r)\n",
    "    plt.xlabel('time')\n",
    "    plt.ylabel('y') \n",
    "    plt.title('var = {}'.format(var))\n",
    "    plt.colorbar()"
   ]
  },
  {
   "cell_type": "code",
   "execution_count": 26,
   "metadata": {},
   "outputs": [
    {
     "data": {
      "image/png": "[encoded data removed]",
      "text/plain": [
       "<Figure size 432x288 with 2 Axes>"
      ]
     },
     "metadata": {
      "needs_background": "light"
     },
     "output_type": "display_data"
    }
   ],
   "source": [
    "var = \"p0\"\n",
    "basesubTimeDistance(tsPath,var, normalise=True)"
   ]
  },
  {
   "cell_type": "code",
   "execution_count": 27,
   "metadata": {},
   "outputs": [
    {
     "data": {
      "image/png": "[encoded data removed]",
      "text/plain": [
       "<Figure size 432x288 with 2 Axes>"
      ]
     },
     "metadata": {
      "needs_background": "light"
     },
     "output_type": "display_data"
    }
   ],
   "source": [
    "var = \"rho0\"\n",
    "basesubTimeDistance(tsPath,var, normalise=True)"
   ]
  },
  {
   "cell_type": "code",
   "execution_count": 28,
   "metadata": {},
   "outputs": [
    {
     "data": {
      "image/png": "[encoded data removed]",
      "text/plain": [
       "<Figure size 432x288 with 2 Axes>"
      ]
     },
     "metadata": {
      "needs_background": "light"
     },
     "output_type": "display_data"
    }
   ],
   "source": [
    "var = \"w0y\"\n",
    "basesubTimeDistance(tsPath,var, normalise=False)"
   ]
  },
  {
   "cell_type": "markdown",
   "metadata": {},
   "source": [
    "## Measured Periods\n"
   ]
  },
  {
   "cell_type": "code",
   "execution_count": 29,
   "metadata": {},
   "outputs": [],
   "source": [
    "# Red is data\n",
    "# Blue is expected \n",
    "\n",
    "def quickProbePlot(tsPath,kv_int=2,kh_int=4, cx = 1e9/2, cy = 1e9/4, var='rhopert'):\n",
    "    \n",
    "    ts = yt.load(tsPath) # I'd love a way to make this quiet\n",
    "    pointdata  = []\n",
    "    time = []\n",
    "    for ds in ts:\n",
    "        pointdata.append(ds.point([cx, cy, 0.])[var].value[0])\n",
    "        time.append(float(ds.current_time))\n",
    "    \n",
    "    \n",
    "    gamma = 5./3. \n",
    "    g = 3e4\n",
    "    H = 1e9\n",
    "    N2 = (gamma-1.)/gamma * g / H\n",
    "    kv = kv_int * np.pi  / H\n",
    "    kh = kh_int * np.pi / H\n",
    "    k2 = kv**2 + kh**2 \n",
    "    w2 = N2 * kh**2 / (k2 )\n",
    "    w = np.sqrt(w2)\n",
    "    \n",
    "    print('kh_int=',kh_int)\n",
    "    print('N=',np.sqrt(N2))\n",
    "    print('w(expected)=',w)\n",
    "    print('P(expected)=',2.0*np.pi/w)\n",
    "\n",
    "\n",
    "    smoothTime = np.linspace(0,2e4,1e3)\n",
    "    fig = plt.figure()\n",
    "    ax = plt.axes()\n",
    "    ax.plot(time, pointdata, '+r', time, pointdata, 'r',\n",
    "        smoothTime, pointdata[0] * np.cos(-w * smoothTime), 'b')\n",
    "\n",
    "    plt.show()\n",
    "    \n",
    "    return"
   ]
  },
  {
   "cell_type": "code",
   "execution_count": 30,
   "metadata": {},
   "outputs": [
    {
     "name": "stdout",
     "output_type": "stream",
     "text": [
      "kh_int= 4\n",
      "N= 0.0034641016151377548\n",
      "w(expected)= 0.0030983866769659332\n",
      "P(expected)= 2027.8893379868061\n"
     ]
    },
    {
     "name": "stderr",
     "output_type": "stream",
     "text": [
      "/data/njt132/anaconda3/lib/python3.7/site-packages/ipykernel_launcher.py:30: DeprecationWarning: object of type <class 'float'> cannot be safely interpreted as an integer.\n"
     ]
    },
    {
     "data": {
      "image/png": "[encoded data removed]",
      "text/plain": [
       "<Figure size 432x288 with 1 Axes>"
      ]
     },
     "metadata": {
      "needs_background": "light"
     },
     "output_type": "display_data"
    }
   ],
   "source": [
    "quickProbePlot(tsPath)"
   ]
  },
  {
   "cell_type": "markdown",
   "metadata": {},
   "source": [
    "## Timestep history \n",
    "\n",
    "(This only works as intended if have dumped at every cycle, which outside of testing is unlikely)"
   ]
  },
  {
   "cell_type": "code",
   "execution_count": 31,
   "metadata": {},
   "outputs": [],
   "source": [
    "def quickTimeDtPlot(tsPath):\n",
    "    ts = yt.load(tsPath) # I'd love a way to make this quiet\n",
    "    time = []\n",
    "    for ds in ts:\n",
    "        time.append(float(ds.current_time))\n",
    "\n",
    "    dt = []\n",
    "    for it, t in enumerate(time):\n",
    "        try:\n",
    "            dt.append(time[it+1]-t)\n",
    "        except: # to avoid indexing oob on the last snapshot\n",
    "            continue\n",
    "\n",
    "    time.pop(); # remove the last element\n",
    "\n",
    "    fig = plt.figure()\n",
    "    ax = plt.axes()\n",
    "    ax.plot(dt,'+')\n",
    "    plt.xlabel('time step')\n",
    "    plt.ylabel('dt')\n",
    "    plt.show()"
   ]
  },
  {
   "cell_type": "code",
   "execution_count": 32,
   "metadata": {},
   "outputs": [],
   "source": [
    "#quickTimeDtPlot(tsPath)"
   ]
  },
  {
   "cell_type": "markdown",
   "metadata": {},
   "source": [
    "## 2D Movies"
   ]
  },
  {
   "cell_type": "markdown",
   "metadata": {},
   "source": [
    "`quick2DMov` will display inline if save is false (default), or save to the outdir if true"
   ]
  },
  {
   "cell_type": "code",
   "execution_count": 33,
   "metadata": {},
   "outputs": [],
   "source": [
    "import re # to provide a function to auto-escape special chars in the var name string\n",
    "\n",
    "def quick2DMov(var,tsPath,outDir,save=False):\n",
    "    \n",
    "    if save:\n",
    "        # make a subdirectory for the particular variable name\n",
    "        args= \" -p \" + outDir + '/' + re.escape(var)\n",
    "        %mkdir $args # the magick will only work in ipython / jupyter - do something smarter in normal scripts\n",
    "\n",
    "        # remove any existing png in that dir\n",
    "        args= \" \" + outDir + re.escape(var) + '/*.png'\n",
    "        %rm $args\n",
    "\n",
    "    ts = yt.load(tsPath)\n",
    "    \n",
    "    filePath = outDir + '/' + re.escape(var) + \"/\" \n",
    "    filenum = 0\n",
    "    for ds in ts:\n",
    "        plot = yt.SlicePlot(ds, \"z\", var)\n",
    "        plot.set_log(var, False);\n",
    "        plot.set_cmap(field=var, cmap='RdBu')\n",
    "        plot.annotate_title(\"t = {}\".format(ds.current_time) )\n",
    "        fileName = \"{}{:04}.png\".format(filePath,filenum)\n",
    "        if save:\n",
    "            plot.save(name=fileName)\n",
    "        else:\n",
    "            plot.show()\n",
    "        filenum = filenum + 1\n",
    "\n",
    "    return\n",
    "    "
   ]
  },
  {
   "cell_type": "markdown",
   "metadata": {},
   "source": [
    "This snippet will *save* animations for *all* variables in the plotfile at all times (and likely take a long time!)"
   ]
  },
  {
   "cell_type": "code",
   "execution_count": 34,
   "metadata": {},
   "outputs": [],
   "source": [
    "# for item in ds0.field_list:\n",
    "#     var = item[1]\n",
    "#     print('saving var={}'.format(var))\n",
    "#     try:\n",
    "#         quick2DMov(var, tsPath, outDir, save=True)\n",
    "#     except:\n",
    "#         print('something went wrong (possibly to do with escaping special characters)')\n",
    "#         pass"
   ]
  },
  {
   "cell_type": "markdown",
   "metadata": {},
   "source": [
    "This snippet will save a chosen list of variables"
   ]
  },
  {
   "cell_type": "code",
   "execution_count": 35,
   "metadata": {},
   "outputs": [
    {
     "name": "stdout",
     "output_type": "stream",
     "text": [
      "saving var=rhopert\n",
      "rm: cannot remove '../single_level/post/rhopert/*.png': No such file or directory\n",
      "saved var=rhopert\n"
     ]
    }
   ],
   "source": [
    "# varlist = ['MachNumber', 'rho', 'rhoh', 'rhopert', 'velx','vely','vort', 'Pi']\n",
    "#varlist = ['rho', 'rhopert', 'velx','vely', 'Pi']\n",
    "varlist = ['rhopert']\n",
    "\n",
    "for var in varlist:\n",
    "    print('saving var={}'.format(var))\n",
    "    try:\n",
    "        quick2DMov(var, tsPath, outDir, save=True)\n",
    "        print('saved var={}'.format(var))\n",
    "    except:\n",
    "        print('something went wrong')\n",
    "        pass"
   ]
  },
  {
   "cell_type": "code",
   "execution_count": 36,
   "metadata": {},
   "outputs": [],
   "source": [
    "# # varlist = ['MachNumber', 'rho', 'rhoh', 'rhopert', 'velx','vely','vort', 'Pi']\n",
    "# #varlist = ['rho', 'rhopert', 'velx','vely', 'Pi']\n",
    "# varlist = ['rhopert']\n",
    "\n",
    "# for var in varlist:\n",
    "#     print('saving var={}'.format(var))\n",
    "#     try:\n",
    "#         quick2DMov(var, tsPath, outDir, save=False)\n",
    "#         print('saved var={}'.format(var))\n",
    "#     except:\n",
    "#         print('something went wrong')\n",
    "#         pass"
   ]
  },
  {
   "cell_type": "code",
   "execution_count": null,
   "metadata": {},
   "outputs": [],
   "source": []
  }
 ],
 "metadata": {
  "kernelspec": {
   "display_name": "Python 3",
   "language": "python",
   "name": "python3"
  },
  "language_info": {
   "codemirror_mode": {
    "name": "ipython",
    "version": 3
   },
   "file_extension": ".py",
   "mimetype": "text/x-python",
   "name": "python",
   "nbconvert_exporter": "python",
   "pygments_lexer": "ipython3",
   "version": "3.7.1"
  }
 },
 "nbformat": 4,
 "nbformat_minor": 2
}
