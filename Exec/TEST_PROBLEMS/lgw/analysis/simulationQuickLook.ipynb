{
 "cells": [
  {
   "cell_type": "markdown",
   "metadata": {},
   "source": [
    "# This notebook produces quick diagnostics for a single simulation"
   ]
  },
  {
   "cell_type": "markdown",
   "metadata": {},
   "source": [
    "#### Preamble / imports"
   ]
  },
  {
   "cell_type": "code",
   "execution_count": 3,
   "metadata": {},
   "outputs": [],
   "source": [
    "%matplotlib inline\n",
    "import numpy as np\n",
    "import matplotlib.pyplot as plt\n",
    "plt.rcParams['figure.figsize'] = [10, 5]\n",
    "import yt\n",
    "##yt.mylog.setLevel()\n",
    "yt.utilities.logger.disable_stream_logging()"
   ]
  },
  {
   "cell_type": "markdown",
   "metadata": {},
   "source": [
    "### Data path"
   ]
  },
  {
   "cell_type": "code",
   "execution_count": 4,
   "metadata": {},
   "outputs": [],
   "source": [
    "# put the relative or absolute directory of the problem output here\n",
    "dataDir = '../single_level/'\n",
    "baseName = 'plt'\n",
    "dsPath = dataDir + baseName\n",
    "tsPath = dsPath + '???????/'\n",
    "ds0Path = dsPath + '0000000/'"
   ]
  },
  {
   "cell_type": "markdown",
   "metadata": {},
   "source": [
    "### Output Path"
   ]
  },
  {
   "cell_type": "markdown",
   "metadata": {},
   "source": [
    "A sensible default might be dataDir/post"
   ]
  },
  {
   "cell_type": "code",
   "execution_count": 5,
   "metadata": {},
   "outputs": [],
   "source": [
    "outDir = dataDir+\"post/\""
   ]
  },
  {
   "cell_type": "markdown",
   "metadata": {},
   "source": [
    "Create the output directory if it doesn't exist"
   ]
  },
  {
   "cell_type": "code",
   "execution_count": 6,
   "metadata": {},
   "outputs": [],
   "source": [
    "%%bash -s \"$outDir\" \n",
    "mkdir -p $1"
   ]
  },
  {
   "cell_type": "markdown",
   "metadata": {},
   "source": [
    "## Job Information at t=0"
   ]
  },
  {
   "cell_type": "code",
   "execution_count": 7,
   "metadata": {},
   "outputs": [],
   "source": [
    "string = ds0Path + 'job_info'"
   ]
  },
  {
   "cell_type": "code",
   "execution_count": 8,
   "metadata": {},
   "outputs": [
    {
     "name": "stdout",
     "output_type": "stream",
     "text": [
      "==============================================================================\n",
      " MAESTROeX Job Information\n",
      "==============================================================================\n",
      "job name: \n",
      "\n",
      "inputs file: inputs_2d_C\n",
      "\n",
      "number of MPI processes: 1\n",
      "number of threads:       24\n",
      "tile size: 1024000 1024000 \n",
      "\n",
      "CPU time used since start of simulation (CPU-hours): 0.00112847\n",
      "\n",
      "==============================================================================\n",
      " Plotfile Information\n",
      "==============================================================================\n",
      "output data / time: Tue Jun 18 13:03:44 2019\n",
      "output dir:         /data/njt132/MAESTROeX/Exec/TEST_PROBLEMS/lgw\n",
      "\n",
      "\n",
      "==============================================================================\n",
      " Build Information\n",
      "==============================================================================\n",
      "build date:    2019-06-17 13:47:36.723698\n",
      "build machine: Linux salem 4.15.0-1038-oem #43-Ubuntu SMP Wed May 8 10:43:52 UTC 2019 x86_64 x86_64 x86_64 GNU/Linux\n",
      "build dir:     /data/njt132/MAESTROeX/Exec/TEST_PROBLEMS/lgw\n",
      "AMReX dir:     /data/njt132/amrex/\n",
      "\n",
      "COMP:          gnu\n",
      "COMP version:  7.4.0\n",
      "\n",
      "C++ compiler:  g++\n",
      "C++ flags:      -Werror=return-type -g -O3  -fopenmp -DNDEBUG -DBL_USE_OMP -DAMREX_USE_OMP -DAMREX_GIT_VERSION=\"19.05-2-gdf41312c9566\" -DBL_GCC_VERSION=7.4.0 -DBL_GCC_MAJOR_VERSION=7 -DBL_GCC_MINOR_VERSION=4 -DAMREX_LAUNCH= -DAMREX_DEVICE= -DAMREX_CUDA_FORT_GLOBAL= -DAMREX_CUDA_FORT_DEVICE= -DAMREX_CUDA_FORT_HOST= -DBL_SPACEDIM=2 -DAMREX_SPACEDIM=2 -DBL_FORT_USE_UNDERSCORE -DAMREX_FORT_USE_UNDERSCORE -DBL_Linux -DAMREX_Linux -DCRSEGRNDOMP -DEXTRA_THERMO -DINTEGRATOR=0 -I. -I. -I../../../Source -I../../../Source/Src_nd -I../../../Source/param_includes -I../../../constants -I../../../Util/model_parser -I../../../Util/simple_log -I../../../Microphysics/EOS -I/data/njt132/Microphysics//EOS/gamma_law_general -I../../../Microphysics/networks -I../../../Microphysics/networks/general_null -I/data/njt132/Microphysics//EOS -I/data/njt132/Microphysics//networks -I../../../Microphysics/conductivity -I../../../Microphysics/conductivity -I../../../Microphysics/conductivity/constant -I/data/njt132/amrex//Src/Base -I/data/njt132/amrex//Src/Boundary -I/data/njt132/amrex//Src/AmrCore -I/data/njt132/amrex//Src/LinearSolvers/C_CellMG -I/data/njt132/amrex//Src/LinearSolvers/MLMG -I/data/njt132/Microphysics//util -I/data/njt132/Microphysics//util/LINPACK -I/data/njt132/Microphysics//util/BLAS -I/data/njt132/Microphysics//integration/VODE -I/data/njt132/Microphysics//integration/VODE/vode_source/ -I/data/njt132/Microphysics//integration/BS -I/data/njt132/Microphysics//integration -I. -I../../../Source -I../../../Source/Src_nd -I../../../Source/param_includes -I../../../constants -I../../../Util/model_parser -I../../../Util/simple_log -I../../../Microphysics/EOS -I/data/njt132/Microphysics//EOS/gamma_law_general -I../../../Microphysics/networks -I../../../Microphysics/networks/general_null -I/data/njt132/Microphysics//EOS -I/data/njt132/Microphysics//networks -I../../../Microphysics/conductivity -I../../../Microphysics/conductivity -I../../../Microphysics/conductivity/constant -I/data/njt132/amrex//Tools/C_scripts\n",
      "\n",
      "Fortran comp:  gfortran\n",
      "Fortran flags:  -g -O3 -ffree-line-length-none -fno-range-check -fno-second-underscore -fimplicit-none  -fopenmp\n",
      "\n",
      "Link flags:    -L. -L/usr/lib/gcc/x86_64-linux-gnu/7/\n",
      "Libraries:      -lgfortran -lquadmath\n",
      "\n",
      "EOS: /data/njt132/Microphysics//EOS/gamma_law_general\n",
      "NETWORK: ../../../Microphysics/networks/general_null\n",
      "CONDUCTIVITY: ../../../Microphysics/conductivity/constant\n",
      "MAESTROeX git describe: 19.04.1-156-gb16f38f-dirty\n",
      "AMReX git describe: 19.05-2-gdf41312c9\n",
      "Microphysics git describe: 19.02-1-g921d63b6\n",
      "\n",
      "\n",
      "==============================================================================\n",
      " Grid Information\n",
      "==============================================================================\n",
      " level: 0\n",
      "   number of boxes = 1\n",
      "   maximum zones   = 64 64 \n",
      "\n",
      " Boundary conditions\n",
      "   -x: interior\n",
      "   +x: interior\n",
      "   -y: slipwall\n",
      "   +y: slipwall\n",
      "\n",
      "\n",
      "==============================================================================\n",
      " Species Information\n",
      "==============================================================================\n",
      " index        \n",
      "                 name        \n",
      "      A        \n",
      "      Z\n",
      "------------------------------------------------------------------------------\n",
      "     0        \n",
      "                    A        \n",
      "      1        \n",
      "      1\n",
      "\n",
      "\n",
      "==============================================================================\n",
      " Inputs File Parameters\n",
      "==============================================================================\n",
      "maestro.perturb_model = false\n",
      "maestro.ppm_type = 0\n",
      "maestro.max_step = 1000\n",
      "maestro.stop_time = 1e4\n",
      "maestro.max_dt = 10.0\n",
      "geometry.prob_lo = 0.0 0.0 0.0\n",
      "geometry.prob_hi = 1.0e9 1.0e9 1.0e9\n",
      "maestro.lo_bc = 0 4 4\n",
      "maestro.hi_bc = 0 4 4\n",
      "geometry.is_periodic = 1 0 0\n",
      "maestro.v(nvals = 1)  :: [1]\n",
      "amrex.fpe_trap_invalid = 1\n",
      "amr.n_cell = 64 64 64\n",
      "amr.max_level = 0\n",
      "amr.ref_ratio(nvals = 4)  :: [2, 2, 2, 2]\n",
      "amr.blocking_factor = 8\n",
      "amr.max_grid_size = 128\n",
      "maestro.regrid_int = 2\n",
      "amr.refine_grid_layout = 0\n",
      "maestro.regrid_int = 2\n",
      "maestro.cfl = 0.9\n",
      "maestro.init_shrink = 0.1e0\n",
      "maestro.plot_base_name = single_level/plt\n",
      "maestro.plot_int = 10\n",
      "maestro.plot_deltat = 10000e0\n",
      "maestro.small_plot_base_name = tmpsingle_level/sml\n",
      "maestro.check_base_name = single_level/chk\n",
      "maestro.chk_int = -1\n",
      "maestro.evolve_base_state = true\n",
      "maestro.do_initial_projection = true\n",
      "maestro.init_divu_iter = 1\n",
      "maestro.init_iter = 1\n",
      "maestro.do_reflux(nvals = 1)  :: [0]\n",
      "maestro.do_sponge = 0\n",
      "maestro.sponge_center_density = 3.e6\n",
      "maestro.sponge_start_factor = 10.e0\n",
      "maestro.sponge_kappa = 10.e0\n",
      "maestro.use_thermal_diffusion = false\n",
      "maestro.eps_init_proj_cart = 1.e-12\n",
      "maestro.eps_init_proj_sph = 1.e-10\n",
      "maestro.eps_divu_cart = 1.e-8\n",
      "maestro.eps_divu_sph = 1.e-10\n",
      "maestro.divu_iter_factor = 100.\n",
      "maestro.divu_level_factor = 10.\n",
      "maestro.eps_hg = 1.e-12\n",
      "maestro.eps_hg_max = 1.e-10\n",
      "maestro.hg_level_factor = 10.\n",
      "maestro.eps_hg_bottom = 1.e-4\n",
      "maestro.anelastic_cutoff_density = 1.e-10\n",
      "maestro.base_cutoff_density = 1.e-10\n",
      "maestro.grav_const = -3.0e4\n",
      "maestro.small_temp = 1.e-10\n",
      "maestro.small_dens = 1.e-10\n",
      "maestro.do_burning = false\n",
      "system.regtest_reduction(nvals = 1)  :: [1]\n",
      "                             pres_base =     0.1000000000E+14\n",
      " [*]                         dens_base =     0.3333333333    \n",
      "                          scale_height =      1000000000.    \n",
      " [*]                          pert_amp =     0.1000000000E-01\n",
      "                                 k_hoz =      4.000000000    \n",
      "                                k_vert =      2.000000000    \n",
      "                         do_isentropic = F\n",
      "                            do_uniform = F\n",
      "                          use_p_dens_g = F\n",
      "                             use_p_H_g = T\n",
      "                             eos_gamma =      1.666666667    \n",
      "                    eos_assume_neutral = T\n",
      "                               small_x =     0.1000000000E-29\n",
      "                            use_tables = F\n",
      "                    use_c12ag_deboer17 = F\n",
      " [*]                const_conductivity =      0.000000000    \n",
      "                         ode_max_steps =     150000\n",
      "                        scaling_method =          2\n",
      "                use_timestep_estimator = F\n",
      "                       ode_scale_floor =     0.1000000000E-05\n",
      "                            ode_method =          1\n",
      "                         safety_factor =      1000000000.    \n",
      "               do_constant_volume_burn = F\n",
      "                       call_eos_in_rhs = F\n",
      "                               dT_crit =     0.1000000000E+21\n",
      "                          burning_mode =          1\n",
      "                   burning_mode_factor =     0.1000000000    \n",
      "                 integrate_temperature = T\n",
      "                      integrate_energy = T\n",
      "                              jacobian =          1\n",
      "                     centered_diff_jac = F\n",
      "                        burner_verbose = F\n",
      "                             rtol_spec =     0.1000000000E-11\n",
      "                             rtol_temp =     0.1000000000E-05\n",
      "                             rtol_enuc =     0.1000000000E-05\n",
      "                             atol_spec =     0.1000000000E-11\n",
      "                             atol_temp =     0.1000000000E-05\n",
      "                             atol_enuc =     0.1000000000E-05\n",
      "                            retry_burn = F\n",
      "                     retry_burn_factor =      1.250000000    \n",
      "                 retry_burn_max_change =      100.0000000    \n",
      "                      abort_on_failure = T\n",
      "                renormalize_abundances = F\n",
      "                          SMALL_X_SAFE =     0.1000000000E-29\n",
      "                              MAX_TEMP =     0.1000000000E+12\n",
      "                           react_boost =     -1.000000000    \n",
      "               reactions_density_scale =      1.000000000    \n",
      "           reactions_temperature_scale =      1.000000000    \n",
      "                reactions_energy_scale =      1.000000000    \n"
     ]
    }
   ],
   "source": [
    "%%bash -s \"$string\"\n",
    "cat $1"
   ]
  },
  {
   "cell_type": "markdown",
   "metadata": {},
   "source": [
    "## Available variables"
   ]
  },
  {
   "cell_type": "code",
   "execution_count": 9,
   "metadata": {},
   "outputs": [
    {
     "data": {
      "text/plain": [
       "[('boxlib', 'Hnuc'),\n",
       " ('boxlib', 'MachNumber'),\n",
       " ('boxlib', 'Pi'),\n",
       " ('boxlib', 'S'),\n",
       " ('boxlib', 'X(A)'),\n",
       " ('boxlib', 'abar'),\n",
       " ('boxlib', 'conductivity'),\n",
       " ('boxlib', 'deltaT'),\n",
       " ('boxlib', 'deltagamma'),\n",
       " ('boxlib', 'deltap'),\n",
       " ('boxlib', 'divw0'),\n",
       " ('boxlib', 'entropy'),\n",
       " ('boxlib', 'entropypert'),\n",
       " ('boxlib', 'gpix'),\n",
       " ('boxlib', 'gpiy'),\n",
       " ('boxlib', 'h'),\n",
       " ('boxlib', 'h0'),\n",
       " ('boxlib', 'magvel'),\n",
       " ('boxlib', 'momentum'),\n",
       " ('boxlib', 'omegadot(A)'),\n",
       " ('boxlib', 'p0'),\n",
       " ('boxlib', 'p0pluspi'),\n",
       " ('boxlib', 'pioverp0'),\n",
       " ('boxlib', 'rho'),\n",
       " ('boxlib', 'rho0'),\n",
       " ('boxlib', 'rhoX(A)'),\n",
       " ('boxlib', 'rhoh'),\n",
       " ('boxlib', 'rhoh0'),\n",
       " ('boxlib', 'rhohpert'),\n",
       " ('boxlib', 'rhopert'),\n",
       " ('boxlib', 'tfromh'),\n",
       " ('boxlib', 'tfromp'),\n",
       " ('boxlib', 'thermal'),\n",
       " ('boxlib', 'tpert'),\n",
       " ('boxlib', 'velx'),\n",
       " ('boxlib', 'vely'),\n",
       " ('boxlib', 'vort'),\n",
       " ('boxlib', 'w0x'),\n",
       " ('boxlib', 'w0y')]"
      ]
     },
     "execution_count": 9,
     "metadata": {},
     "output_type": "execute_result"
    }
   ],
   "source": [
    "ds0 = yt.load(ds0Path)\n",
    "ds0.field_list"
   ]
  },
  {
   "cell_type": "markdown",
   "metadata": {},
   "source": [
    "## Plots of initial conditions"
   ]
  },
  {
   "cell_type": "markdown",
   "metadata": {},
   "source": [
    "### Base state (1D) initial conditions"
   ]
  },
  {
   "cell_type": "code",
   "execution_count": 32,
   "metadata": {},
   "outputs": [],
   "source": [
    "def linePlotT0(var,ds0Path):\n",
    "    ds0 = yt.load(ds0Path)\n",
    "    plot = yt.LinePlot(ds0,var,[0.,0.,0],[0.,1e9,0],64)\n",
    "    plot.set_log(var, False)\n",
    "    plot.annotate_title(title=\"t=0\", field=var)\n",
    "    plot.show()"
   ]
  },
  {
   "cell_type": "code",
   "execution_count": 33,
   "metadata": {},
   "outputs": [
    {
     "data": {
      "text/html": [
       "<img style=\"max-width:100%%;max-height:100%%;\" src=\"data:image/png;base64,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\"><br>"
      ],
      "text/plain": [
       "<yt.visualization.line_plot.LinePlot at 0x7f3e157d8cf8>"
      ]
     },
     "metadata": {},
     "output_type": "display_data"
    }
   ],
   "source": [
    "linePlotT0(\"rho0\",ds0Path)"
   ]
  },
  {
   "cell_type": "code",
   "execution_count": 43,
   "metadata": {},
   "outputs": [
    {
     "name": "stdout",
     "output_type": "stream",
     "text": [
      "rho0(z=bottom cell center)=0.33333333333333326\n",
      "rho0(z=top cell center)=0.12358825179626794\n",
      "ratio=2.6971279914439172\n"
     ]
    }
   ],
   "source": [
    "dy = 1e9 / 64\n",
    "rho0_base = ds0.point([0.,dy/2,0.])['rho0'].value[0]\n",
    "rho0_top = ds0.point([0.,1e9-dy/2,0.])['rho0'].value[0]\n",
    "\n",
    "print('rho0(z=bottom cell center)={}'.format(rho0_base)) # / rho0_top / np.exp(1)\n",
    "print('rho0(z=top cell center)={}'.format(rho0_top))  # / rho0_top / np.exp(1)\n",
    "print('ratio={}'.format(rho0_base/rho0_top)) \n"
   ]
  },
  {
   "cell_type": "code",
   "execution_count": 34,
   "metadata": {},
   "outputs": [
    {
     "data": {
      "text/html": [
       "<img style=\"max-width:100%%;max-height:100%%;\" src=\"data:image/png;base64,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\"><br>"
      ],
      "text/plain": [
       "<yt.visualization.line_plot.LinePlot at 0x7f3e15be4ef0>"
      ]
     },
     "metadata": {},
     "output_type": "display_data"
    }
   ],
   "source": [
    "linePlotT0(\"p0\",ds0Path)"
   ]
  },
  {
   "cell_type": "code",
   "execution_count": 45,
   "metadata": {},
   "outputs": [
    {
     "name": "stdout",
     "output_type": "stream",
     "text": [
      "p0(z=bottom cell center)=10000000000000.0\n",
      "p0(z=top cell center)=3784733763252.9204\n",
      "ratio=2.6421937778273614\n"
     ]
    }
   ],
   "source": [
    "dy = 1e9 / 64\n",
    "p0_base = ds0.point([0.,dy/2,0.])['p0'].value[0]\n",
    "p0_top = ds0.point([0.,1e9-dy/2,0.])['p0'].value[0]\n",
    "\n",
    "print('p0(z=bottom cell center)={}'.format(p0_base)) # / rho0_top / np.exp(1)\n",
    "print('p0(z=top cell center)={}'.format(p0_top))  # / rho0_top / np.exp(1)\n",
    "print('ratio={}'.format(p0_base/p0_top)) \n"
   ]
  },
  {
   "cell_type": "code",
   "execution_count": 35,
   "metadata": {},
   "outputs": [
    {
     "data": {
      "text/html": [
       "<img style=\"max-width:100%%;max-height:100%%;\" src=\"data:image/png;base64,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\"><br>"
      ],
      "text/plain": [
       "<yt.visualization.line_plot.LinePlot at 0x7f3e158a6b00>"
      ]
     },
     "metadata": {},
     "output_type": "display_data"
    }
   ],
   "source": [
    "linePlotT0(\"rhoh0\",ds0Path)"
   ]
  },
  {
   "cell_type": "code",
   "execution_count": 36,
   "metadata": {},
   "outputs": [
    {
     "data": {
      "text/html": [
       "<img style=\"max-width:100%%;max-height:100%%;\" src=\"data:image/png;base64,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\"><br>"
      ],
      "text/plain": [
       "<yt.visualization.line_plot.LinePlot at 0x7f3e157c1da0>"
      ]
     },
     "metadata": {},
     "output_type": "display_data"
    }
   ],
   "source": [
    "linePlotT0(\"h0\",ds0Path)"
   ]
  },
  {
   "cell_type": "code",
   "execution_count": 37,
   "metadata": {},
   "outputs": [
    {
     "name": "stderr",
     "output_type": "stream",
     "text": [
      "/data/njt132/anaconda3/lib/python3.7/site-packages/matplotlib/ticker.py:2241: UserWarning: Data has no positive values, and therefore cannot be log-scaled.\n",
      "  \"Data has no positive values, and therefore cannot be \"\n"
     ]
    },
    {
     "data": {
      "text/html": [
       "<img style=\"max-width:100%%;max-height:100%%;\" src=\"data:image/png;base64,iVBORw0KGgoAAAANSUhEUgAAAWgAAAFoCAYAAAB65WHVAAAABHNCSVQICAgIfAhkiAAAAAlwSFlzAAALEgAACxIB0t1+/AAAADl0RVh0U29mdHdhcmUAbWF0cGxvdGxpYiB2ZXJzaW9uIDMuMC4yLCBodHRwOi8vbWF0cGxvdGxpYi5vcmcvOIA7rQAAIABJREFUeJzt3XtQVHX/B/A3uoB5AUIoQRC8oaLlbRUpL5iaVoPZY5bjtdIo07GSAjULY9IHTdcnTVTsYtpF68kgfRg0Ic2QicASFUERuSqKCITQgrDf3x+O5+cGwgJ7+a6+XzPNdM5+dr+f74F9e/ju7lkbIYQAERFJp42lGyAiooYxoImIJMWAJiKSFAOaiEhSDGgiIkmpLN0A0d1ICIH3338fvXr1wvHjx7F48WJ4e3tbui2yMjyDJmqG3377zaC67du3o02bNpg1axYWLVqEBQsWmLgzuhsxoIkMlJeXh1mzZhlUu2PHDgQEBAAAevTogczMTBQWFpqwO7obMaCJDHTkyBHk5eXh448/xrVr1xqtTU9Ph4eHh7Lt7u6O9PR0U7dIdxmuQRMZaNSoUbC1tcWiRYvg7++P0tLSBusOHjyIyspKdOjQQdnXsWNHXL161Vyt0l2CAU3UAklJSY3e7uzsjMrKSmW7srISzs7Opm6L7jJc4iAygYEDB+LixYvK9qVLlzBgwAALdkTWiGfQRAaytbVFTU0NdDod1Go1/vrrrwbrEhIS8Nxzz+HIkSMYOXIkcnNz4eXlha5du5q5Y7J2NryaHZFhdDodhg8fDrVajXfffbfRwK2rq8O7776LPn364MSJE1iyZInei4ZEhmBAExFJimvQRESSYkATEUmKAU1EJCkGNBGRpBjQRESS4vugDeTi4tLsy0UWFxfD1dXVNA2ZCecgB85BHq2dR05OjsEf+2dAG8jb2xspKSnNuo9arW72fWTDOciBc5BHa+ehVqsNruUSBxGRpBjQRESSYkCbUFBQkKVbaDXOQQ6cgzzMOQ9+1NtAd8v6GRFZVnOyhGfQRESSYkATEUmKAU1EJCkGNBGRpBjQRESSYkATEUmKAU1EJCkGNBGRpBjQRESSYkATEUmKAU1EJCkGNBGRpBjQRESSYkATEUmKAU1EJCkGNBGRpBjQRESSYkATEUmKAU1EJCkGNBGRpBjQRESSYkATEUmKAU1EJCkGNBGRpBjQRESSYkATEUmKAU1EJCkGNBGRpBjQRESSYkATEUlKZekGWqOwsBAffPABHn74YSQlJSEkJAQDBgyoVxcdHY2kpCQ4OzsjPz8fGo0GdnZ2ejVFRUUYOHAgLl++bK72iYgaZbVn0EIITJ48Gc888wwWLFiApUuXIjAwELW1tXp1qampCA4OxqpVqxAaGor27dsjPDxcr0an0+H999/HlStXzDkFIqJGWW1AHzp0COnp6QgICAAA+Pr6wtbWFtHR0Xp1Go0GY8aMgUp184+FKVOmYOvWrdBqtUrN1q1bMX36dLP1TkRkCKsN6MTERHTv3l1vqcLHxwcJCQn16vr27atXU1JSgrS0NADAsWPH4O7uDi8vL/M0TkRkIKsN6KKiIjg6Ourtc3JyQkFBQaN1Tk5OAICCggKUlpbi559/xpQpU5ocr7i4GGq1WvkvKirKCLMgontBVFSUkh3FxcUG389qXyRUqVSwtbXV26fT6Zqsu71m/fr1WL58uUHjubq6IiUlpYXdEtG9LCgoCEFBQQAAtVpt8P2s9gzazc0N5eXlevvKysrg7u7eaF1ZWRkAoHPnzli7di2cnZ3Rrl079OnTBwDQrl07fPzxxybunoioaVYb0GPHjkV2drbeGXFGRobyouHtdVlZWXo1Dg4OGDFiBGpqaqDVaqHVapGZmQkA0Gq1WLRokVnmQETUGKsNaH9/f3h5eeHw4cMAbgZvZWUlAgMDERkZifj4eADAvHnzEBcXh7q6OgBAbGwsZs+eDXt7e0u1TkRkEKtdg7axsUFMTAzCw8Nx5swZJCcnY//+/ejQoQMOHjyI6upqjBs3Dn5+fggLC0NwcDA8PDxQWloKjUZj6faJiJpkI4QQlm7CGqjVar5ISESt1pwssdolDiKiux0DmohIUgxoIiJJMaCJiCTFgCYikhQDmohIUgxoIiJJMaCJiCTFgCYikhQDmohIUgxoIiJJMaCJiCTFgCYikhQDmohIUgxoIiJJMaCJiCTFgCYikhQDmohIUgxoIiJJMaCJiCTFgCYikhQDmohIUgxoIiJJMaCJiCTFgCYikhQDmohIUgxoIiJJMaCJiCTFgCYikhQDmohIUgxoIiJJMaCJiCTFgCYikhQDmohIUgxoIiJJMaCJiCTFgCYikhQDmohIUgxoIiJJMaCJiCTFgCYikhQDmohIUgxoIiJJWXVAFxYWYsGCBdiyZQvmzJmDU6dONVgXHR2N0NBQrFmzBosWLUJNTY1y2+bNm9GtWzc4OzvjlVdeQXV1tbnaJyJqlNUGtBACkydPxjPPPIMFCxZg6dKlCAwMRG1trV5damoqgoODsWrVKoSGhqJ9+/YIDw8HABw8eBCXL19GXFwc1q5dix07duDDDz+0xHSIiOqx2oA+dOgQ0tPTERAQAADw9fWFra0toqOj9eo0Gg3GjBkDlUoFAJgyZQq2bt0KrVaL7OxshIeHw9fXF/Pnz8f06dPx66+/mnsqREQNstqATkxMRPfu3WFnZ6fs8/HxQUJCQr26vn376tWUlJQgLS0Nr776ql5tly5d0K1bN9M2TkRkIKsN6KKiIjg6Ourtc3JyQkFBQaN1Tk5OAFCvDgD+/PNPBAUFNThecXEx1Gq18l9UVFRrp0BE94ioqCglO4qLiw2+n8qEPZmUSqWCra2t3j6dTtdkXUM1APDHH39g8ODBUKvVDd7u6uqKlJSUVnRMRPeqoKAg5eTvThnTEKs9g3Zzc0N5ebnevrKyMri7uzdaV1ZWBgB6dRUVFfj222+xatUqE3ZMRNQ8VhvQY8eORXZ2tt4ZcUZGhvKi4e11WVlZejUODg4YPHgwAKC2thb/+c9/8N5776Ft27YAoPc2PCIiS7HagPb394eXlxcOHz4M4GbwVlZWIjAwEJGRkYiPjwcAzJs3D3FxcairqwMAxMbGYvbs2bC3twcALFu2DI899hhyc3ORkZGB3bt3Izk52SJzIiK6ndWuQdvY2CAmJgbh4eE4c+YMkpOTsX//fnTo0AEHDx5EdXU1xo0bBz8/P4SFhSE4OBgeHh4oLS2FRqMBAKxYsQLr1q3DunXrlMft2rUr8vLyLDUtIiKFjRBCWLoJa6BWq/kiIRG1WnOyxGqXOIiI7nYMaCIiSTGgiYgkxYAmIpIUA5qISFIMaCIiSTGgiYgkxYAmIpIUA5qISFIMaCIiSTGgiYgkxYAmIpIUA5qISFIMaCIiSTGgiYgkxYAmIpIUA5qISFIMaCIiSTGgiYgkxYAmIpIUA5qISFIMaCIiSTGgiYgkxYAmIpIUA5qISFIMaCIiSTGgiYgkxYAmIpIUA5qISFIMaCIiSTGgiYgkxYAmIpKUUQP63Llzxnw4IqJ7mlEDOjw83JgPR0R0TzNqQO/evRufffaZMR+SiOieZdSA/uijjzBw4ECEhoYiLy+v3u0XLlww5nBERHc1owb0a6+9hqFDh2LVqlXYu3cvPvnkE73bt2/fbszhiIjuaiZ5F4dKpcKiRYuQlJQELy8v+Pr6wtfXF5s2bTLFcEREdyWVMR+soqICnTp1wu+//46XX34ZxcXFWLZsGTp16gQhBD7//HNjDkdEdFczakC//vrrcHR0xMcff4y5c+di/fr1cHR0VG6vra015nBERHc1owb0jh070KNHDxw4cACPPfZYvdvnz59vzOGIiO5qRg3oESNGID4+Hvfdd58xH5aI6J5k1BcJZ8+ezXAmIjISo55BL1iwAACQk5OD06dPo6KiAi4uLvDy8kLv3r2NORQAoLCwEB988AEefvhhJCUlISQkBAMGDKhXFx0djaSkJDg7OyM/Px8ajQZ2dnYAgF9//RX//e9/4e3tjbS0NGzYsEFv3ZyIyGKEEWVlZYlhw4aJjh07Ck9PT9G7d2/h5uYm7O3txZAhQ8S5c+eMNpZOpxNDhgwRBw4cEEIIcfr0aeHt7S1u3LihV5eSkiJ69Oih7H/77bfFO++8I4QQIi8vT3Tp0kWUlpYKIYTYvHmzmDlzZoPjDR061Gi9E9G9qzlZYtQljg8//BCRkZGoqKhAXl4ezp49i4sXL6KyshJr167F6tWrjTbWoUOHkJ6ejoCAAACAr68vbG1tER0drVen0WgwZswYqFQ3/1iYMmUKtm7dCq1Wi61bt6Jfv35wcnJSbtuzZw8uXbpktD6JiFrKqAH96KOPQq1W19vftm1bjBs3TglTY0hMTET37t2VpQoA8PHxQUJCQr26vn376tWUlJQgLS2t3m3u7u6wt7fH0aNHjdYnEVFLGXUNOiUlBY8//jgefPDBerfl5+cjKSkJc+bMMcpYRUVF9daKnZycUFBQ0GjdrbPlgoICFBUVwd/fv8nHaIn3951G+sW/Wv04RCQ3X3cHhAX2N8ljGzWg58yZAz8/P3Tq1AmdO3dG+/btIYRAUVERiouLsWvXLqONpVKpYGtrq7dPp9M1WXd7jaGPAQDFxcV6fx0EBQUhKCioRb0T0b0lKioKUVFRAG5miaGMGtA+Pj44e/YsfvnlF+Tk5KC4uBhOTk7o27cvRo8ejbZt2xptLDc3t3pLEWVlZejWrVu9uvLycr0a4OZyxj9vu3W7u7t7vfFcXV2RkpJicH+m+heViKzP7Sd0DS0D34nRP+r92WefYfz48cZ82AaNHTsWERER0Ol0aNPm5lJ6RkZGvSWUsWPHIisrS9nOyMiAg4MDBg8ejLFjxyIxMVG5LS8vD9XV1Rg9erTJ+yciaopRXySMiYnB+vXrERcXd8elAmPx9/eHl5cXDh8+DOBm8FZWViIwMBCRkZGIj48HAMybNw9xcXGoq6sDAMTGxmL27Nmwt7fHzJkz8fvvvytn0bGxsXjiiScaPIMmIjI3o55BL1myBMHBwcjOzkZUVBR0Oh3UajWGDx9uzGEAADY2NoiJiUF4eDjOnDmD5ORk7N+/Hx06dMDBgwdRXV2NcePGwc/PD2FhYQgODoaHhwdKS0uh0WgAAF5eXti5cydCQ0PRr18/HD9+nFfcIyJp2AghhCkHOH78OA4fPoyqqirMmDEDPXr0MOVwJqNWq5u1Bk1E1JDmZIlRz6DLysqUt7EJIZCQkIAvv/wSe/fuRZs2bXDp0iVs3rzZmEMSEd21jLoGvWbNGvzxxx9466230LVrVzz11FMoLy/HZ599hsuXLzOciYiawahLHG3atIGNjQ169uyJ0NBQTJ06VTmjtnZc4iAiY2hOlhj9o96ZmZnYuHEjKioqsHfv3ma9KZuIiP6fUdegly1bhl69eqFXr16YNGkSqqqqsH//fly5cgUuLi54+umneb1oIiIDGfUM+sknn9TbLikpQXZ2NrZt24YZM2bg+eefN+ZwRER3NaMG9MqVK1FeXo7t27cjICAA3bt3xxdffIHnn38e2dnZ+PHHH405HBHRXc2oLxI6OjqipqYGTk5OeP755zFr1qxmfe5cZnyRkIiMwWLvg+7atSs2bNiACRMmKNfHICKiljFqQIeEhGDixInGfEgionuWUU9zX3jhBWM+HBHRPY3rEEREkmJAExFJigFNRCQpBjQRkaQY0EREkmJAExFJigFNRCQpBjQRkaQY0EREkmJAExFJigFNRCQpBjQRkaQY0EREkmJAExFJigFNRCQpBjQRkaQY0EREkmJAExFJigFNRCQpBjQRkaQY0EREkmJAExFJigFNRCQpBjQRkaQY0EREkmJAExFJigFNRCQpBjQRkaQY0EREkmJAExFJigFNRCQpBjQRkaRUlm6gNaKjo5GUlARnZ2fk5+dDo9HAzs6uXl1NTQ2WL1+Obt26ITMzEwEBAZg2bRoAoLS0FK+++ioOHDgAFxcXRERE4NlnnzX3VIiI6rHaM+jU1FQEBwdj1apVCA0NRfv27REeHt5g7dKlS2FnZ4fFixdjw4YNCAkJwZkzZwAAK1euxAsvvIAjR45g2LBhmDlzJrKzs805FSKiBlltQGs0GowZMwYq1c0/AqZMmYKtW7dCq9Xq1VVUVGDLli2YNGkSAMDOzg4TJkzA5s2bUVFRAT8/PzzxxBMYOHAgPvvsM9jY2CA5Odns8yEi+ierDejExET07dtX2fbx8UFJSQnS0tL06lJTU6HVauvVJiQkoFOnTpgxY4ay/7777oOjoyO6detm+gkQETXBagO6qKgIjo6OyraTkxMAoKCgoF4dgHq1/6y7dV83Nzf4+/ubomUiomax2hcJVSoVbG1tlW2dTnfHOgAG1UZGRuLTTz+FjY1NvduKi4uhVquV7aCgIAQFBbWodyK6t0RFRSEqKgrAzSwxlJQBnZ+fj8GDB9/x9smTJ8PNzQ3l5eXKvrKyMgCAu7u7Xq2bmxsAoLy8HPfff79S+8+6+Ph4DBkyBEOHDm1wTFdXV6SkpDR/MkR0z7v9hO72E72mSBnQnp6euHr1aqM1QUFByMrKUrYzMjLg4OBQL9jVajU6deqErKwsDBs2TKkNCAhQak6dOoWCggLMnTsXAFBbW4u2bds2eCZNRGQuVrsGPW/ePMTFxaGurg4AEBsbi9mzZ8Pe3h7Xr1/HwoULUVlZCXt7e8yaNQv79u0DcDN84+Pj8dJLLwG4ebb+ySefwM/PDxkZGUhLS8Pq1ashhLDY3IiIAMBGWHES7dy5E8ePH4eHhwfOnTsHjUaDDh06IDc3F48++iiOHTuGbt26oaqqCsHBwejVqxdyc3MxdOhQzJ07V3mb3a33RN+ybNkyrF69Wm+fWq3mEgcRtVpzssSqA9qcGNBEZAzNyRKrXeIgIrrbMaCJiCTFgCYikhQDmohIUgxoIiJJMaCJiCTFgCYikhQDmohIUgxoIiJJMaCJiCTFgCYikhQDmohIUgxoIiJJMaCJiCTFgCYikhQDmohIUgxoIiJJMaCJiCTFgCYikhQDmohIUgxoIiJJMaCJiCTFgCYikhQDmohIUgxoIiJJMaCJiCTFgCYikhQDmohIUgxoIiJJMaCJiCTFgCYikhQDmohIUgxoIiJJMaCJiCTFgCYikhQDmohIUgxoIiJJMaCJiCTFgCYikhQDmohIUgxoIiJJMaCJiCTFgCYikpTK0g20RnR0NJKSkuDs7Iz8/HxoNBrY2dnVq6upqcHy5cvRrVs3ZGZmIiAgANOmTatX9+mnn+Lo0aPYsWOHGbonImqc1QZ0amoqgoODkZmZCZVKhZCQEISHh+ODDz6oV7t06VK0a9cOixcvRk1NDfr06YMBAwagX79+Ss2ZM2ewadMmDBo0yJzTICK6I6td4tBoNBgzZgxUqpv/xkyZMgVbt26FVqvVq6uoqMCWLVswadIkAICdnR0mTJiAzZs3KzVarRZ79uzBlClTzDcBIqImWG1AJyYmom/fvsq2j48PSkpKkJaWpleXmpoKrVZbrzYhIUHZ3rBhA15//XXTN01E1AxWG9BFRUVwdHRUtp2cnAAABQUF9eoA1Ku9VRcTE4ORI0fi/vvvN3XLRETNYrUBrVKpYGtrq2zrdLo71gFosDY3Nxe5ubkYNWpUk+MVFxdDrVYr/0VFRbWmfSK6h0RFRSnZUVxcbPD9pHyRMD8/H4MHD77j7ZMnT4abmxvKy8uVfWVlZQAAd3d3vVo3NzcAQHl5uXKWXFZWBnd3d8TExCAkJAQhISEAgNraWgghsHv3bly+fFnvrNvV1RUpKSnGmSAR3VOCgoIQFBQEAFCr1QbfT8qA9vT0xNWrVxutCQoKQlZWlrKdkZEBBweHesGuVqvRqVMnZGVlYdiwYUptQEAAFi9ejMWLFyu1K1euRE5ODt9mR0RSsNoljnnz5iEuLg51dXUAgNjYWMyePRv29va4fv06Fi5ciMrKStjb22PWrFnYt28fgJtnyfHx8XjppZcs2T4RUZOsNqD9/PwQFhaG4OBgrFu3DqWlpVizZg0AoKSkBDExMSgpKQEArFu3DsXFxVi/fj2WLFmC8PBwDB8+3JLtExE1yUYIISzdhDVQq9VcgyaiVmtOlljtGTQR0d2OAU1EJCkGNBGRpBjQRESSYkATEUmKAU1EJCkGNBGRpBjQRESSYkATEUmKAU1EJCkGNBGRpBjQRESSYkATEUmKAU1EJCkGNBGRpBjQRESSYkATEUmKAU1EJCkGNBGRpBjQRESSYkATEUmKAU1EJCkGNBGRpBjQRESSYkATEUmKAU1EJCkGNBGRpBjQRESSYkATEUmKAU1EJCkGNBGRpBjQJhQVFWXpFlqNc5AD5yAPc86DAW1Cd8MvJOcgB85BHgxoIiKCjRBCWLoJa+Di4gJvb+9m3ae4uBiurq6machMOAc5cA7yaO08cnJycPXqVYNqGdBERJLiEgcRkaRUlm6AiJpPCIG9e/ciMzMTQ4cOxcSJEy3d0l1Hq9Wiuroajo6OFuuBZ9CtUFhYiAULFmDLli2YM2cOTp061WBddHQ0QkNDsWbNGixatAg1NTVm7vTODJmDEALvvvsuunTpggcffBArVqywQKeNM/Rnccvp06fh6+trpu4MY+gcKisr8cQTT+D3339HaGioVOFs6BzWrVuHDRs24L333sPixYtRV1dn5k7vTKfT4YsvvoCPjw9+//33O9aZ5XktqEV0Op0YMmSIOHDggBBCiNOnTwtvb29x48YNvbqUlBTRo0cPZf/bb78t3nnnHbP32xBD57B9+3axefNmcerUKRERESEAiF27dlmi5QYZOo9bqqqqxNNPPy28vLzM2GXjmjOHp59+WkyfPt3cLTbJ0Dn88MMPYuHChcr23Llzpfp9unz5srhw4YIAIH766acGa8z1vGZAt9DBgwdFu3btRHV1tbKvd+/e4rvvvtOrmzFjhnjxxReV7cTERNG5c2fx999/m63XOzF0Dlu2bNHbHj16tHjllVfM0qMhDJ3HLatWrRLR0dFSBbShc4iLixMARG5urrlbbJKhc1i7dq2YMWOGsv3GG2+IjRs3mq1PQzUW0OZ6XnOJo4USExPRvXt32NnZKft8fHyQkJBQr65v3756NSUlJUhLSzNbr3di6BxeffVVve0uXbqgW7duZunREIbOAwD27t2Lxx57zKLrig0xdA5fffUVXFxcsHHjRowaNQojRozA6dOnzd1ugwydw5NPPono6Gjs3LkTOTk5SE9Px6xZs8zdbquY63nNgG6hoqKiek9yJycnFBQUNFrn5OQEAPXqLMHQOfxTZmYm5syZY8rWmsXQeVy4cAFFRUUYMWKEOdsziKFzOHnyJMaPH49169bh6NGj8PPzw3PPPQedTmfOdhtk6Bz69++PHTt2YP78+ZgwYQK+/PJL3H///eZstdXM9bxmQLeQSqWCra2t3r6GniT/rJPhiXSLoXO43Y8//oiXX34ZHh4epmytWQyZx40bNxAVFVXvrwFZGPqzqKqqwsiRI5XtV199Fenp6cjOzjZ5j01pzu9TXl4ewsLCcOPGDYwaNQpFRUXmaNFozPW8ZkC3kJubG8rLy/X2lZWVwd3dvdG6srIyAKhXZwmGzuGWixcv4sSJE1i4cKE52jOYIfNIT0+HRqNB+/bt0a5dOzz++OPIzc1Fu3btsG/fPnO3XI+hP4suXbqgsrJS2fb09AQAXLt2zfRNNsHQOXz//fdISEjAO++8g+PHj8POzg4hISHmbLXVzPW8ZkC30NixY5Gdna33L2dGRgYCAgLq1WVlZenVODg4YPDgweZq9Y4MnQMAVFRU4PPPP8c777yj7JPl7YKGzGPgwIGorq6GVquFVqvFwYMH4eXlBa1Wi8DAQAt0rc/Qn8Xo0aNx7tw5ZVur1cLGxqbZlyEwBUPnEB8fj/79+wMAnJ2dsWLFCqSmppqz1VYz1/OaAd1C/v7+8PLywuHDhwHc/AFVVlYiMDAQkZGRiI+PBwDMmzcPcXFxyvs8Y2NjMXv2bNjb21uqdYWhc6ipqcHSpUvx1FNP4ezZszhz5gw2b96MvLw8C3b//wydh8wMncMLL7yAAwcO4O+//wYA/PLLL5g8eTIeeOABS7WuMHQOgwYNwsmTJ5X7abVaDB061BIt31FDSxaWeF7zk4QtZGNjg5iYGISHh+PMmTNITk7G/v370aFDBxw8eBDV1dUYN24c/Pz8EBYWhuDgYHh4eKC0tBQajcbS7QMwfA4vvfQSvvrqK0RGRir39ff3l2apw9B5yMzQOfTs2RMbNmxAUFAQHnroIWRlZWH79u2Wbh+A4XOYP38+Lly4gDfeeAPe3t44d+6cNM8JALhy5Qo++eQTADffNdO1a1f069fPIs9rXiyJiEhSXOIgIpIUA5qISFIMaCIiSTGgiYgkxYAmIjKQVqut92EcU2JAExE1wdBrRN9SWlqKN998ExEREZg2bRoSExNbNC7fB01E1ISrV69izJgxyM/PN6j+tddew9y5czFp0iTk5uZiyJAhyM7ObvZVFHkGTUTUhAceeMDgj9OXlJRgz549GDJkCADAy8sL3t7e+PTTT5s9Ls+giczg7Nmz8PHxsXQbZGRHjx5FbGwszp8/j5qaGnz55Zc4f/48hBBo3769Uufp6Yk//vij2Y/PM2gyqaqqKr2rr1kTY/V++0fkW2v37t146623kJSU1Oz7WvJncaexq6qqsHr1atTW1lqgq9a5fv06tmzZgn//+9/49ttvkZWVhbVr16Jz584AoHdRK0dHR1y5cqXZYzCgCQDw008/YebMmbCxscHixYsRERGBsLAwzJw5E5s2bYIhVwSoq6vDn3/+qWzv27cPQ4YMwYcfftjsHp577jmzXp+htb3fyaFDh9CxY0ejnT0/++yzSEtLQ2ZmZrPuZ6z5NOWfx7Gpsdu3b4/p06cjPDzcpH2Zwv79+1FUVISIiAhERERg4MCBqKmpQc+ePTF06FCsX78ewM0rQf7xxx9KcDcHlzgIADBhwgT07t0bX3/9NZYvX44uXboAuPm2Ii8vL1RVVSE0NLTRxzhz5gz+/PNPDBpXTCrWAAAHgklEQVQ0CAAQGBiIlJSUFvWwdu1as15Cs7W938lHH32EH374odWPc4tKpWrRNYeNNZ+m/PM4GjJ2jx49UFlZifT0dOm+ab0xubm5GD58OJYuXVrvtujoaISEhGDq1Knw8/PDX3/91aJv8uEZNDWqXbt26NGjR5NvEyopKcHy5cvr7bexsTFVa0Zjqt5PnjyJrl27QqWS4zzI1D+LOx1HQ8aeMWOGUZeCzKFz587KpVVvOX78OADAw8MDX3/9Nb7//nuMHDkSV65cwfTp05s9hhy/OSStixcvIjMzU7lQ/8aNG3HfffehtrYWhYWFCAsLg62tLWJjY1FYWIj//e9/KCoqwuOPP668il1ZWYldu3ZBp9MhOjoaX375JTp06NDinr777jtkZmbC09MTSUlJiIiIwNGjR7F8+XJMnToVPXr0gBCi3ljR0dE4ffo07O3tcfbsWYwcORIHDhzApEmTTNL7oUOHMGzYML19ycnJ2LVrFx5++GHk5+dj1KhRmDBhAo4ePYojR47Ay8sL58+fx7hx4zBq1CgAwG+//Ybdu3dj+PDh0Ol0yM7O1rsIfkPH49Z35MlyHJs6loMHD8a8efMMOq6W8s9rRE+aNAkLFy7EihUr8NprryE9PR3Jycl6c9ZqtQgKCsL69etbds1uo35HOFm1CxcuCABi9erVYsuWLWLjxo1i5cqVIi0tTQghhFarFfb29iInJ0cIIURQUJDYunWrcv+5c+eKzz//XO8xw8LCxOjRo5XtwMBA8f333zfZw4ULFxq8PTk5WYwYMULZ3rBhgwgJCRFCCLFixQrx1FNPNThWSUmJcHFxETdu3BBCCOHj4yPS0tKEVqs1Wu//tGTJEvHjjz8q25cuXRJubm6isLBQCCFERESEeP/990VmZqZQq9VKnU6nE4MGDRLnzp0TBQUFws3NTVy8eFG5feLEiUqvjR2PfwoLCxNhYWFN3s/Yx/HW2E0dy379+onr16832LulXb58WaxatUoAEC+88IJIT08XQgjx7bffiu7duwtHR0cxf/585TgIIURBQYEYP368iIyMbPG4PIOmeqZNm4ZevXrV229vb4+UlBQcOXIEwM3vYbt06VKTj3f7GYWzszP++uuvZveUkZGB7t2745tvvkHHjh0RHR0N4OYSjIuLCwCgbdu2el85dPtYOTk5sLW1VZYbOnfujIyMDDz00EMm6/369eto166dsv3999/D09NTWUO+taa/YsUKDBgwQKmzsbFBnz59sGvXLri4uMDT0xNubm7K7R07dlT+v7Hj0RhzH0eg6WN5//33o7y8vFV/XZnKAw88gOXLl9dbwpk2bRqmTZtWr/67777DpUuXsGPHDnTt2rXF4zKgyWAXLlzAtGnTsGnTJowfP175JumamhrY2dnp1R47dgyPPPIIgJtP+NaKiYlBSEgI2rRpAycnJ0yZMqXBujuN1b9/f3Ts2BFXrlyBk5MTKioqGvzuRWP27uLigtLSUmW7rq6uwa9SqqyshFar1dt348YN5Tsf77vvvjuO0dTxaOn9jH0cG3vMWyorK+Hg4GDYBCTXUGi3BF8kJIP98MMP6N+/P8aPHw8AyncSfvPNNwAABwcH5duNMzIyjDauVqvFL7/8AhsbG8yZMwfHjh1TvpNPp9MZ9JVP9vb2GD9+PL777jt88skn+OGHH+Dq6qrcborefX199b638ZlnnkFOTg4uXLig7Nu9ezdmz56N06dPK29l1Ol0OHnyJGbOnIl//etfOH/+PCoqKgAAQghcvHhR+S68lh4PGY9jTU2N3l8HBLRduXLlSks3QZZ36NAhaDQanDx5EsXFxWjfvj169+6tV+Ph4YGff/4ZOp0OmZmZ6Nu3L/bs2QO1Wo2HH34Y3t7e2LlzJ65evYpHH30UKSkp2LZtG86dOwdPT0+kpqZi586dyMvLQ69eveDp6XnHHrRaLU6dOoXY2Fi8+eabUKlUePHFF/Hggw9iwIAB+Oijj5Cfn4+kpCQ8//zzOHz4MLZt24azZ8/Cw8NDeTHu9rEiIyNx4MABnDhxAkeOHEFeXh78/f3Rtm3bVvfeEA8PD3z88cfKq/eOjo549NFHsX79ely5cgXHjx/HI488ggEDBqBnz574+uuvkZmZiZiYGCxatAgjRoyAg4MDhg0bBo1Gg2vXruHEiRM4deoUUlNT0adPHwwbNqzB43H7p9iAm19qems+Hh4eGDlypFmO4wMPPKA39p2OZUFBAVJTU/Hcc8+18jf57sLvJKR7wu7du1FYWIg33ngDbdq0wdWrV7Fx40Y4ODjg7bffNtm4CxYswHvvvae3hmzNTHUct23bBhcXF0ydOtWI3Vo/LnHQPeHEiRPw8/ND27ZtYWNjA1dXV0ycOBHXrl0z6bjvvfceNm3aZNIxzMkUx7G2tha//PILw7kBPIOme0JFRQW2bduGTp06oUOHDqiqqkJFRQVeeeUVk697/vnnn8jPz0dgYKBJxzEHUxzHDz/8EM8++yy6d+9u5G6tHwOaiCzm77//xtWrVw1a078XMaCJiCTFNWgiIkkxoImIJMWAJiKS1P8BryR7QPgskU0AAAAASUVORK5CYII=\"><br>"
      ],
      "text/plain": [
       "<yt.visualization.line_plot.LinePlot at 0x7f3e15655208>"
      ]
     },
     "metadata": {},
     "output_type": "display_data"
    }
   ],
   "source": [
    "linePlotT0(\"w0y\",ds0Path)"
   ]
  },
  {
   "cell_type": "code",
   "execution_count": 40,
   "metadata": {},
   "outputs": [
    {
     "name": "stderr",
     "output_type": "stream",
     "text": [
      "/data/njt132/anaconda3/lib/python3.7/site-packages/matplotlib/ticker.py:2241: UserWarning: Data has no positive values, and therefore cannot be log-scaled.\n",
      "  \"Data has no positive values, and therefore cannot be \"\n"
     ]
    },
    {
     "data": {
      "text/html": [
       "<img style=\"max-width:100%%;max-height:100%%;\" src=\"data:image/png;base64,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\"><br>"
      ],
      "text/plain": [
       "<yt.visualization.line_plot.LinePlot at 0x7f3e1548e9b0>"
      ]
     },
     "metadata": {},
     "output_type": "display_data"
    }
   ],
   "source": [
    "linePlotT0(\"w0x\",ds0Path)"
   ]
  },
  {
   "cell_type": "markdown",
   "metadata": {},
   "source": [
    "### full / perturbational state (2D) initial conditions"
   ]
  },
  {
   "cell_type": "code",
   "execution_count": 41,
   "metadata": {},
   "outputs": [],
   "source": [
    "# here!"
   ]
  },
  {
   "cell_type": "markdown",
   "metadata": {},
   "source": [
    "## Base state evolution"
   ]
  },
  {
   "cell_type": "markdown",
   "metadata": {},
   "source": [
    "I spent way too long trying to embedd these in the notebook as a persistent html5/javascript animation but it doesn't seem fesiable.\n",
    "\n",
    "This would be desirable because, for our meetings, I could just export each notebook as a html file, then have a good record of each simulation with all the figures etc encapsulated.\n",
    "\n",
    "The alternative is to just plot hundreds of figures, and embedd them, but its a bit hard to digest"
   ]
  },
  {
   "cell_type": "markdown",
   "metadata": {},
   "source": [
    "#### Base state evolution - plot all as individual frames\n",
    "uncomment relevant calls to see"
   ]
  },
  {
   "cell_type": "code",
   "execution_count": 7,
   "metadata": {},
   "outputs": [],
   "source": [
    "def linePlotFrames(tsPath,var,y0,y1,n):\n",
    "    ts = yt.load(tsPath)\n",
    "\n",
    "    for ds in ts:\n",
    "        plot = yt.LinePlot(ds,var,[0.,y0,0],[0.,y1,0],n)\n",
    "        plot.set_log(var, False)\n",
    "        plot.annotate_title(title = \"t = {}\".format(ds.current_time), field=var )\n",
    "        plot.show()"
   ]
  },
  {
   "cell_type": "code",
   "execution_count": 8,
   "metadata": {},
   "outputs": [],
   "source": [
    "y0 = 0.\n",
    "y1 = 1e9\n",
    "n = 64\n",
    "var = \"p0\"\n",
    "# linePlotFrames(tsPath,var,y0,y1,n)"
   ]
  },
  {
   "cell_type": "code",
   "execution_count": 9,
   "metadata": {},
   "outputs": [],
   "source": [
    "y0 = 0.\n",
    "y1 = 1e9\n",
    "n = 64\n",
    "var = \"rho0\"\n",
    "#linePlotFrames(tsPath,var,y0,y1,n)"
   ]
  },
  {
   "cell_type": "markdown",
   "metadata": {},
   "source": [
    "#### Base state evolution - plot all as individual frames with subtraction of t=0 value\n",
    "(normalisation based on var(z, t=0) possible)"
   ]
  },
  {
   "cell_type": "code",
   "execution_count": 10,
   "metadata": {},
   "outputs": [],
   "source": [
    "def basesubLinePlotFrames(tsPath,var, normalise=True):\n",
    "    ts = yt.load(tsPath)\n",
    "\n",
    "    ds0 = ts[0]\n",
    "    ray = ds0.ortho_ray(1, (0,0))\n",
    "    y = np.array(ray['y'])\n",
    "    linedata0 = np.array(ray[var])\n",
    "\n",
    "    for ds in ts:\n",
    "        ray = ds.ortho_ray(1, (0,0))\n",
    "        linedata = np.array(ray[var])\n",
    "        linedata = linedata - linedata0\n",
    "        if normalise:\n",
    "            linedata = linedata / linedata0\n",
    "        plt.plot(y, linedata, 'x')\n",
    "        plt.title(\"var = {}, t = {}\".format(var,ds.current_time))\n",
    "        plt.show()"
   ]
  },
  {
   "cell_type": "code",
   "execution_count": 11,
   "metadata": {},
   "outputs": [],
   "source": [
    "var = \"p0\"\n",
    "#basesubLinePlotFrames(tsPath,var, normalise=False)"
   ]
  },
  {
   "cell_type": "code",
   "execution_count": 12,
   "metadata": {},
   "outputs": [],
   "source": [
    "var = \"rho0\"\n",
    "#basesubLinePlotFrames(tsPath,var, normalise=True)"
   ]
  },
  {
   "cell_type": "code",
   "execution_count": 13,
   "metadata": {},
   "outputs": [],
   "source": [
    "var = \"w0y\"\n",
    "#basesubLinePlotFrames(tsPath,var, normalise=False)"
   ]
  },
  {
   "cell_type": "markdown",
   "metadata": {},
   "source": [
    "#### Base state evolution - construct time-distance diagrams"
   ]
  },
  {
   "cell_type": "code",
   "execution_count": 14,
   "metadata": {},
   "outputs": [],
   "source": [
    "def basesubTimeDistance(tsPath, var, normalise = True):\n",
    "    ts = yt.load(tsPath)\n",
    "\n",
    "    ds0= ts[0]\n",
    "    ray = ds0.ortho_ray(1, (0,0))\n",
    "    y = np.array(ray['y'])\n",
    "    linedata0 = np.array(ray[var])\n",
    "\n",
    "    dataArr = np.zeros([y.size,len(ts)], dtype='double' )\n",
    "    time = []\n",
    "    for i, ds in enumerate(ts):\n",
    "        ray = ds.ortho_ray(1, (0,0))\n",
    "        linedata = np.array(ray[var])\n",
    "        linedata = linedata - linedata0\n",
    "        if normalise:\n",
    "            linedata = linedata / linedata0\n",
    "        dataArr[:,i] = linedata\n",
    "        time.append(float(ds.current_time))\n",
    "\n",
    "\n",
    "    plt.contourf(time, y, dataArr, cmap=plt.cm.RdBu_r)\n",
    "    plt.xlabel('time')\n",
    "    plt.ylabel('y') \n",
    "    plt.title('var = {}'.format(var))\n",
    "    plt.colorbar()"
   ]
  },
  {
   "cell_type": "code",
   "execution_count": 15,
   "metadata": {},
   "outputs": [
    {
     "data": {
      "image/png": "[encoded data removed]",
      "text/plain": [
       "<Figure size 432x288 with 2 Axes>"
      ]
     },
     "metadata": {
      "needs_background": "light"
     },
     "output_type": "display_data"
    }
   ],
   "source": [
    "var = \"p0\"\n",
    "basesubTimeDistance(tsPath,var, normalise=True)"
   ]
  },
  {
   "cell_type": "code",
   "execution_count": 16,
   "metadata": {},
   "outputs": [
    {
     "data": {
      "image/png": "[encoded data removed]",
      "text/plain": [
       "<Figure size 432x288 with 2 Axes>"
      ]
     },
     "metadata": {
      "needs_background": "light"
     },
     "output_type": "display_data"
    }
   ],
   "source": [
    "var = \"rho0\"\n",
    "basesubTimeDistance(tsPath,var, normalise=True)"
   ]
  },
  {
   "cell_type": "code",
   "execution_count": 17,
   "metadata": {},
   "outputs": [
    {
     "data": {
      "image/png": "[encoded data removed]",
      "text/plain": [
       "<Figure size 432x288 with 2 Axes>"
      ]
     },
     "metadata": {
      "needs_background": "light"
     },
     "output_type": "display_data"
    }
   ],
   "source": [
    "var = \"w0y\"\n",
    "basesubTimeDistance(tsPath,var, normalise=False)"
   ]
  },
  {
   "cell_type": "markdown",
   "metadata": {},
   "source": [
    "## Measured Periods\n"
   ]
  },
  {
   "cell_type": "code",
   "execution_count": 48,
   "metadata": {},
   "outputs": [],
   "source": [
    "# Red is data\n",
    "# Blue is expected \n",
    "\n",
    "def quickProbePlot(tsPath,kv_int=2,kh_int=4, cx = 1e9/2, cy = 1e9/2, var='rhopert'):\n",
    "    \n",
    "    ts = yt.load(tsPath) # I'd love a way to make this quiet\n",
    "    pointdata  = []\n",
    "    time = []\n",
    "    for ds in ts:\n",
    "        pointdata.append(ds.point([cx, cy, 0.])[var].value[0])\n",
    "        time.append(float(ds.current_time))\n",
    "    \n",
    "    \n",
    "    gamma = 5./3. \n",
    "    g = 3e4\n",
    "    H = 1e9\n",
    "    N2 = (gamma-1.)/gamma * g / H\n",
    "    kv = kv_int * np.pi  / H\n",
    "    kh = kh_int * np.pi / H\n",
    "    k2 = kv**2 + kh**2 \n",
    "    w2 = N2 * kh**2 / (k2 )\n",
    "    w = np.sqrt(w2)\n",
    "    \n",
    "    print('kh_int=',kh_int)\n",
    "    print('N=',np.sqrt(N2))\n",
    "    print('w(expected)=',w)\n",
    "\n",
    "    smoothTime = np.linspace(0,1e4,1e3)\n",
    "    fig = plt.figure()\n",
    "    ax = plt.axes()\n",
    "    ax.plot(time, pointdata, '+r', time, pointdata, 'r',\n",
    "        smoothTime, pointdata[0] * np.cos(-w * smoothTime), 'b')\n",
    "\n",
    "    plt.show()\n",
    "    \n",
    "    return"
   ]
  },
  {
   "cell_type": "code",
   "execution_count": 21,
   "metadata": {},
   "outputs": [
    {
     "name": "stdout",
     "output_type": "stream",
     "text": [
      "kh_int= 4\n",
      "N= 0.0034641016151377548\n",
      "w(expected)= 0.0030983866769659332\n"
     ]
    },
    {
     "name": "stderr",
     "output_type": "stream",
     "text": [
      "/data/njt132/anaconda3/lib/python3.7/site-packages/ipykernel_launcher.py:25: DeprecationWarning: object of type <class 'float'> cannot be safely interpreted as an integer.\n"
     ]
    },
    {
     "data": {
      "image/png": "[encoded data removed]",
      "text/plain": [
       "<Figure size 432x288 with 1 Axes>"
      ]
     },
     "metadata": {
      "needs_background": "light"
     },
     "output_type": "display_data"
    }
   ],
   "source": [
    "quickProbePlot(tsPath)"
   ]
  },
  {
   "cell_type": "markdown",
   "metadata": {},
   "source": [
    "## Timestep history \n",
    "\n",
    "(This only works as intended if have dumped at every cycle, which outside of testing is unlikely)"
   ]
  },
  {
   "cell_type": "code",
   "execution_count": 46,
   "metadata": {},
   "outputs": [],
   "source": [
    "def quickTimeDtPlot(tsPath):\n",
    "    ts = yt.load(tsPath) # I'd love a way to make this quiet\n",
    "    time = []\n",
    "    for ds in ts:\n",
    "        time.append(float(ds.current_time))\n",
    "\n",
    "    dt = []\n",
    "    for it, t in enumerate(time):\n",
    "        try:\n",
    "            dt.append(time[it+1]-t)\n",
    "        except: # to avoid indexing oob on the last snapshot\n",
    "            continue\n",
    "\n",
    "    time.pop(); # remove the last element\n",
    "\n",
    "    fig = plt.figure()\n",
    "    ax = plt.axes()\n",
    "    ax.plot(dt,'+')\n",
    "    plt.xlabel('time step')\n",
    "    plt.ylabel('dt')\n",
    "    plt.show()"
   ]
  },
  {
   "cell_type": "code",
   "execution_count": 47,
   "metadata": {},
   "outputs": [
    {
     "data": {
      "image/png": "[encoded data removed]",
      "text/plain": [
       "<Figure size 432x288 with 1 Axes>"
      ]
     },
     "metadata": {
      "needs_background": "light"
     },
     "output_type": "display_data"
    }
   ],
   "source": [
    "quickTimeDtPlot(tsPath)"
   ]
  },
  {
   "cell_type": "markdown",
   "metadata": {},
   "source": [
    "## 2D Movies"
   ]
  },
  {
   "cell_type": "markdown",
   "metadata": {},
   "source": [
    "`quick2DMov` will display inline if save is false (default), or save to the outdir if true"
   ]
  },
  {
   "cell_type": "code",
   "execution_count": 13,
   "metadata": {},
   "outputs": [],
   "source": [
    "import re # to provide a function to auto-escape special chars in the var name string\n",
    "\n",
    "def quick2DMov(var,tsPath,outDir,save=False):\n",
    "    \n",
    "    if save:\n",
    "        # make a subdirectory for the particular variable name\n",
    "        args= \" -p \" + outDir + '/' + re.escape(var)\n",
    "        %mkdir $args # the magick will only work in ipython / jupyter - do something smarter in normal scripts\n",
    "\n",
    "        # remove any existing png in that dir\n",
    "        args= \" \" + outDir + re.escape(var) + '/*.png'\n",
    "        %rm $args\n",
    "\n",
    "    ts = yt.load(tsPath)\n",
    "    \n",
    "    filePath = outDir + '/' + re.escape(var) + \"/\" \n",
    "    filenum = 0\n",
    "    for ds in ts:\n",
    "        plot = yt.SlicePlot(ds, \"z\", var)\n",
    "        plot.set_log(var, False);\n",
    "        plot.set_cmap(field=var, cmap='RdBu')\n",
    "        plot.annotate_title(\"t = {}\".format(ds.current_time) )\n",
    "        fileName = \"{}{:04}.png\".format(filePath,filenum)\n",
    "        if save:\n",
    "            plot.save(name=fileName)\n",
    "        else:\n",
    "            plot.show()\n",
    "        filenum = filenum + 1\n",
    "\n",
    "    return\n",
    "    "
   ]
  },
  {
   "cell_type": "markdown",
   "metadata": {},
   "source": [
    "This snippet will *save* animations for *all* variables in the plotfile at all times (and likely take a long time!)"
   ]
  },
  {
   "cell_type": "code",
   "execution_count": 15,
   "metadata": {},
   "outputs": [],
   "source": [
    "# for item in ds0.field_list:\n",
    "#     var = item[1]\n",
    "#     print('saving var={}'.format(var))\n",
    "#     try:\n",
    "#         quick2DMov(var, tsPath, outDir, save=True)\n",
    "#     except:\n",
    "#         print('something went wrong (possibly to do with escaping special characters)')\n",
    "#         pass"
   ]
  },
  {
   "cell_type": "code",
   "execution_count": 10,
   "metadata": {},
   "outputs": [
    {
     "data": {
      "text/plain": [
       "[('boxlib', 'Hnuc'),\n",
       " ('boxlib', 'MachNumber'),\n",
       " ('boxlib', 'Pi'),\n",
       " ('boxlib', 'S'),\n",
       " ('boxlib', 'X(A)'),\n",
       " ('boxlib', 'abar'),\n",
       " ('boxlib', 'conductivity'),\n",
       " ('boxlib', 'deltaT'),\n",
       " ('boxlib', 'deltagamma'),\n",
       " ('boxlib', 'deltap'),\n",
       " ('boxlib', 'divw0'),\n",
       " ('boxlib', 'entropy'),\n",
       " ('boxlib', 'entropypert'),\n",
       " ('boxlib', 'gpix'),\n",
       " ('boxlib', 'gpiy'),\n",
       " ('boxlib', 'h'),\n",
       " ('boxlib', 'h0'),\n",
       " ('boxlib', 'magvel'),\n",
       " ('boxlib', 'momentum'),\n",
       " ('boxlib', 'omegadot(A)'),\n",
       " ('boxlib', 'p0'),\n",
       " ('boxlib', 'p0pluspi'),\n",
       " ('boxlib', 'pioverp0'),\n",
       " ('boxlib', 'rho'),\n",
       " ('boxlib', 'rho0'),\n",
       " ('boxlib', 'rhoX(A)'),\n",
       " ('boxlib', 'rhoh'),\n",
       " ('boxlib', 'rhoh0'),\n",
       " ('boxlib', 'rhohpert'),\n",
       " ('boxlib', 'rhopert'),\n",
       " ('boxlib', 'tfromh'),\n",
       " ('boxlib', 'tfromp'),\n",
       " ('boxlib', 'thermal'),\n",
       " ('boxlib', 'tpert'),\n",
       " ('boxlib', 'velx'),\n",
       " ('boxlib', 'vely'),\n",
       " ('boxlib', 'vort'),\n",
       " ('boxlib', 'w0x'),\n",
       " ('boxlib', 'w0y')]"
      ]
     },
     "execution_count": 10,
     "metadata": {},
     "output_type": "execute_result"
    }
   ],
   "source": [
    "ds0.field_list"
   ]
  },
  {
   "cell_type": "code",
   "execution_count": 16,
   "metadata": {},
   "outputs": [],
   "source": [
    "# This snippet will save a chosen list of variables"
   ]
  },
  {
   "cell_type": "code",
   "execution_count": 14,
   "metadata": {},
   "outputs": [
    {
     "name": "stdout",
     "output_type": "stream",
     "text": [
      "saving var=MachNumber\n",
      "saving var=rho\n",
      "saving var=rhoh\n",
      "rm: cannot remove '../single_level/post/rhoh/*.png': No such file or directory\n",
      "saving var=rhopert\n",
      "rm: cannot remove '../single_level/post/rhopert/*.png': No such file or directory\n",
      "saving var=velx\n",
      "rm: cannot remove '../single_level/post/velx/*.png': No such file or directory\n",
      "saving var=vely\n",
      "rm: cannot remove '../single_level/post/vely/*.png': No such file or directory\n",
      "saving var=vort\n",
      "rm: cannot remove '../single_level/post/vort/*.png': No such file or directory\n",
      "saving var=Pi\n"
     ]
    }
   ],
   "source": [
    "# varlist = ['MachNumber', 'rho', 'rhoh', 'rhopert', 'velx','vely','vort', 'Pi']\n",
    "varlist = ['rho', 'rhopert', 'velx','vely', 'Pi']\n",
    "\n",
    "for var in varlist:\n",
    "    print('saving var={}'.format(var))\n",
    "    try:\n",
    "        quick2DMov(var, tsPath, outDir, save=True)\n",
    "    except:\n",
    "        print('something went wrong')\n",
    "        pass"
   ]
  },
  {
   "cell_type": "code",
   "execution_count": null,
   "metadata": {},
   "outputs": [],
   "source": []
  }
 ],
 "metadata": {
  "kernelspec": {
   "display_name": "Python 3",
   "language": "python",
   "name": "python3"
  },
  "language_info": {
   "codemirror_mode": {
    "name": "ipython",
    "version": 3
   },
   "file_extension": ".py",
   "mimetype": "text/x-python",
   "name": "python",
   "nbconvert_exporter": "python",
   "pygments_lexer": "ipython3",
   "version": "3.7.1"
  }
 },
 "nbformat": 4,
 "nbformat_minor": 2
}
